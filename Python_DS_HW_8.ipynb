{
 "cells": [
  {
   "cell_type": "code",
   "id": "initial_id",
   "metadata": {
    "collapsed": true,
    "ExecuteTime": {
     "end_time": "2024-11-22T09:26:33.403116Z",
     "start_time": "2024-11-22T09:26:33.400124Z"
    }
   },
   "source": [
    "import pandas as pd\n",
    "import numpy as np\n",
    "import matplotlib.pyplot as plt\n",
    "import seaborn as sns"
   ],
   "outputs": [],
   "execution_count": 257
  },
  {
   "metadata": {
    "ExecuteTime": {
     "end_time": "2024-11-22T09:26:33.496308Z",
     "start_time": "2024-11-22T09:26:33.487253Z"
    }
   },
   "cell_type": "code",
   "source": [
    "df = pd.read_csv('Sleep_health_and_lifestyle_dataset.csv')\n",
    "df.head()"
   ],
   "id": "4f35657671b90777",
   "outputs": [
    {
     "data": {
      "text/plain": [
       "   Person ID Gender  Age            Occupation  Sleep Duration  \\\n",
       "0          1   Male   27     Software Engineer             6.1   \n",
       "1          2   Male   28                Doctor             6.2   \n",
       "2          3   Male   28                Doctor             6.2   \n",
       "3          4   Male   28  Sales Representative             5.9   \n",
       "4          5   Male   28  Sales Representative             5.9   \n",
       "\n",
       "   Quality of Sleep  Physical Activity Level  Stress Level BMI Category  \\\n",
       "0                 6                       42             6   Overweight   \n",
       "1                 6                       60             8       Normal   \n",
       "2                 6                       60             8       Normal   \n",
       "3                 4                       30             8        Obese   \n",
       "4                 4                       30             8        Obese   \n",
       "\n",
       "  Blood Pressure  Heart Rate  Daily Steps Sleep Disorder  \n",
       "0         126/83          77         4200            NaN  \n",
       "1         125/80          75        10000            NaN  \n",
       "2         125/80          75        10000            NaN  \n",
       "3         140/90          85         3000    Sleep Apnea  \n",
       "4         140/90          85         3000    Sleep Apnea  "
      ],
      "text/html": [
       "<div>\n",
       "<style scoped>\n",
       "    .dataframe tbody tr th:only-of-type {\n",
       "        vertical-align: middle;\n",
       "    }\n",
       "\n",
       "    .dataframe tbody tr th {\n",
       "        vertical-align: top;\n",
       "    }\n",
       "\n",
       "    .dataframe thead th {\n",
       "        text-align: right;\n",
       "    }\n",
       "</style>\n",
       "<table border=\"1\" class=\"dataframe\">\n",
       "  <thead>\n",
       "    <tr style=\"text-align: right;\">\n",
       "      <th></th>\n",
       "      <th>Person ID</th>\n",
       "      <th>Gender</th>\n",
       "      <th>Age</th>\n",
       "      <th>Occupation</th>\n",
       "      <th>Sleep Duration</th>\n",
       "      <th>Quality of Sleep</th>\n",
       "      <th>Physical Activity Level</th>\n",
       "      <th>Stress Level</th>\n",
       "      <th>BMI Category</th>\n",
       "      <th>Blood Pressure</th>\n",
       "      <th>Heart Rate</th>\n",
       "      <th>Daily Steps</th>\n",
       "      <th>Sleep Disorder</th>\n",
       "    </tr>\n",
       "  </thead>\n",
       "  <tbody>\n",
       "    <tr>\n",
       "      <th>0</th>\n",
       "      <td>1</td>\n",
       "      <td>Male</td>\n",
       "      <td>27</td>\n",
       "      <td>Software Engineer</td>\n",
       "      <td>6.1</td>\n",
       "      <td>6</td>\n",
       "      <td>42</td>\n",
       "      <td>6</td>\n",
       "      <td>Overweight</td>\n",
       "      <td>126/83</td>\n",
       "      <td>77</td>\n",
       "      <td>4200</td>\n",
       "      <td>NaN</td>\n",
       "    </tr>\n",
       "    <tr>\n",
       "      <th>1</th>\n",
       "      <td>2</td>\n",
       "      <td>Male</td>\n",
       "      <td>28</td>\n",
       "      <td>Doctor</td>\n",
       "      <td>6.2</td>\n",
       "      <td>6</td>\n",
       "      <td>60</td>\n",
       "      <td>8</td>\n",
       "      <td>Normal</td>\n",
       "      <td>125/80</td>\n",
       "      <td>75</td>\n",
       "      <td>10000</td>\n",
       "      <td>NaN</td>\n",
       "    </tr>\n",
       "    <tr>\n",
       "      <th>2</th>\n",
       "      <td>3</td>\n",
       "      <td>Male</td>\n",
       "      <td>28</td>\n",
       "      <td>Doctor</td>\n",
       "      <td>6.2</td>\n",
       "      <td>6</td>\n",
       "      <td>60</td>\n",
       "      <td>8</td>\n",
       "      <td>Normal</td>\n",
       "      <td>125/80</td>\n",
       "      <td>75</td>\n",
       "      <td>10000</td>\n",
       "      <td>NaN</td>\n",
       "    </tr>\n",
       "    <tr>\n",
       "      <th>3</th>\n",
       "      <td>4</td>\n",
       "      <td>Male</td>\n",
       "      <td>28</td>\n",
       "      <td>Sales Representative</td>\n",
       "      <td>5.9</td>\n",
       "      <td>4</td>\n",
       "      <td>30</td>\n",
       "      <td>8</td>\n",
       "      <td>Obese</td>\n",
       "      <td>140/90</td>\n",
       "      <td>85</td>\n",
       "      <td>3000</td>\n",
       "      <td>Sleep Apnea</td>\n",
       "    </tr>\n",
       "    <tr>\n",
       "      <th>4</th>\n",
       "      <td>5</td>\n",
       "      <td>Male</td>\n",
       "      <td>28</td>\n",
       "      <td>Sales Representative</td>\n",
       "      <td>5.9</td>\n",
       "      <td>4</td>\n",
       "      <td>30</td>\n",
       "      <td>8</td>\n",
       "      <td>Obese</td>\n",
       "      <td>140/90</td>\n",
       "      <td>85</td>\n",
       "      <td>3000</td>\n",
       "      <td>Sleep Apnea</td>\n",
       "    </tr>\n",
       "  </tbody>\n",
       "</table>\n",
       "</div>"
      ]
     },
     "execution_count": 258,
     "metadata": {},
     "output_type": "execute_result"
    }
   ],
   "execution_count": 258
  },
  {
   "metadata": {
    "ExecuteTime": {
     "end_time": "2024-11-22T09:26:33.515829Z",
     "start_time": "2024-11-22T09:26:33.509829Z"
    }
   },
   "cell_type": "code",
   "source": "df.info()",
   "id": "94cba060afcbc151",
   "outputs": [
    {
     "name": "stdout",
     "output_type": "stream",
     "text": [
      "<class 'pandas.core.frame.DataFrame'>\n",
      "RangeIndex: 374 entries, 0 to 373\n",
      "Data columns (total 13 columns):\n",
      " #   Column                   Non-Null Count  Dtype  \n",
      "---  ------                   --------------  -----  \n",
      " 0   Person ID                374 non-null    int64  \n",
      " 1   Gender                   374 non-null    object \n",
      " 2   Age                      374 non-null    int64  \n",
      " 3   Occupation               374 non-null    object \n",
      " 4   Sleep Duration           374 non-null    float64\n",
      " 5   Quality of Sleep         374 non-null    int64  \n",
      " 6   Physical Activity Level  374 non-null    int64  \n",
      " 7   Stress Level             374 non-null    int64  \n",
      " 8   BMI Category             374 non-null    object \n",
      " 9   Blood Pressure           374 non-null    object \n",
      " 10  Heart Rate               374 non-null    int64  \n",
      " 11  Daily Steps              374 non-null    int64  \n",
      " 12  Sleep Disorder           155 non-null    object \n",
      "dtypes: float64(1), int64(7), object(5)\n",
      "memory usage: 38.1+ KB\n"
     ]
    }
   ],
   "execution_count": 259
  },
  {
   "metadata": {},
   "cell_type": "markdown",
   "source": [
    "1. Данные о качестве сна содержат информацию по 13 характеристикам сна, всего 374 записей. \n",
    "2. В 11 признаках пропусков в данных нет, но в одном признаке Sleep Disorder всего 155 заполненных значений.\n",
    "3. Характеристика Sleep Duration имеет числовое значение (непрерывное числовое значение), тип float64.\n",
    "4. Характеристики Age, Quality of Sleep, Phusical Activity Level, Stress Level, Heart Rate, Daily Steps имеют целочисленное числовое значение тип int64.\n",
    "5. Характеристики Gender, Occupation, BMI category, Blood Pressure, Sleep Disorder фвлфютсф категориальными признаками, тип object."
   ],
   "id": "a82dc7ad920f88ea"
  },
  {
   "metadata": {
    "ExecuteTime": {
     "end_time": "2024-11-22T09:26:33.537785Z",
     "start_time": "2024-11-22T09:26:33.523486Z"
    }
   },
   "cell_type": "code",
   "source": "df.describe().T",
   "id": "ea7704bd8e91d670",
   "outputs": [
    {
     "data": {
      "text/plain": [
       "                         count         mean          std     min      25%  \\\n",
       "Person ID                374.0   187.500000   108.108742     1.0    94.25   \n",
       "Age                      374.0    42.184492     8.673133    27.0    35.25   \n",
       "Sleep Duration           374.0     7.132086     0.795657     5.8     6.40   \n",
       "Quality of Sleep         374.0     7.312834     1.196956     4.0     6.00   \n",
       "Physical Activity Level  374.0    59.171123    20.830804    30.0    45.00   \n",
       "Stress Level             374.0     5.385027     1.774526     3.0     4.00   \n",
       "Heart Rate               374.0    70.165775     4.135676    65.0    68.00   \n",
       "Daily Steps              374.0  6816.844920  1617.915679  3000.0  5600.00   \n",
       "\n",
       "                            50%      75%      max  \n",
       "Person ID                 187.5   280.75    374.0  \n",
       "Age                        43.0    50.00     59.0  \n",
       "Sleep Duration              7.2     7.80      8.5  \n",
       "Quality of Sleep            7.0     8.00      9.0  \n",
       "Physical Activity Level    60.0    75.00     90.0  \n",
       "Stress Level                5.0     7.00      8.0  \n",
       "Heart Rate                 70.0    72.00     86.0  \n",
       "Daily Steps              7000.0  8000.00  10000.0  "
      ],
      "text/html": [
       "<div>\n",
       "<style scoped>\n",
       "    .dataframe tbody tr th:only-of-type {\n",
       "        vertical-align: middle;\n",
       "    }\n",
       "\n",
       "    .dataframe tbody tr th {\n",
       "        vertical-align: top;\n",
       "    }\n",
       "\n",
       "    .dataframe thead th {\n",
       "        text-align: right;\n",
       "    }\n",
       "</style>\n",
       "<table border=\"1\" class=\"dataframe\">\n",
       "  <thead>\n",
       "    <tr style=\"text-align: right;\">\n",
       "      <th></th>\n",
       "      <th>count</th>\n",
       "      <th>mean</th>\n",
       "      <th>std</th>\n",
       "      <th>min</th>\n",
       "      <th>25%</th>\n",
       "      <th>50%</th>\n",
       "      <th>75%</th>\n",
       "      <th>max</th>\n",
       "    </tr>\n",
       "  </thead>\n",
       "  <tbody>\n",
       "    <tr>\n",
       "      <th>Person ID</th>\n",
       "      <td>374.0</td>\n",
       "      <td>187.500000</td>\n",
       "      <td>108.108742</td>\n",
       "      <td>1.0</td>\n",
       "      <td>94.25</td>\n",
       "      <td>187.5</td>\n",
       "      <td>280.75</td>\n",
       "      <td>374.0</td>\n",
       "    </tr>\n",
       "    <tr>\n",
       "      <th>Age</th>\n",
       "      <td>374.0</td>\n",
       "      <td>42.184492</td>\n",
       "      <td>8.673133</td>\n",
       "      <td>27.0</td>\n",
       "      <td>35.25</td>\n",
       "      <td>43.0</td>\n",
       "      <td>50.00</td>\n",
       "      <td>59.0</td>\n",
       "    </tr>\n",
       "    <tr>\n",
       "      <th>Sleep Duration</th>\n",
       "      <td>374.0</td>\n",
       "      <td>7.132086</td>\n",
       "      <td>0.795657</td>\n",
       "      <td>5.8</td>\n",
       "      <td>6.40</td>\n",
       "      <td>7.2</td>\n",
       "      <td>7.80</td>\n",
       "      <td>8.5</td>\n",
       "    </tr>\n",
       "    <tr>\n",
       "      <th>Quality of Sleep</th>\n",
       "      <td>374.0</td>\n",
       "      <td>7.312834</td>\n",
       "      <td>1.196956</td>\n",
       "      <td>4.0</td>\n",
       "      <td>6.00</td>\n",
       "      <td>7.0</td>\n",
       "      <td>8.00</td>\n",
       "      <td>9.0</td>\n",
       "    </tr>\n",
       "    <tr>\n",
       "      <th>Physical Activity Level</th>\n",
       "      <td>374.0</td>\n",
       "      <td>59.171123</td>\n",
       "      <td>20.830804</td>\n",
       "      <td>30.0</td>\n",
       "      <td>45.00</td>\n",
       "      <td>60.0</td>\n",
       "      <td>75.00</td>\n",
       "      <td>90.0</td>\n",
       "    </tr>\n",
       "    <tr>\n",
       "      <th>Stress Level</th>\n",
       "      <td>374.0</td>\n",
       "      <td>5.385027</td>\n",
       "      <td>1.774526</td>\n",
       "      <td>3.0</td>\n",
       "      <td>4.00</td>\n",
       "      <td>5.0</td>\n",
       "      <td>7.00</td>\n",
       "      <td>8.0</td>\n",
       "    </tr>\n",
       "    <tr>\n",
       "      <th>Heart Rate</th>\n",
       "      <td>374.0</td>\n",
       "      <td>70.165775</td>\n",
       "      <td>4.135676</td>\n",
       "      <td>65.0</td>\n",
       "      <td>68.00</td>\n",
       "      <td>70.0</td>\n",
       "      <td>72.00</td>\n",
       "      <td>86.0</td>\n",
       "    </tr>\n",
       "    <tr>\n",
       "      <th>Daily Steps</th>\n",
       "      <td>374.0</td>\n",
       "      <td>6816.844920</td>\n",
       "      <td>1617.915679</td>\n",
       "      <td>3000.0</td>\n",
       "      <td>5600.00</td>\n",
       "      <td>7000.0</td>\n",
       "      <td>8000.00</td>\n",
       "      <td>10000.0</td>\n",
       "    </tr>\n",
       "  </tbody>\n",
       "</table>\n",
       "</div>"
      ]
     },
     "execution_count": 260,
     "metadata": {},
     "output_type": "execute_result"
    }
   ],
   "execution_count": 260
  },
  {
   "metadata": {
    "ExecuteTime": {
     "end_time": "2024-11-22T09:26:33.555810Z",
     "start_time": "2024-11-22T09:26:33.547301Z"
    }
   },
   "cell_type": "code",
   "source": "df.describe(include='object')",
   "id": "59d9e44646d91877",
   "outputs": [
    {
     "data": {
      "text/plain": [
       "       Gender Occupation BMI Category Blood Pressure Sleep Disorder\n",
       "count     374        374          374            374            155\n",
       "unique      2         11            4             25              2\n",
       "top      Male      Nurse       Normal         130/85    Sleep Apnea\n",
       "freq      189         73          195             99             78"
      ],
      "text/html": [
       "<div>\n",
       "<style scoped>\n",
       "    .dataframe tbody tr th:only-of-type {\n",
       "        vertical-align: middle;\n",
       "    }\n",
       "\n",
       "    .dataframe tbody tr th {\n",
       "        vertical-align: top;\n",
       "    }\n",
       "\n",
       "    .dataframe thead th {\n",
       "        text-align: right;\n",
       "    }\n",
       "</style>\n",
       "<table border=\"1\" class=\"dataframe\">\n",
       "  <thead>\n",
       "    <tr style=\"text-align: right;\">\n",
       "      <th></th>\n",
       "      <th>Gender</th>\n",
       "      <th>Occupation</th>\n",
       "      <th>BMI Category</th>\n",
       "      <th>Blood Pressure</th>\n",
       "      <th>Sleep Disorder</th>\n",
       "    </tr>\n",
       "  </thead>\n",
       "  <tbody>\n",
       "    <tr>\n",
       "      <th>count</th>\n",
       "      <td>374</td>\n",
       "      <td>374</td>\n",
       "      <td>374</td>\n",
       "      <td>374</td>\n",
       "      <td>155</td>\n",
       "    </tr>\n",
       "    <tr>\n",
       "      <th>unique</th>\n",
       "      <td>2</td>\n",
       "      <td>11</td>\n",
       "      <td>4</td>\n",
       "      <td>25</td>\n",
       "      <td>2</td>\n",
       "    </tr>\n",
       "    <tr>\n",
       "      <th>top</th>\n",
       "      <td>Male</td>\n",
       "      <td>Nurse</td>\n",
       "      <td>Normal</td>\n",
       "      <td>130/85</td>\n",
       "      <td>Sleep Apnea</td>\n",
       "    </tr>\n",
       "    <tr>\n",
       "      <th>freq</th>\n",
       "      <td>189</td>\n",
       "      <td>73</td>\n",
       "      <td>195</td>\n",
       "      <td>99</td>\n",
       "      <td>78</td>\n",
       "    </tr>\n",
       "  </tbody>\n",
       "</table>\n",
       "</div>"
      ]
     },
     "execution_count": 261,
     "metadata": {},
     "output_type": "execute_result"
    }
   ],
   "execution_count": 261
  },
  {
   "metadata": {},
   "cell_type": "markdown",
   "source": "## Предобработка данных:",
   "id": "794b2c3cbc2a86e1"
  },
  {
   "metadata": {},
   "cell_type": "markdown",
   "source": [
    "- Очистите данные от пропусков и аномалий.\n",
    "- Преобразуйте категориальные переменные с помощью One-Hot Encoding или Label Encoding"
   ],
   "id": "ef151cd8f3fa237e"
  },
  {
   "metadata": {
    "ExecuteTime": {
     "end_time": "2024-11-22T09:26:33.570556Z",
     "start_time": "2024-11-22T09:26:33.566320Z"
    }
   },
   "cell_type": "code",
   "source": [
    "# изучим признак Sleep Disorder, имеющий припущенные значения\n",
    "df[\"Sleep Disorder\"].isna().sum()"
   ],
   "id": "7f16eea9253d121c",
   "outputs": [
    {
     "data": {
      "text/plain": [
       "np.int64(219)"
      ]
     },
     "execution_count": 262,
     "metadata": {},
     "output_type": "execute_result"
    }
   ],
   "execution_count": 262
  },
  {
   "metadata": {
    "ExecuteTime": {
     "end_time": "2024-11-22T09:26:33.623657Z",
     "start_time": "2024-11-22T09:26:33.619404Z"
    }
   },
   "cell_type": "code",
   "source": "df[\"Sleep Disorder\"].value_counts()",
   "id": "44737d4f6b175b88",
   "outputs": [
    {
     "data": {
      "text/plain": [
       "Sleep Disorder\n",
       "Sleep Apnea    78\n",
       "Insomnia       77\n",
       "Name: count, dtype: int64"
      ]
     },
     "execution_count": 263,
     "metadata": {},
     "output_type": "execute_result"
    }
   ],
   "execution_count": 263
  },
  {
   "metadata": {},
   "cell_type": "markdown",
   "source": "Данные содержат информацию по двум видам расстройства сна.",
   "id": "45c7b89f71e29d77"
  },
  {
   "metadata": {
    "ExecuteTime": {
     "end_time": "2024-11-22T09:26:33.651596Z",
     "start_time": "2024-11-22T09:26:33.646826Z"
    }
   },
   "cell_type": "code",
   "source": [
    "df[\"Sleep Disorder\"].fillna(\"No disorder\", inplace=True)\n",
    "df[\"Sleep Disorder\"].value_counts()"
   ],
   "id": "68c6c89d608a22f6",
   "outputs": [
    {
     "name": "stderr",
     "output_type": "stream",
     "text": [
      "C:\\Users\\Dell 5531\\AppData\\Local\\Temp\\ipykernel_22200\\2762153866.py:1: FutureWarning: A value is trying to be set on a copy of a DataFrame or Series through chained assignment using an inplace method.\n",
      "The behavior will change in pandas 3.0. This inplace method will never work because the intermediate object on which we are setting values always behaves as a copy.\n",
      "\n",
      "For example, when doing 'df[col].method(value, inplace=True)', try using 'df.method({col: value}, inplace=True)' or df[col] = df[col].method(value) instead, to perform the operation inplace on the original object.\n",
      "\n",
      "\n",
      "  df[\"Sleep Disorder\"].fillna(\"No disorder\", inplace=True)\n"
     ]
    },
    {
     "data": {
      "text/plain": [
       "Sleep Disorder\n",
       "No disorder    219\n",
       "Sleep Apnea     78\n",
       "Insomnia        77\n",
       "Name: count, dtype: int64"
      ]
     },
     "execution_count": 264,
     "metadata": {},
     "output_type": "execute_result"
    }
   ],
   "execution_count": 264
  },
  {
   "metadata": {
    "ExecuteTime": {
     "end_time": "2024-11-22T09:26:33.704907Z",
     "start_time": "2024-11-22T09:26:33.699559Z"
    }
   },
   "cell_type": "code",
   "source": [
    "duration_mean = df[\"Sleep Duration\"].groupby(df[\"Sleep Disorder\"]).mean()\n",
    "duration_mean"
   ],
   "id": "9095bf38ff69e98",
   "outputs": [
    {
     "data": {
      "text/plain": [
       "Sleep Disorder\n",
       "Insomnia       6.589610\n",
       "No disorder    7.358447\n",
       "Sleep Apnea    7.032051\n",
       "Name: Sleep Duration, dtype: float64"
      ]
     },
     "execution_count": 265,
     "metadata": {},
     "output_type": "execute_result"
    }
   ],
   "execution_count": 265
  },
  {
   "metadata": {},
   "cell_type": "markdown",
   "source": [
    "Предположим, что пропущенные значения  в признаке Sleep Disorder означают, что нарушения сна нет.\n",
    "Среднее значения продолжительности сна в данных, где данных о нарушении сна нет - 7,358 ч, в то время как средняя продолжительность сна при Апнеа - 7,03, а при бессонице 6, 59."
   ],
   "id": "7a6a5a25373f4575"
  },
  {
   "metadata": {
    "ExecuteTime": {
     "end_time": "2024-11-22T11:15:03.381891Z",
     "start_time": "2024-11-22T11:15:03.378563Z"
    }
   },
   "cell_type": "code",
   "source": "numeric_columns = [\"Age\", \"Physical Activity Level\", \"Stress Level\", \"Heart Rate\", \"Daily Steps\"]",
   "id": "c6c0e78628060413",
   "outputs": [],
   "execution_count": 308
  },
  {
   "metadata": {
    "ExecuteTime": {
     "end_time": "2024-11-22T11:15:05.103655Z",
     "start_time": "2024-11-22T11:15:04.977161Z"
    }
   },
   "cell_type": "code",
   "source": [
    "#Посчитаем матрицк корреляций между количественными признаками\n",
    "correlation_matrix = df[numeric_columns].corr()  \n",
    "# Heatmap\n",
    "plt.figure(figsize=(15, 8))\n",
    "sns.heatmap(correlation_matrix, annot=True, cmap='coolwarm', fmt='.2f')\n",
    "plt.title('Correlation Heatmap')\n",
    "plt.show()"
   ],
   "id": "f02c6671b99c4aa7",
   "outputs": [
    {
     "data": {
      "text/plain": [
       "<Figure size 1500x800 with 2 Axes>"
      ],
      "image/png": "[encoded data removed]"
     },
     "metadata": {},
     "output_type": "display_data"
    }
   ],
   "execution_count": 309
  },
  {
   "metadata": {
    "ExecuteTime": {
     "end_time": "2024-11-22T09:26:33.865698Z",
     "start_time": "2024-11-22T09:26:33.860814Z"
    }
   },
   "cell_type": "code",
   "source": "df['BMI Category'].value_counts()",
   "id": "8e57be9d845ed4e0",
   "outputs": [
    {
     "data": {
      "text/plain": [
       "BMI Category\n",
       "Normal           195\n",
       "Overweight       148\n",
       "Normal Weight     21\n",
       "Obese             10\n",
       "Name: count, dtype: int64"
      ]
     },
     "execution_count": 268,
     "metadata": {},
     "output_type": "execute_result"
    }
   ],
   "execution_count": 268
  },
  {
   "metadata": {
    "ExecuteTime": {
     "end_time": "2024-11-22T09:26:33.883726Z",
     "start_time": "2024-11-22T09:26:33.879421Z"
    }
   },
   "cell_type": "code",
   "source": [
    "df['BMI Category'] = df['BMI Category'].apply(lambda x: 'Normal' if x == 'Normal Weight' else x)\n",
    "df['BMI Category'].value_counts()"
   ],
   "id": "53a2984ac9d1b3f7",
   "outputs": [
    {
     "data": {
      "text/plain": [
       "BMI Category\n",
       "Normal        216\n",
       "Overweight    148\n",
       "Obese          10\n",
       "Name: count, dtype: int64"
      ]
     },
     "execution_count": 269,
     "metadata": {},
     "output_type": "execute_result"
    }
   ],
   "execution_count": 269
  },
  {
   "metadata": {
    "ExecuteTime": {
     "end_time": "2024-11-22T09:26:33.921032Z",
     "start_time": "2024-11-22T09:26:33.910741Z"
    }
   },
   "cell_type": "code",
   "source": [
    "from sklearn.preprocessing import LabelEncoder\n",
    "selected_columns = df.loc[:, ['BMI Category', 'Sleep Disorder']]\n",
    "# Создание LabelEncoder объекта\n",
    "label_encoder = LabelEncoder()\n",
    "\n",
    "# Кодирование столбцов\n",
    "encoded_columns = {}\n",
    "for column in selected_columns:\n",
    "    df[column + '_encoded'] = label_encoder.fit_transform(df[column])\n",
    "    # Сохраняем маппинг\n",
    "    encoded_columns[column] = dict(zip(label_encoder.classes_, label_encoder.transform(label_encoder.classes_)))\n",
    "\n",
    "# Вывод DataFrame\n",
    "display(df)\n",
    "\n",
    "# Вывод легенды кодировки для каждого столбца\n",
    "for column, mapping in encoded_columns.items():\n",
    "    print(f\"Кодировка для {column}:\", mapping)"
   ],
   "id": "c4e3e2e3c4f5aede",
   "outputs": [
    {
     "data": {
      "text/plain": [
       "     Person ID  Gender  Age            Occupation  Sleep Duration  \\\n",
       "0            1    Male   27     Software Engineer             6.1   \n",
       "1            2    Male   28                Doctor             6.2   \n",
       "2            3    Male   28                Doctor             6.2   \n",
       "3            4    Male   28  Sales Representative             5.9   \n",
       "4            5    Male   28  Sales Representative             5.9   \n",
       "..         ...     ...  ...                   ...             ...   \n",
       "369        370  Female   59                 Nurse             8.1   \n",
       "370        371  Female   59                 Nurse             8.0   \n",
       "371        372  Female   59                 Nurse             8.1   \n",
       "372        373  Female   59                 Nurse             8.1   \n",
       "373        374  Female   59                 Nurse             8.1   \n",
       "\n",
       "     Quality of Sleep  Physical Activity Level  Stress Level BMI Category  \\\n",
       "0                   6                       42             6   Overweight   \n",
       "1                   6                       60             8       Normal   \n",
       "2                   6                       60             8       Normal   \n",
       "3                   4                       30             8        Obese   \n",
       "4                   4                       30             8        Obese   \n",
       "..                ...                      ...           ...          ...   \n",
       "369                 9                       75             3   Overweight   \n",
       "370                 9                       75             3   Overweight   \n",
       "371                 9                       75             3   Overweight   \n",
       "372                 9                       75             3   Overweight   \n",
       "373                 9                       75             3   Overweight   \n",
       "\n",
       "    Blood Pressure  Heart Rate  Daily Steps Sleep Disorder  \\\n",
       "0           126/83          77         4200    No disorder   \n",
       "1           125/80          75        10000    No disorder   \n",
       "2           125/80          75        10000    No disorder   \n",
       "3           140/90          85         3000    Sleep Apnea   \n",
       "4           140/90          85         3000    Sleep Apnea   \n",
       "..             ...         ...          ...            ...   \n",
       "369         140/95          68         7000    Sleep Apnea   \n",
       "370         140/95          68         7000    Sleep Apnea   \n",
       "371         140/95          68         7000    Sleep Apnea   \n",
       "372         140/95          68         7000    Sleep Apnea   \n",
       "373         140/95          68         7000    Sleep Apnea   \n",
       "\n",
       "     BMI Category_encoded  Sleep Disorder_encoded  \n",
       "0                       2                       1  \n",
       "1                       0                       1  \n",
       "2                       0                       1  \n",
       "3                       1                       2  \n",
       "4                       1                       2  \n",
       "..                    ...                     ...  \n",
       "369                     2                       2  \n",
       "370                     2                       2  \n",
       "371                     2                       2  \n",
       "372                     2                       2  \n",
       "373                     2                       2  \n",
       "\n",
       "[374 rows x 15 columns]"
      ],
      "text/html": [
       "<div>\n",
       "<style scoped>\n",
       "    .dataframe tbody tr th:only-of-type {\n",
       "        vertical-align: middle;\n",
       "    }\n",
       "\n",
       "    .dataframe tbody tr th {\n",
       "        vertical-align: top;\n",
       "    }\n",
       "\n",
       "    .dataframe thead th {\n",
       "        text-align: right;\n",
       "    }\n",
       "</style>\n",
       "<table border=\"1\" class=\"dataframe\">\n",
       "  <thead>\n",
       "    <tr style=\"text-align: right;\">\n",
       "      <th></th>\n",
       "      <th>Person ID</th>\n",
       "      <th>Gender</th>\n",
       "      <th>Age</th>\n",
       "      <th>Occupation</th>\n",
       "      <th>Sleep Duration</th>\n",
       "      <th>Quality of Sleep</th>\n",
       "      <th>Physical Activity Level</th>\n",
       "      <th>Stress Level</th>\n",
       "      <th>BMI Category</th>\n",
       "      <th>Blood Pressure</th>\n",
       "      <th>Heart Rate</th>\n",
       "      <th>Daily Steps</th>\n",
       "      <th>Sleep Disorder</th>\n",
       "      <th>BMI Category_encoded</th>\n",
       "      <th>Sleep Disorder_encoded</th>\n",
       "    </tr>\n",
       "  </thead>\n",
       "  <tbody>\n",
       "    <tr>\n",
       "      <th>0</th>\n",
       "      <td>1</td>\n",
       "      <td>Male</td>\n",
       "      <td>27</td>\n",
       "      <td>Software Engineer</td>\n",
       "      <td>6.1</td>\n",
       "      <td>6</td>\n",
       "      <td>42</td>\n",
       "      <td>6</td>\n",
       "      <td>Overweight</td>\n",
       "      <td>126/83</td>\n",
       "      <td>77</td>\n",
       "      <td>4200</td>\n",
       "      <td>No disorder</td>\n",
       "      <td>2</td>\n",
       "      <td>1</td>\n",
       "    </tr>\n",
       "    <tr>\n",
       "      <th>1</th>\n",
       "      <td>2</td>\n",
       "      <td>Male</td>\n",
       "      <td>28</td>\n",
       "      <td>Doctor</td>\n",
       "      <td>6.2</td>\n",
       "      <td>6</td>\n",
       "      <td>60</td>\n",
       "      <td>8</td>\n",
       "      <td>Normal</td>\n",
       "      <td>125/80</td>\n",
       "      <td>75</td>\n",
       "      <td>10000</td>\n",
       "      <td>No disorder</td>\n",
       "      <td>0</td>\n",
       "      <td>1</td>\n",
       "    </tr>\n",
       "    <tr>\n",
       "      <th>2</th>\n",
       "      <td>3</td>\n",
       "      <td>Male</td>\n",
       "      <td>28</td>\n",
       "      <td>Doctor</td>\n",
       "      <td>6.2</td>\n",
       "      <td>6</td>\n",
       "      <td>60</td>\n",
       "      <td>8</td>\n",
       "      <td>Normal</td>\n",
       "      <td>125/80</td>\n",
       "      <td>75</td>\n",
       "      <td>10000</td>\n",
       "      <td>No disorder</td>\n",
       "      <td>0</td>\n",
       "      <td>1</td>\n",
       "    </tr>\n",
       "    <tr>\n",
       "      <th>3</th>\n",
       "      <td>4</td>\n",
       "      <td>Male</td>\n",
       "      <td>28</td>\n",
       "      <td>Sales Representative</td>\n",
       "      <td>5.9</td>\n",
       "      <td>4</td>\n",
       "      <td>30</td>\n",
       "      <td>8</td>\n",
       "      <td>Obese</td>\n",
       "      <td>140/90</td>\n",
       "      <td>85</td>\n",
       "      <td>3000</td>\n",
       "      <td>Sleep Apnea</td>\n",
       "      <td>1</td>\n",
       "      <td>2</td>\n",
       "    </tr>\n",
       "    <tr>\n",
       "      <th>4</th>\n",
       "      <td>5</td>\n",
       "      <td>Male</td>\n",
       "      <td>28</td>\n",
       "      <td>Sales Representative</td>\n",
       "      <td>5.9</td>\n",
       "      <td>4</td>\n",
       "      <td>30</td>\n",
       "      <td>8</td>\n",
       "      <td>Obese</td>\n",
       "      <td>140/90</td>\n",
       "      <td>85</td>\n",
       "      <td>3000</td>\n",
       "      <td>Sleep Apnea</td>\n",
       "      <td>1</td>\n",
       "      <td>2</td>\n",
       "    </tr>\n",
       "    <tr>\n",
       "      <th>...</th>\n",
       "      <td>...</td>\n",
       "      <td>...</td>\n",
       "      <td>...</td>\n",
       "      <td>...</td>\n",
       "      <td>...</td>\n",
       "      <td>...</td>\n",
       "      <td>...</td>\n",
       "      <td>...</td>\n",
       "      <td>...</td>\n",
       "      <td>...</td>\n",
       "      <td>...</td>\n",
       "      <td>...</td>\n",
       "      <td>...</td>\n",
       "      <td>...</td>\n",
       "      <td>...</td>\n",
       "    </tr>\n",
       "    <tr>\n",
       "      <th>369</th>\n",
       "      <td>370</td>\n",
       "      <td>Female</td>\n",
       "      <td>59</td>\n",
       "      <td>Nurse</td>\n",
       "      <td>8.1</td>\n",
       "      <td>9</td>\n",
       "      <td>75</td>\n",
       "      <td>3</td>\n",
       "      <td>Overweight</td>\n",
       "      <td>140/95</td>\n",
       "      <td>68</td>\n",
       "      <td>7000</td>\n",
       "      <td>Sleep Apnea</td>\n",
       "      <td>2</td>\n",
       "      <td>2</td>\n",
       "    </tr>\n",
       "    <tr>\n",
       "      <th>370</th>\n",
       "      <td>371</td>\n",
       "      <td>Female</td>\n",
       "      <td>59</td>\n",
       "      <td>Nurse</td>\n",
       "      <td>8.0</td>\n",
       "      <td>9</td>\n",
       "      <td>75</td>\n",
       "      <td>3</td>\n",
       "      <td>Overweight</td>\n",
       "      <td>140/95</td>\n",
       "      <td>68</td>\n",
       "      <td>7000</td>\n",
       "      <td>Sleep Apnea</td>\n",
       "      <td>2</td>\n",
       "      <td>2</td>\n",
       "    </tr>\n",
       "    <tr>\n",
       "      <th>371</th>\n",
       "      <td>372</td>\n",
       "      <td>Female</td>\n",
       "      <td>59</td>\n",
       "      <td>Nurse</td>\n",
       "      <td>8.1</td>\n",
       "      <td>9</td>\n",
       "      <td>75</td>\n",
       "      <td>3</td>\n",
       "      <td>Overweight</td>\n",
       "      <td>140/95</td>\n",
       "      <td>68</td>\n",
       "      <td>7000</td>\n",
       "      <td>Sleep Apnea</td>\n",
       "      <td>2</td>\n",
       "      <td>2</td>\n",
       "    </tr>\n",
       "    <tr>\n",
       "      <th>372</th>\n",
       "      <td>373</td>\n",
       "      <td>Female</td>\n",
       "      <td>59</td>\n",
       "      <td>Nurse</td>\n",
       "      <td>8.1</td>\n",
       "      <td>9</td>\n",
       "      <td>75</td>\n",
       "      <td>3</td>\n",
       "      <td>Overweight</td>\n",
       "      <td>140/95</td>\n",
       "      <td>68</td>\n",
       "      <td>7000</td>\n",
       "      <td>Sleep Apnea</td>\n",
       "      <td>2</td>\n",
       "      <td>2</td>\n",
       "    </tr>\n",
       "    <tr>\n",
       "      <th>373</th>\n",
       "      <td>374</td>\n",
       "      <td>Female</td>\n",
       "      <td>59</td>\n",
       "      <td>Nurse</td>\n",
       "      <td>8.1</td>\n",
       "      <td>9</td>\n",
       "      <td>75</td>\n",
       "      <td>3</td>\n",
       "      <td>Overweight</td>\n",
       "      <td>140/95</td>\n",
       "      <td>68</td>\n",
       "      <td>7000</td>\n",
       "      <td>Sleep Apnea</td>\n",
       "      <td>2</td>\n",
       "      <td>2</td>\n",
       "    </tr>\n",
       "  </tbody>\n",
       "</table>\n",
       "<p>374 rows × 15 columns</p>\n",
       "</div>"
      ]
     },
     "metadata": {},
     "output_type": "display_data"
    },
    {
     "name": "stdout",
     "output_type": "stream",
     "text": [
      "Кодировка для BMI Category: {'Normal': np.int64(0), 'Obese': np.int64(1), 'Overweight': np.int64(2)}\n",
      "Кодировка для Sleep Disorder: {'Insomnia': np.int64(0), 'No disorder': np.int64(1), 'Sleep Apnea': np.int64(2)}\n"
     ]
    }
   ],
   "execution_count": 270
  },
  {
   "metadata": {},
   "cell_type": "markdown",
   "source": [
    "При применении label-encoder видим, что BMI категория привоена 0 - для нормального веса, 1 - для ожирения, 2 - излишний вес.\n",
    "Более логичным выглядит поменять местами 1 и 2, то есть 1 - для избыточного веса, 2 - ожирение.\n",
    "\n",
    "В случае заболеваний сна, label encoder показал следующее разюиение: 0 - бессоница, 1 - нет заболеваний сна, 2 - апнеа.\n",
    "Однако более логичным выглядит следующее разбиение: 0 - нет нарушений сна, 1 - апнеа, 2 - бессоница."
   ],
   "id": "8339c0d98296d6d"
  },
  {
   "metadata": {
    "ExecuteTime": {
     "end_time": "2024-11-22T09:26:33.966746Z",
     "start_time": "2024-11-22T09:26:33.963008Z"
    }
   },
   "cell_type": "code",
   "source": [
    "def bmi_category_encoder(data):\n",
    "    if data == 'Normal':\n",
    "        return 0\n",
    "    elif data == 'Overweight':\n",
    "        return 1\n",
    "    elif data == 'Obese':\n",
    "        return 2\n",
    "    \n",
    "    \n",
    "df['BMI Category_encoded'] = df['BMI Category'].apply(bmi_category_encoder)"
   ],
   "id": "8f0972f89328f122",
   "outputs": [],
   "execution_count": 271
  },
  {
   "metadata": {
    "ExecuteTime": {
     "end_time": "2024-11-22T09:26:33.984025Z",
     "start_time": "2024-11-22T09:26:33.980337Z"
    }
   },
   "cell_type": "code",
   "source": [
    "def sleep_category_encoder(data):\n",
    "    if data == 'No disorder':\n",
    "        return 0\n",
    "    elif data == 'Sleep Apnea':\n",
    "        return 1\n",
    "    elif data == 'Insomnia':\n",
    "        return 2  \n",
    "    \n",
    "df['Sleep Disorder_encoded'] = df['Sleep Disorder'].apply(sleep_category_encoder)"
   ],
   "id": "e636f6399fe46aa9",
   "outputs": [],
   "execution_count": 272
  },
  {
   "metadata": {
    "ExecuteTime": {
     "end_time": "2024-11-22T09:26:33.991651Z",
     "start_time": "2024-11-22T09:26:33.988422Z"
    }
   },
   "cell_type": "code",
   "source": "df.drop(['BMI Category', 'Sleep Disorder'], axis=1, inplace=True)",
   "id": "ac296437d19a6dcd",
   "outputs": [],
   "execution_count": 273
  },
  {
   "metadata": {
    "ExecuteTime": {
     "end_time": "2024-11-22T09:26:34.007601Z",
     "start_time": "2024-11-22T09:26:33.997052Z"
    }
   },
   "cell_type": "code",
   "source": [
    "#Преобразуем колонку профессии через One-hot encoding\n",
    "one_hot = pd.get_dummies(df[[\"Gender\",\"Occupation\"]], drop_first=True)\n",
    "df = pd.concat((df.drop([\"Gender\",\"Occupation\"], axis=1), one_hot), axis=1)\n",
    "df.head()"
   ],
   "id": "8a7e4ee2277bfd5a",
   "outputs": [
    {
     "data": {
      "text/plain": [
       "   Person ID  Age  Sleep Duration  Quality of Sleep  Physical Activity Level  \\\n",
       "0          1   27             6.1                 6                       42   \n",
       "1          2   28             6.2                 6                       60   \n",
       "2          3   28             6.2                 6                       60   \n",
       "3          4   28             5.9                 4                       30   \n",
       "4          5   28             5.9                 4                       30   \n",
       "\n",
       "   Stress Level Blood Pressure  Heart Rate  Daily Steps  BMI Category_encoded  \\\n",
       "0             6         126/83          77         4200                     1   \n",
       "1             8         125/80          75        10000                     0   \n",
       "2             8         125/80          75        10000                     0   \n",
       "3             8         140/90          85         3000                     2   \n",
       "4             8         140/90          85         3000                     2   \n",
       "\n",
       "   ...  Occupation_Doctor  Occupation_Engineer  Occupation_Lawyer  \\\n",
       "0  ...              False                False              False   \n",
       "1  ...               True                False              False   \n",
       "2  ...               True                False              False   \n",
       "3  ...              False                False              False   \n",
       "4  ...              False                False              False   \n",
       "\n",
       "   Occupation_Manager  Occupation_Nurse  Occupation_Sales Representative  \\\n",
       "0               False             False                            False   \n",
       "1               False             False                            False   \n",
       "2               False             False                            False   \n",
       "3               False             False                             True   \n",
       "4               False             False                             True   \n",
       "\n",
       "   Occupation_Salesperson  Occupation_Scientist  Occupation_Software Engineer  \\\n",
       "0                   False                 False                          True   \n",
       "1                   False                 False                         False   \n",
       "2                   False                 False                         False   \n",
       "3                   False                 False                         False   \n",
       "4                   False                 False                         False   \n",
       "\n",
       "   Occupation_Teacher  \n",
       "0               False  \n",
       "1               False  \n",
       "2               False  \n",
       "3               False  \n",
       "4               False  \n",
       "\n",
       "[5 rows x 22 columns]"
      ],
      "text/html": [
       "<div>\n",
       "<style scoped>\n",
       "    .dataframe tbody tr th:only-of-type {\n",
       "        vertical-align: middle;\n",
       "    }\n",
       "\n",
       "    .dataframe tbody tr th {\n",
       "        vertical-align: top;\n",
       "    }\n",
       "\n",
       "    .dataframe thead th {\n",
       "        text-align: right;\n",
       "    }\n",
       "</style>\n",
       "<table border=\"1\" class=\"dataframe\">\n",
       "  <thead>\n",
       "    <tr style=\"text-align: right;\">\n",
       "      <th></th>\n",
       "      <th>Person ID</th>\n",
       "      <th>Age</th>\n",
       "      <th>Sleep Duration</th>\n",
       "      <th>Quality of Sleep</th>\n",
       "      <th>Physical Activity Level</th>\n",
       "      <th>Stress Level</th>\n",
       "      <th>Blood Pressure</th>\n",
       "      <th>Heart Rate</th>\n",
       "      <th>Daily Steps</th>\n",
       "      <th>BMI Category_encoded</th>\n",
       "      <th>...</th>\n",
       "      <th>Occupation_Doctor</th>\n",
       "      <th>Occupation_Engineer</th>\n",
       "      <th>Occupation_Lawyer</th>\n",
       "      <th>Occupation_Manager</th>\n",
       "      <th>Occupation_Nurse</th>\n",
       "      <th>Occupation_Sales Representative</th>\n",
       "      <th>Occupation_Salesperson</th>\n",
       "      <th>Occupation_Scientist</th>\n",
       "      <th>Occupation_Software Engineer</th>\n",
       "      <th>Occupation_Teacher</th>\n",
       "    </tr>\n",
       "  </thead>\n",
       "  <tbody>\n",
       "    <tr>\n",
       "      <th>0</th>\n",
       "      <td>1</td>\n",
       "      <td>27</td>\n",
       "      <td>6.1</td>\n",
       "      <td>6</td>\n",
       "      <td>42</td>\n",
       "      <td>6</td>\n",
       "      <td>126/83</td>\n",
       "      <td>77</td>\n",
       "      <td>4200</td>\n",
       "      <td>1</td>\n",
       "      <td>...</td>\n",
       "      <td>False</td>\n",
       "      <td>False</td>\n",
       "      <td>False</td>\n",
       "      <td>False</td>\n",
       "      <td>False</td>\n",
       "      <td>False</td>\n",
       "      <td>False</td>\n",
       "      <td>False</td>\n",
       "      <td>True</td>\n",
       "      <td>False</td>\n",
       "    </tr>\n",
       "    <tr>\n",
       "      <th>1</th>\n",
       "      <td>2</td>\n",
       "      <td>28</td>\n",
       "      <td>6.2</td>\n",
       "      <td>6</td>\n",
       "      <td>60</td>\n",
       "      <td>8</td>\n",
       "      <td>125/80</td>\n",
       "      <td>75</td>\n",
       "      <td>10000</td>\n",
       "      <td>0</td>\n",
       "      <td>...</td>\n",
       "      <td>True</td>\n",
       "      <td>False</td>\n",
       "      <td>False</td>\n",
       "      <td>False</td>\n",
       "      <td>False</td>\n",
       "      <td>False</td>\n",
       "      <td>False</td>\n",
       "      <td>False</td>\n",
       "      <td>False</td>\n",
       "      <td>False</td>\n",
       "    </tr>\n",
       "    <tr>\n",
       "      <th>2</th>\n",
       "      <td>3</td>\n",
       "      <td>28</td>\n",
       "      <td>6.2</td>\n",
       "      <td>6</td>\n",
       "      <td>60</td>\n",
       "      <td>8</td>\n",
       "      <td>125/80</td>\n",
       "      <td>75</td>\n",
       "      <td>10000</td>\n",
       "      <td>0</td>\n",
       "      <td>...</td>\n",
       "      <td>True</td>\n",
       "      <td>False</td>\n",
       "      <td>False</td>\n",
       "      <td>False</td>\n",
       "      <td>False</td>\n",
       "      <td>False</td>\n",
       "      <td>False</td>\n",
       "      <td>False</td>\n",
       "      <td>False</td>\n",
       "      <td>False</td>\n",
       "    </tr>\n",
       "    <tr>\n",
       "      <th>3</th>\n",
       "      <td>4</td>\n",
       "      <td>28</td>\n",
       "      <td>5.9</td>\n",
       "      <td>4</td>\n",
       "      <td>30</td>\n",
       "      <td>8</td>\n",
       "      <td>140/90</td>\n",
       "      <td>85</td>\n",
       "      <td>3000</td>\n",
       "      <td>2</td>\n",
       "      <td>...</td>\n",
       "      <td>False</td>\n",
       "      <td>False</td>\n",
       "      <td>False</td>\n",
       "      <td>False</td>\n",
       "      <td>False</td>\n",
       "      <td>True</td>\n",
       "      <td>False</td>\n",
       "      <td>False</td>\n",
       "      <td>False</td>\n",
       "      <td>False</td>\n",
       "    </tr>\n",
       "    <tr>\n",
       "      <th>4</th>\n",
       "      <td>5</td>\n",
       "      <td>28</td>\n",
       "      <td>5.9</td>\n",
       "      <td>4</td>\n",
       "      <td>30</td>\n",
       "      <td>8</td>\n",
       "      <td>140/90</td>\n",
       "      <td>85</td>\n",
       "      <td>3000</td>\n",
       "      <td>2</td>\n",
       "      <td>...</td>\n",
       "      <td>False</td>\n",
       "      <td>False</td>\n",
       "      <td>False</td>\n",
       "      <td>False</td>\n",
       "      <td>False</td>\n",
       "      <td>True</td>\n",
       "      <td>False</td>\n",
       "      <td>False</td>\n",
       "      <td>False</td>\n",
       "      <td>False</td>\n",
       "    </tr>\n",
       "  </tbody>\n",
       "</table>\n",
       "<p>5 rows × 22 columns</p>\n",
       "</div>"
      ]
     },
     "execution_count": 274,
     "metadata": {},
     "output_type": "execute_result"
    }
   ],
   "execution_count": 274
  },
  {
   "metadata": {},
   "cell_type": "markdown",
   "source": "## Генерация новых признаков:",
   "id": "fba08497b93d94aa"
  },
  {
   "metadata": {},
   "cell_type": "markdown",
   "source": [
    "- cоздайте комбинированные признаки, которые могут помочь улучшить модель.\n",
    "- используйте полиномиальные признаки для числовых переменных."
   ],
   "id": "de2fd8420f136a4d"
  },
  {
   "metadata": {
    "ExecuteTime": {
     "end_time": "2024-11-22T09:26:34.019539Z",
     "start_time": "2024-11-22T09:26:34.015608Z"
    }
   },
   "cell_type": "code",
   "source": [
    "#Категорезируем кровяное давление, используем, как систолическое , так и диастолическое давление, при этом преобразуем категории сразу в числовое значение.\n",
    "\n",
    "def blood_pressure_category(data):\n",
    "    systolic, diastolic = tuple(int(x) for x in data.split('/'))\n",
    "    if systolic < 130 or diastolic < 85:\n",
    "        return 0\n",
    "    elif systolic < 140 or diastolic < 90:\n",
    "        return 1\n",
    "    elif systolic < 160 or diastolic < 100:\n",
    "        return 2\n",
    "    else:\n",
    "        return 3\n",
    "    \n",
    "    \n",
    "df[\"Blood Pressure\"] = df[\"Blood Pressure\"].apply(blood_pressure_category)"
   ],
   "id": "ef9a82f5332e1be9",
   "outputs": [],
   "execution_count": 275
  },
  {
   "metadata": {
    "ExecuteTime": {
     "end_time": "2024-11-22T09:26:34.039315Z",
     "start_time": "2024-11-22T09:26:34.030578Z"
    }
   },
   "cell_type": "code",
   "source": "df.head()",
   "id": "e7295abacf7896cb",
   "outputs": [
    {
     "data": {
      "text/plain": [
       "   Person ID  Age  Sleep Duration  Quality of Sleep  Physical Activity Level  \\\n",
       "0          1   27             6.1                 6                       42   \n",
       "1          2   28             6.2                 6                       60   \n",
       "2          3   28             6.2                 6                       60   \n",
       "3          4   28             5.9                 4                       30   \n",
       "4          5   28             5.9                 4                       30   \n",
       "\n",
       "   Stress Level  Blood Pressure  Heart Rate  Daily Steps  \\\n",
       "0             6               0          77         4200   \n",
       "1             8               0          75        10000   \n",
       "2             8               0          75        10000   \n",
       "3             8               2          85         3000   \n",
       "4             8               2          85         3000   \n",
       "\n",
       "   BMI Category_encoded  ...  Occupation_Doctor  Occupation_Engineer  \\\n",
       "0                     1  ...              False                False   \n",
       "1                     0  ...               True                False   \n",
       "2                     0  ...               True                False   \n",
       "3                     2  ...              False                False   \n",
       "4                     2  ...              False                False   \n",
       "\n",
       "   Occupation_Lawyer  Occupation_Manager  Occupation_Nurse  \\\n",
       "0              False               False             False   \n",
       "1              False               False             False   \n",
       "2              False               False             False   \n",
       "3              False               False             False   \n",
       "4              False               False             False   \n",
       "\n",
       "   Occupation_Sales Representative  Occupation_Salesperson  \\\n",
       "0                            False                   False   \n",
       "1                            False                   False   \n",
       "2                            False                   False   \n",
       "3                             True                   False   \n",
       "4                             True                   False   \n",
       "\n",
       "   Occupation_Scientist  Occupation_Software Engineer  Occupation_Teacher  \n",
       "0                 False                          True               False  \n",
       "1                 False                         False               False  \n",
       "2                 False                         False               False  \n",
       "3                 False                         False               False  \n",
       "4                 False                         False               False  \n",
       "\n",
       "[5 rows x 22 columns]"
      ],
      "text/html": [
       "<div>\n",
       "<style scoped>\n",
       "    .dataframe tbody tr th:only-of-type {\n",
       "        vertical-align: middle;\n",
       "    }\n",
       "\n",
       "    .dataframe tbody tr th {\n",
       "        vertical-align: top;\n",
       "    }\n",
       "\n",
       "    .dataframe thead th {\n",
       "        text-align: right;\n",
       "    }\n",
       "</style>\n",
       "<table border=\"1\" class=\"dataframe\">\n",
       "  <thead>\n",
       "    <tr style=\"text-align: right;\">\n",
       "      <th></th>\n",
       "      <th>Person ID</th>\n",
       "      <th>Age</th>\n",
       "      <th>Sleep Duration</th>\n",
       "      <th>Quality of Sleep</th>\n",
       "      <th>Physical Activity Level</th>\n",
       "      <th>Stress Level</th>\n",
       "      <th>Blood Pressure</th>\n",
       "      <th>Heart Rate</th>\n",
       "      <th>Daily Steps</th>\n",
       "      <th>BMI Category_encoded</th>\n",
       "      <th>...</th>\n",
       "      <th>Occupation_Doctor</th>\n",
       "      <th>Occupation_Engineer</th>\n",
       "      <th>Occupation_Lawyer</th>\n",
       "      <th>Occupation_Manager</th>\n",
       "      <th>Occupation_Nurse</th>\n",
       "      <th>Occupation_Sales Representative</th>\n",
       "      <th>Occupation_Salesperson</th>\n",
       "      <th>Occupation_Scientist</th>\n",
       "      <th>Occupation_Software Engineer</th>\n",
       "      <th>Occupation_Teacher</th>\n",
       "    </tr>\n",
       "  </thead>\n",
       "  <tbody>\n",
       "    <tr>\n",
       "      <th>0</th>\n",
       "      <td>1</td>\n",
       "      <td>27</td>\n",
       "      <td>6.1</td>\n",
       "      <td>6</td>\n",
       "      <td>42</td>\n",
       "      <td>6</td>\n",
       "      <td>0</td>\n",
       "      <td>77</td>\n",
       "      <td>4200</td>\n",
       "      <td>1</td>\n",
       "      <td>...</td>\n",
       "      <td>False</td>\n",
       "      <td>False</td>\n",
       "      <td>False</td>\n",
       "      <td>False</td>\n",
       "      <td>False</td>\n",
       "      <td>False</td>\n",
       "      <td>False</td>\n",
       "      <td>False</td>\n",
       "      <td>True</td>\n",
       "      <td>False</td>\n",
       "    </tr>\n",
       "    <tr>\n",
       "      <th>1</th>\n",
       "      <td>2</td>\n",
       "      <td>28</td>\n",
       "      <td>6.2</td>\n",
       "      <td>6</td>\n",
       "      <td>60</td>\n",
       "      <td>8</td>\n",
       "      <td>0</td>\n",
       "      <td>75</td>\n",
       "      <td>10000</td>\n",
       "      <td>0</td>\n",
       "      <td>...</td>\n",
       "      <td>True</td>\n",
       "      <td>False</td>\n",
       "      <td>False</td>\n",
       "      <td>False</td>\n",
       "      <td>False</td>\n",
       "      <td>False</td>\n",
       "      <td>False</td>\n",
       "      <td>False</td>\n",
       "      <td>False</td>\n",
       "      <td>False</td>\n",
       "    </tr>\n",
       "    <tr>\n",
       "      <th>2</th>\n",
       "      <td>3</td>\n",
       "      <td>28</td>\n",
       "      <td>6.2</td>\n",
       "      <td>6</td>\n",
       "      <td>60</td>\n",
       "      <td>8</td>\n",
       "      <td>0</td>\n",
       "      <td>75</td>\n",
       "      <td>10000</td>\n",
       "      <td>0</td>\n",
       "      <td>...</td>\n",
       "      <td>True</td>\n",
       "      <td>False</td>\n",
       "      <td>False</td>\n",
       "      <td>False</td>\n",
       "      <td>False</td>\n",
       "      <td>False</td>\n",
       "      <td>False</td>\n",
       "      <td>False</td>\n",
       "      <td>False</td>\n",
       "      <td>False</td>\n",
       "    </tr>\n",
       "    <tr>\n",
       "      <th>3</th>\n",
       "      <td>4</td>\n",
       "      <td>28</td>\n",
       "      <td>5.9</td>\n",
       "      <td>4</td>\n",
       "      <td>30</td>\n",
       "      <td>8</td>\n",
       "      <td>2</td>\n",
       "      <td>85</td>\n",
       "      <td>3000</td>\n",
       "      <td>2</td>\n",
       "      <td>...</td>\n",
       "      <td>False</td>\n",
       "      <td>False</td>\n",
       "      <td>False</td>\n",
       "      <td>False</td>\n",
       "      <td>False</td>\n",
       "      <td>True</td>\n",
       "      <td>False</td>\n",
       "      <td>False</td>\n",
       "      <td>False</td>\n",
       "      <td>False</td>\n",
       "    </tr>\n",
       "    <tr>\n",
       "      <th>4</th>\n",
       "      <td>5</td>\n",
       "      <td>28</td>\n",
       "      <td>5.9</td>\n",
       "      <td>4</td>\n",
       "      <td>30</td>\n",
       "      <td>8</td>\n",
       "      <td>2</td>\n",
       "      <td>85</td>\n",
       "      <td>3000</td>\n",
       "      <td>2</td>\n",
       "      <td>...</td>\n",
       "      <td>False</td>\n",
       "      <td>False</td>\n",
       "      <td>False</td>\n",
       "      <td>False</td>\n",
       "      <td>False</td>\n",
       "      <td>True</td>\n",
       "      <td>False</td>\n",
       "      <td>False</td>\n",
       "      <td>False</td>\n",
       "      <td>False</td>\n",
       "    </tr>\n",
       "  </tbody>\n",
       "</table>\n",
       "<p>5 rows × 22 columns</p>\n",
       "</div>"
      ]
     },
     "execution_count": 276,
     "metadata": {},
     "output_type": "execute_result"
    }
   ],
   "execution_count": 276
  },
  {
   "metadata": {
    "ExecuteTime": {
     "end_time": "2024-11-22T09:26:34.082362Z",
     "start_time": "2024-11-22T09:26:34.077380Z"
    }
   },
   "cell_type": "code",
   "source": [
    "from sklearn.model_selection import train_test_split\n",
    "y = df['Sleep Duration']\n",
    "X = df.drop(['Sleep Duration','Person ID', 'Quality of Sleep'], axis=1)\n",
    "\n",
    "X_train, X_test, y_train, y_test = train_test_split(df, y, test_size=0.2, random_state=42)"
   ],
   "id": "1aebd659bc55451",
   "outputs": [],
   "execution_count": 277
  },
  {
   "metadata": {
    "ExecuteTime": {
     "end_time": "2024-11-22T09:26:34.112222Z",
     "start_time": "2024-11-22T09:26:34.104015Z"
    }
   },
   "cell_type": "code",
   "source": [
    "from sklearn.linear_model import LinearRegression\n",
    "from sklearn.metrics import mean_squared_error, mean_absolute_error, r2_score\n",
    "\n",
    "lr = LinearRegression()\n",
    "lr.fit(X_train, y_train)\n",
    "y_train_pred = lr.predict(X_train)\n",
    "y_test_pred = lr.predict(X_test)\n",
    "\n",
    "print(f'MSE train: {mean_squared_error(y_train, y_train_pred)},\\\n",
    "\\n R2 train : {r2_score(y_train, y_train_pred)}')\n",
    "print(f'MSE test: {mean_squared_error( y_test, y_test_pred)},\\\n",
    "\\n R2 test: {r2_score(y_test, y_test_pred)}')"
   ],
   "id": "5292897ae8d5889d",
   "outputs": [
    {
     "name": "stdout",
     "output_type": "stream",
     "text": [
      "MSE train: 1.8121665224782922e-26,\n",
      " R2 train : 1.0\n",
      "MSE test: 2.0332016826003135e-26,\n",
      " R2 test: 1.0\n"
     ]
    }
   ],
   "execution_count": 278
  },
  {
   "metadata": {
    "ExecuteTime": {
     "end_time": "2024-11-22T09:37:13.226177Z",
     "start_time": "2024-11-22T09:37:13.169894Z"
    }
   },
   "cell_type": "code",
   "source": [
    "from sklearn.preprocessing import PolynomialFeatures\n",
    "\n",
    "poly_transformer = PolynomialFeatures(degree = 2)\n",
    "\n",
    "poly_transformer.fit(X_train)\n",
    "X_pol = poly_transformer.transform(X_train)\n",
    "X_pol_test = poly_transformer.transform(X_test)\n",
    "print('Polynomial Features shape: ', X_pol.shape)\n",
    "\n",
    "### Замерим качество линейной простой модели на трейн и тест сплитах\n",
    "\n",
    "linear_train_loss = np.mean((lr.predict(X_train)-y_train)**2)\n",
    "linear_test_loss = np.mean((lr.predict(X_test)-y_test)**2)\n",
    "\n",
    "### Теперь построим полиномиальную модель\n",
    "model_pol = LinearRegression()\n",
    "model_pol.fit(X_pol, y_train)\n",
    "\n",
    "### Замерим качество полиномиальной простой модели на трейн и тест сплитах  \n",
    "\n",
    "print(f'MSE train: {mean_squared_error(model_pol.predict(X_pol), y_train)},\\\n",
    "\\n R2 train : {r2_score(y_train, y_train_pred)}')\n",
    "print(f'MSE test: {mean_squared_error(model_pol.predict(X_pol_test), y_test)},\\\n",
    "\\n R2 test: {r2_score(y_test, y_test_pred)}')\n"
   ],
   "id": "c3118a2842cd96cd",
   "outputs": [
    {
     "name": "stdout",
     "output_type": "stream",
     "text": [
      "Polynomial Features shape:  (299, 276)\n",
      "MSE train: 1.0846633911017756e-19,\n",
      " R2 train : 1.0\n",
      "MSE test: 2.2028217706009763e-12,\n",
      " R2 test: 1.0\n"
     ]
    }
   ],
   "execution_count": 282
  },
  {
   "metadata": {},
   "cell_type": "markdown",
   "source": "## Отбор признаков:",
   "id": "c37e64b520da4324"
  },
  {
   "metadata": {},
   "cell_type": "markdown",
   "source": [
    "- Примените несколько методов отбора признаков (например, RFE, SelectKBest).\n",
    "- Сравните качество модели до и после отбора признаков."
   ],
   "id": "ed7dbcfa82442da7"
  },
  {
   "metadata": {
    "ExecuteTime": {
     "end_time": "2024-11-22T09:42:38.633651Z",
     "start_time": "2024-11-22T09:42:38.622675Z"
    }
   },
   "cell_type": "code",
   "source": [
    "from sklearn.feature_selection import RFE\n",
    "# Создаем RFE модель и выбираем 10 признаков\n",
    "rfe = RFE(estimator=lr, n_features_to_select=10)\n",
    "rfe = rfe.fit(X, y)\n",
    "\n",
    "# Показываем какие признаки выбраны\n",
    "selected_features = pd.DataFrame({\n",
    "    'Feature': X.columns, \n",
    "    'Ranking': rfe.ranking_\n",
    "})\n",
    "print(selected_features.sort_values(by='Ranking', ascending=False))"
   ],
   "id": "ec30091c0c30dd34",
   "outputs": [
    {
     "name": "stdout",
     "output_type": "stream",
     "text": [
      "                            Feature  Ranking\n",
      "5                       Daily Steps       10\n",
      "1           Physical Activity Level        9\n",
      "3                    Blood Pressure        8\n",
      "7            Sleep Disorder_encoded        7\n",
      "0                               Age        6\n",
      "8                       Gender_Male        5\n",
      "4                        Heart Rate        4\n",
      "12               Occupation_Manager        3\n",
      "6              BMI Category_encoded        2\n",
      "2                      Stress Level        1\n",
      "9                 Occupation_Doctor        1\n",
      "10              Occupation_Engineer        1\n",
      "11                Occupation_Lawyer        1\n",
      "13                 Occupation_Nurse        1\n",
      "14  Occupation_Sales Representative        1\n",
      "15           Occupation_Salesperson        1\n",
      "16             Occupation_Scientist        1\n",
      "17     Occupation_Software Engineer        1\n",
      "18               Occupation_Teacher        1\n"
     ]
    }
   ],
   "execution_count": 287
  },
  {
   "metadata": {
    "ExecuteTime": {
     "end_time": "2024-11-22T09:42:45.591701Z",
     "start_time": "2024-11-22T09:42:45.584192Z"
    }
   },
   "cell_type": "code",
   "source": [
    "top_features = selected_features.sort_values(by='Ranking', ascending=False)[:10]\n",
    "X_train_selected = X_train[top_features.Feature]\n",
    "X_test_selected = X_test[top_features.Feature]\n",
    "\n",
    "# Обучение дерева решений на отобранных признаках\n",
    "dt = LinearRegression()\n",
    "dt.fit(X_train_selected, y_train)\n",
    "print(f'R^2 на тренировочных данных {r2_score(y_train, dt.predict(X_train_selected))}')\n",
    "print(f'R^2 на тестовых данных {r2_score(y_test, dt.predict(X_test_selected))}')"
   ],
   "id": "3a88cebb2dc6fbd6",
   "outputs": [
    {
     "name": "stdout",
     "output_type": "stream",
     "text": [
      "R^2 на тренировочных данных 0.8594243843560883\n",
      "R^2 на тестовых данных 0.8329733916142363\n"
     ]
    }
   ],
   "execution_count": 288
  },
  {
   "metadata": {
    "ExecuteTime": {
     "end_time": "2024-11-22T09:51:20.588373Z",
     "start_time": "2024-11-22T09:51:20.581590Z"
    }
   },
   "cell_type": "code",
   "source": [
    "from sklearn.feature_selection import SelectKBest, f_classif\n",
    "\n",
    "k_best = SelectKBest(f_classif, k=10).fit(X, y)\n",
    "\n",
    "# Получаем оценки признаков\n",
    "scores = k_best.scores_\n",
    "\n",
    "# Создаем DataFrame для выбранных признаков и их оценок\n",
    "selected_features3 = pd.DataFrame({\n",
    "    'Feature': X.columns,\n",
    "    'Score': scores\n",
    "})\n",
    "\n",
    "# Сортируем по убыванию оценок\n",
    "print(selected_features3.sort_values(by='Score', ascending=False))"
   ],
   "id": "54292c7c20366a29",
   "outputs": [
    {
     "name": "stdout",
     "output_type": "stream",
     "text": [
      "                            Feature      Score\n",
      "2                      Stress Level  81.618461\n",
      "15           Occupation_Salesperson  30.149956\n",
      "7            Sleep Disorder_encoded  25.707773\n",
      "6              BMI Category_encoded  22.880618\n",
      "0                               Age  20.766194\n",
      "10              Occupation_Engineer  20.670308\n",
      "1           Physical Activity Level  20.453638\n",
      "16             Occupation_Scientist  18.342040\n",
      "18               Occupation_Teacher  16.815379\n",
      "4                        Heart Rate  15.352599\n",
      "13                 Occupation_Nurse  14.624330\n",
      "8                       Gender_Male  13.409809\n",
      "14  Occupation_Sales Representative  13.203414\n",
      "3                    Blood Pressure  10.736964\n",
      "5                       Daily Steps   8.839822\n",
      "9                 Occupation_Doctor   7.099864\n",
      "12               Occupation_Manager   6.619550\n",
      "11                Occupation_Lawyer   5.956996\n",
      "17     Occupation_Software Engineer   4.802869\n"
     ]
    }
   ],
   "execution_count": 297
  },
  {
   "metadata": {},
   "cell_type": "markdown",
   "source": "## Подбор гиперпараметров:",
   "id": "7c3d3f2dab78a1a9"
  },
  {
   "metadata": {},
   "cell_type": "markdown",
   "source": [
    "— Используйте GridSearchCV или RandomizedSearchCV для настройки параметров вашей модели регрессии.\n",
    "— Оцените, как изменение гиперпараметров влияет на качество предсказаний."
   ],
   "id": "f1a50b88e1a46a35"
  },
  {
   "metadata": {
    "ExecuteTime": {
     "end_time": "2024-11-22T10:05:20.526009Z",
     "start_time": "2024-11-22T10:05:20.476656Z"
    }
   },
   "cell_type": "code",
   "source": [
    "from sklearn.tree import DecisionTreeRegressor\n",
    "from sklearn.model_selection import GridSearchCV, train_test_split, cross_val_score\n",
    "\n",
    "from sklearn.linear_model import Ridge\n",
    "\n",
    "param_grid = {'alpha': [0.1, 1.0, 10.0, 100.0]}\n",
    "ridge = Ridge()\n",
    "grid_search = GridSearchCV(ridge, param_grid, cv=5)\n",
    "grid_search.fit(X_train, y_train)\n",
    "grid_search.score(X_test,y_test)\n",
    "\n",
    "print(f\"Лучшие гиперпараметры (Grid Search): {grid_search.best_params_}\")\n",
    "print(f\"Лучшая оценка (Grid Search): {grid_search.best_score_:.2f}\")"
   ],
   "id": "65c0d55c6a87f03",
   "outputs": [
    {
     "name": "stdout",
     "output_type": "stream",
     "text": [
      "Лучшие гиперпараметры (Grid Search): {'alpha': 0.1}\n",
      "Лучшая оценка (Grid Search): 1.00\n"
     ]
    }
   ],
   "execution_count": 302
  },
  {
   "metadata": {
    "ExecuteTime": {
     "end_time": "2024-11-22T10:06:25.227859Z",
     "start_time": "2024-11-22T10:06:25.177687Z"
    }
   },
   "cell_type": "code",
   "source": [
    "from sklearn.model_selection import RandomizedSearchCV\n",
    "from sklearn.linear_model import Lasso\n",
    "\n",
    "param_dist = {'alpha': [0.1, 1.0, 10.0, 100.0]}\n",
    "lasso = Lasso()\n",
    "random_search = RandomizedSearchCV(lasso, param_dist, n_iter=4, cv=5)\n",
    "random_search.fit(X_train, y_train)\n",
    "grid_search.score(X_test,y_test)\n",
    "\n",
    "print(f\"Лучшие гиперпараметры (Random Search): {grid_search.best_params_}\")\n",
    "print(f\"Лучшая оценка (Random Search): {grid_search.best_score_:.2f}\")\n"
   ],
   "id": "1d00840ad7909b94",
   "outputs": [
    {
     "name": "stdout",
     "output_type": "stream",
     "text": [
      "Лучшие гиперпараметры (Random Search): {'alpha': 0.1}\n",
      "Лучшая оценка (Random Search): 1.00\n"
     ]
    }
   ],
   "execution_count": 304
  },
  {
   "metadata": {},
   "cell_type": "markdown",
   "source": "## Заключение",
   "id": "a2e4cece5ce61d42"
  },
  {
   "metadata": {},
   "cell_type": "markdown",
   "source": [
    "Категориальные признаки обработы следующим образом.\n",
    "- Label encoding использован для признаков BMI category, Gender, Sleep Disorder.\n",
    "- One-hot encoding использован для признака Occupation.\n",
    "\n",
    "- Модель линейной регрессии показала очень высокие результаты, ошибка r2 близка к 1, как на тренировочной, так и на тестовой выборках.\n",
    "- Признак Blood Pressure перобразован в новый признак, разбит по категориям в зависимости от диапазона верхнего и нижнего значений.\n",
    "\n",
    "- Создание полиминимальных признаков для данной модели показало снижение качества модели.\n",
    "\n",
    "- Использование Recursive Feature Elimination для отбора наиболее важных признаков, показало, что 5 наиболее значимыми признаками являются: \n",
    "Daily Steps, Physical Activity Level, Blood Pressure, Sleep Disorder_encoded, Age \n",
    "- Использование SelectKBest для отбора наиболее важных признаков, показало, что 5 наиболее значимыми признаками являются: \n",
    "Stress Level, Occupation_Salesperson, Sleep Disorder_encoded, BMI Category_encoded, Age.\n",
    "\n",
    "- Применение GridSearchCV и RandomSearchCV для нахождения оптимального параметра alpha, показали одинаковые результаты, максимальное качаство достигается при alpha=0.1. "
   ],
   "id": "40a794efa05a97d1"
  }
 ],
 "metadata": {
  "kernelspec": {
   "display_name": "Python 3",
   "language": "python",
   "name": "python3"
  },
  "language_info": {
   "codemirror_mode": {
    "name": "ipython",
    "version": 2
   },
   "file_extension": ".py",
   "mimetype": "text/x-python",
   "name": "python",
   "nbconvert_exporter": "python",
   "pygments_lexer": "ipython2",
   "version": "2.7.6"
  }
 },
 "nbformat": 4,
 "nbformat_minor": 5
}
