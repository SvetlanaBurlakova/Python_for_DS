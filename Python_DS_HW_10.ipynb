{
 "cells": [
  {
   "cell_type": "code",
   "id": "initial_id",
   "metadata": {
    "collapsed": true,
    "ExecuteTime": {
     "end_time": "2024-11-28T08:27:10.595564Z",
     "start_time": "2024-11-28T08:27:10.592297Z"
    }
   },
   "source": [
    "import pandas as pd\n",
    "import numpy as np\n",
    "import matplotlib.pyplot as plt\n",
    "import seaborn as sns"
   ],
   "outputs": [],
   "execution_count": 674
  },
  {
   "metadata": {},
   "cell_type": "markdown",
   "source": "### Первичный анализ данных:\n",
   "id": "65ce4aacac5a7333"
  },
  {
   "metadata": {},
   "cell_type": "markdown",
   "source": [
    "- Импортировать данные из файла ds_salaries.csv.\n",
    "- Очистить данные от дубликатов и пропущенных значений.\n",
    "- Исследовать типы данных, описательную статистику и корреляции между признаками.\n",
    "- Визуализировать данные с помощью Matplotlib и Seaborn."
   ],
   "id": "211366c8f1a6e766"
  },
  {
   "metadata": {
    "ExecuteTime": {
     "end_time": "2024-11-28T08:27:11.096939Z",
     "start_time": "2024-11-28T08:27:11.083974Z"
    }
   },
   "cell_type": "code",
   "source": [
    "df = pd.read_csv('ds_salaries.csv')\n",
    "df.head()"
   ],
   "id": "ec4fde2ef273fdf8",
   "outputs": [
    {
     "data": {
      "text/plain": [
       "   work_year experience_level employment_type                 job_title  \\\n",
       "0       2023               SE              FT  Principal Data Scientist   \n",
       "1       2023               MI              CT               ML Engineer   \n",
       "2       2023               MI              CT               ML Engineer   \n",
       "3       2023               SE              FT            Data Scientist   \n",
       "4       2023               SE              FT            Data Scientist   \n",
       "\n",
       "   salary salary_currency  salary_in_usd employee_residence  remote_ratio  \\\n",
       "0   80000             EUR          85847                 ES           100   \n",
       "1   30000             USD          30000                 US           100   \n",
       "2   25500             USD          25500                 US           100   \n",
       "3  175000             USD         175000                 CA           100   \n",
       "4  120000             USD         120000                 CA           100   \n",
       "\n",
       "  company_location company_size  \n",
       "0               ES            L  \n",
       "1               US            S  \n",
       "2               US            S  \n",
       "3               CA            M  \n",
       "4               CA            M  "
      ],
      "text/html": [
       "<div>\n",
       "<style scoped>\n",
       "    .dataframe tbody tr th:only-of-type {\n",
       "        vertical-align: middle;\n",
       "    }\n",
       "\n",
       "    .dataframe tbody tr th {\n",
       "        vertical-align: top;\n",
       "    }\n",
       "\n",
       "    .dataframe thead th {\n",
       "        text-align: right;\n",
       "    }\n",
       "</style>\n",
       "<table border=\"1\" class=\"dataframe\">\n",
       "  <thead>\n",
       "    <tr style=\"text-align: right;\">\n",
       "      <th></th>\n",
       "      <th>work_year</th>\n",
       "      <th>experience_level</th>\n",
       "      <th>employment_type</th>\n",
       "      <th>job_title</th>\n",
       "      <th>salary</th>\n",
       "      <th>salary_currency</th>\n",
       "      <th>salary_in_usd</th>\n",
       "      <th>employee_residence</th>\n",
       "      <th>remote_ratio</th>\n",
       "      <th>company_location</th>\n",
       "      <th>company_size</th>\n",
       "    </tr>\n",
       "  </thead>\n",
       "  <tbody>\n",
       "    <tr>\n",
       "      <th>0</th>\n",
       "      <td>2023</td>\n",
       "      <td>SE</td>\n",
       "      <td>FT</td>\n",
       "      <td>Principal Data Scientist</td>\n",
       "      <td>80000</td>\n",
       "      <td>EUR</td>\n",
       "      <td>85847</td>\n",
       "      <td>ES</td>\n",
       "      <td>100</td>\n",
       "      <td>ES</td>\n",
       "      <td>L</td>\n",
       "    </tr>\n",
       "    <tr>\n",
       "      <th>1</th>\n",
       "      <td>2023</td>\n",
       "      <td>MI</td>\n",
       "      <td>CT</td>\n",
       "      <td>ML Engineer</td>\n",
       "      <td>30000</td>\n",
       "      <td>USD</td>\n",
       "      <td>30000</td>\n",
       "      <td>US</td>\n",
       "      <td>100</td>\n",
       "      <td>US</td>\n",
       "      <td>S</td>\n",
       "    </tr>\n",
       "    <tr>\n",
       "      <th>2</th>\n",
       "      <td>2023</td>\n",
       "      <td>MI</td>\n",
       "      <td>CT</td>\n",
       "      <td>ML Engineer</td>\n",
       "      <td>25500</td>\n",
       "      <td>USD</td>\n",
       "      <td>25500</td>\n",
       "      <td>US</td>\n",
       "      <td>100</td>\n",
       "      <td>US</td>\n",
       "      <td>S</td>\n",
       "    </tr>\n",
       "    <tr>\n",
       "      <th>3</th>\n",
       "      <td>2023</td>\n",
       "      <td>SE</td>\n",
       "      <td>FT</td>\n",
       "      <td>Data Scientist</td>\n",
       "      <td>175000</td>\n",
       "      <td>USD</td>\n",
       "      <td>175000</td>\n",
       "      <td>CA</td>\n",
       "      <td>100</td>\n",
       "      <td>CA</td>\n",
       "      <td>M</td>\n",
       "    </tr>\n",
       "    <tr>\n",
       "      <th>4</th>\n",
       "      <td>2023</td>\n",
       "      <td>SE</td>\n",
       "      <td>FT</td>\n",
       "      <td>Data Scientist</td>\n",
       "      <td>120000</td>\n",
       "      <td>USD</td>\n",
       "      <td>120000</td>\n",
       "      <td>CA</td>\n",
       "      <td>100</td>\n",
       "      <td>CA</td>\n",
       "      <td>M</td>\n",
       "    </tr>\n",
       "  </tbody>\n",
       "</table>\n",
       "</div>"
      ]
     },
     "execution_count": 675,
     "metadata": {},
     "output_type": "execute_result"
    }
   ],
   "execution_count": 675
  },
  {
   "metadata": {
    "ExecuteTime": {
     "end_time": "2024-11-28T08:27:11.144065Z",
     "start_time": "2024-11-28T08:27:11.137533Z"
    }
   },
   "cell_type": "code",
   "source": "df.info()",
   "id": "1581868dd8498aca",
   "outputs": [
    {
     "name": "stdout",
     "output_type": "stream",
     "text": [
      "<class 'pandas.core.frame.DataFrame'>\n",
      "RangeIndex: 3755 entries, 0 to 3754\n",
      "Data columns (total 11 columns):\n",
      " #   Column              Non-Null Count  Dtype \n",
      "---  ------              --------------  ----- \n",
      " 0   work_year           3755 non-null   int64 \n",
      " 1   experience_level    3755 non-null   object\n",
      " 2   employment_type     3755 non-null   object\n",
      " 3   job_title           3755 non-null   object\n",
      " 4   salary              3755 non-null   int64 \n",
      " 5   salary_currency     3755 non-null   object\n",
      " 6   salary_in_usd       3755 non-null   int64 \n",
      " 7   employee_residence  3755 non-null   object\n",
      " 8   remote_ratio        3755 non-null   int64 \n",
      " 9   company_location    3755 non-null   object\n",
      " 10  company_size        3755 non-null   object\n",
      "dtypes: int64(4), object(7)\n",
      "memory usage: 322.8+ KB\n"
     ]
    }
   ],
   "execution_count": 676
  },
  {
   "metadata": {},
   "cell_type": "markdown",
   "source": [
    "Данные по зар. плате специалистов, работающих в Data Science содержат информаю по 11 характеристикам, всего 3755 записей. Пропусков в данных нет.\n",
    "4 характеристики (переменные): work_year, salary, salary_in_usd, remote_ratio имеют числовое значение (целочисленное), тип int64, признаки моут быть категориальными\n",
    "11 характеристик - категориальные, имеют тип object."
   ],
   "id": "88627b21720dc1de"
  },
  {
   "metadata": {
    "ExecuteTime": {
     "end_time": "2024-11-28T08:27:11.181954Z",
     "start_time": "2024-11-28T08:27:11.171622Z"
    }
   },
   "cell_type": "code",
   "source": "df.describe()",
   "id": "e91622ba242c973d",
   "outputs": [
    {
     "data": {
      "text/plain": [
       "         work_year        salary  salary_in_usd  remote_ratio\n",
       "count  3755.000000  3.755000e+03    3755.000000   3755.000000\n",
       "mean   2022.373635  1.906956e+05  137570.389880     46.271638\n",
       "std       0.691448  6.716765e+05   63055.625278     48.589050\n",
       "min    2020.000000  6.000000e+03    5132.000000      0.000000\n",
       "25%    2022.000000  1.000000e+05   95000.000000      0.000000\n",
       "50%    2022.000000  1.380000e+05  135000.000000      0.000000\n",
       "75%    2023.000000  1.800000e+05  175000.000000    100.000000\n",
       "max    2023.000000  3.040000e+07  450000.000000    100.000000"
      ],
      "text/html": [
       "<div>\n",
       "<style scoped>\n",
       "    .dataframe tbody tr th:only-of-type {\n",
       "        vertical-align: middle;\n",
       "    }\n",
       "\n",
       "    .dataframe tbody tr th {\n",
       "        vertical-align: top;\n",
       "    }\n",
       "\n",
       "    .dataframe thead th {\n",
       "        text-align: right;\n",
       "    }\n",
       "</style>\n",
       "<table border=\"1\" class=\"dataframe\">\n",
       "  <thead>\n",
       "    <tr style=\"text-align: right;\">\n",
       "      <th></th>\n",
       "      <th>work_year</th>\n",
       "      <th>salary</th>\n",
       "      <th>salary_in_usd</th>\n",
       "      <th>remote_ratio</th>\n",
       "    </tr>\n",
       "  </thead>\n",
       "  <tbody>\n",
       "    <tr>\n",
       "      <th>count</th>\n",
       "      <td>3755.000000</td>\n",
       "      <td>3.755000e+03</td>\n",
       "      <td>3755.000000</td>\n",
       "      <td>3755.000000</td>\n",
       "    </tr>\n",
       "    <tr>\n",
       "      <th>mean</th>\n",
       "      <td>2022.373635</td>\n",
       "      <td>1.906956e+05</td>\n",
       "      <td>137570.389880</td>\n",
       "      <td>46.271638</td>\n",
       "    </tr>\n",
       "    <tr>\n",
       "      <th>std</th>\n",
       "      <td>0.691448</td>\n",
       "      <td>6.716765e+05</td>\n",
       "      <td>63055.625278</td>\n",
       "      <td>48.589050</td>\n",
       "    </tr>\n",
       "    <tr>\n",
       "      <th>min</th>\n",
       "      <td>2020.000000</td>\n",
       "      <td>6.000000e+03</td>\n",
       "      <td>5132.000000</td>\n",
       "      <td>0.000000</td>\n",
       "    </tr>\n",
       "    <tr>\n",
       "      <th>25%</th>\n",
       "      <td>2022.000000</td>\n",
       "      <td>1.000000e+05</td>\n",
       "      <td>95000.000000</td>\n",
       "      <td>0.000000</td>\n",
       "    </tr>\n",
       "    <tr>\n",
       "      <th>50%</th>\n",
       "      <td>2022.000000</td>\n",
       "      <td>1.380000e+05</td>\n",
       "      <td>135000.000000</td>\n",
       "      <td>0.000000</td>\n",
       "    </tr>\n",
       "    <tr>\n",
       "      <th>75%</th>\n",
       "      <td>2023.000000</td>\n",
       "      <td>1.800000e+05</td>\n",
       "      <td>175000.000000</td>\n",
       "      <td>100.000000</td>\n",
       "    </tr>\n",
       "    <tr>\n",
       "      <th>max</th>\n",
       "      <td>2023.000000</td>\n",
       "      <td>3.040000e+07</td>\n",
       "      <td>450000.000000</td>\n",
       "      <td>100.000000</td>\n",
       "    </tr>\n",
       "  </tbody>\n",
       "</table>\n",
       "</div>"
      ]
     },
     "execution_count": 677,
     "metadata": {},
     "output_type": "execute_result"
    }
   ],
   "execution_count": 677
  },
  {
   "metadata": {
    "ExecuteTime": {
     "end_time": "2024-11-28T08:27:11.234919Z",
     "start_time": "2024-11-28T08:27:11.231061Z"
    }
   },
   "cell_type": "code",
   "source": "df.work_year.value_counts()",
   "id": "958acd5822318885",
   "outputs": [
    {
     "data": {
      "text/plain": [
       "work_year\n",
       "2023    1785\n",
       "2022    1664\n",
       "2021     230\n",
       "2020      76\n",
       "Name: count, dtype: int64"
      ]
     },
     "execution_count": 678,
     "metadata": {},
     "output_type": "execute_result"
    }
   ],
   "execution_count": 678
  },
  {
   "metadata": {},
   "cell_type": "markdown",
   "source": "Данные содержат информацию по зарплатам за 4 года: 76 записей за 2020 год, 230 за 2021 год, 1664 записи за 2022 год и 1785 записей за 2023 год. В качетсве таргета возьмем значение зарабатной платы в USD, для возможности анализа данных по зарплатам приведенных к одной валюте.",
   "id": "c600c918230ac84d"
  },
  {
   "metadata": {
    "ExecuteTime": {
     "end_time": "2024-11-28T08:27:11.377379Z",
     "start_time": "2024-11-28T08:27:11.373025Z"
    }
   },
   "cell_type": "code",
   "source": "df.remote_ratio.value_counts()",
   "id": "51d7d3e7014232ee",
   "outputs": [
    {
     "data": {
      "text/plain": [
       "remote_ratio\n",
       "0      1923\n",
       "100    1643\n",
       "50      189\n",
       "Name: count, dtype: int64"
      ]
     },
     "execution_count": 679,
     "metadata": {},
     "output_type": "execute_result"
    }
   ],
   "execution_count": 679
  },
  {
   "metadata": {},
   "cell_type": "markdown",
   "source": "В данных представлены 3 типа работы: 100% удаленная работа, работа оффлайн и гибридный график (работа, как оффлайн, так и онлайн)",
   "id": "aa63b86b11d45f17"
  },
  {
   "metadata": {
    "ExecuteTime": {
     "end_time": "2024-11-28T08:27:11.448891Z",
     "start_time": "2024-11-28T08:27:11.437760Z"
    }
   },
   "cell_type": "code",
   "source": "df.describe(include='object')",
   "id": "a443ed74f6b9c107",
   "outputs": [
    {
     "data": {
      "text/plain": [
       "       experience_level employment_type      job_title salary_currency  \\\n",
       "count              3755            3755           3755            3755   \n",
       "unique                4               4             93              20   \n",
       "top                  SE              FT  Data Engineer             USD   \n",
       "freq               2516            3718           1040            3224   \n",
       "\n",
       "       employee_residence company_location company_size  \n",
       "count                3755             3755         3755  \n",
       "unique                 78               72            3  \n",
       "top                    US               US            M  \n",
       "freq                 3004             3040         3153  "
      ],
      "text/html": [
       "<div>\n",
       "<style scoped>\n",
       "    .dataframe tbody tr th:only-of-type {\n",
       "        vertical-align: middle;\n",
       "    }\n",
       "\n",
       "    .dataframe tbody tr th {\n",
       "        vertical-align: top;\n",
       "    }\n",
       "\n",
       "    .dataframe thead th {\n",
       "        text-align: right;\n",
       "    }\n",
       "</style>\n",
       "<table border=\"1\" class=\"dataframe\">\n",
       "  <thead>\n",
       "    <tr style=\"text-align: right;\">\n",
       "      <th></th>\n",
       "      <th>experience_level</th>\n",
       "      <th>employment_type</th>\n",
       "      <th>job_title</th>\n",
       "      <th>salary_currency</th>\n",
       "      <th>employee_residence</th>\n",
       "      <th>company_location</th>\n",
       "      <th>company_size</th>\n",
       "    </tr>\n",
       "  </thead>\n",
       "  <tbody>\n",
       "    <tr>\n",
       "      <th>count</th>\n",
       "      <td>3755</td>\n",
       "      <td>3755</td>\n",
       "      <td>3755</td>\n",
       "      <td>3755</td>\n",
       "      <td>3755</td>\n",
       "      <td>3755</td>\n",
       "      <td>3755</td>\n",
       "    </tr>\n",
       "    <tr>\n",
       "      <th>unique</th>\n",
       "      <td>4</td>\n",
       "      <td>4</td>\n",
       "      <td>93</td>\n",
       "      <td>20</td>\n",
       "      <td>78</td>\n",
       "      <td>72</td>\n",
       "      <td>3</td>\n",
       "    </tr>\n",
       "    <tr>\n",
       "      <th>top</th>\n",
       "      <td>SE</td>\n",
       "      <td>FT</td>\n",
       "      <td>Data Engineer</td>\n",
       "      <td>USD</td>\n",
       "      <td>US</td>\n",
       "      <td>US</td>\n",
       "      <td>M</td>\n",
       "    </tr>\n",
       "    <tr>\n",
       "      <th>freq</th>\n",
       "      <td>2516</td>\n",
       "      <td>3718</td>\n",
       "      <td>1040</td>\n",
       "      <td>3224</td>\n",
       "      <td>3004</td>\n",
       "      <td>3040</td>\n",
       "      <td>3153</td>\n",
       "    </tr>\n",
       "  </tbody>\n",
       "</table>\n",
       "</div>"
      ]
     },
     "execution_count": 680,
     "metadata": {},
     "output_type": "execute_result"
    }
   ],
   "execution_count": 680
  },
  {
   "metadata": {
    "ExecuteTime": {
     "end_time": "2024-11-28T08:27:11.550888Z",
     "start_time": "2024-11-28T08:27:11.545259Z"
    }
   },
   "cell_type": "code",
   "source": "df.experience_level.value_counts()",
   "id": "34019e336807196e",
   "outputs": [
    {
     "data": {
      "text/plain": [
       "experience_level\n",
       "SE    2516\n",
       "MI     805\n",
       "EN     320\n",
       "EX     114\n",
       "Name: count, dtype: int64"
      ]
     },
     "execution_count": 681,
     "metadata": {},
     "output_type": "execute_result"
    }
   ],
   "execution_count": 681
  },
  {
   "metadata": {},
   "cell_type": "markdown",
   "source": "В данных представлены 4 уровня опыта: SE - senior, MI - middle, EN - entry, EX - executive, заменим числовые данные по опыту категориальными (цифрами от 0 до 3, где: 0 - нет опыта, 1 - средний опыт, 2 - большой опыт, 3 - очень большой опыт)",
   "id": "ff97dfc3e0ea5d2d"
  },
  {
   "metadata": {
    "ExecuteTime": {
     "end_time": "2024-11-28T08:27:11.593208Z",
     "start_time": "2024-11-28T08:27:11.588440Z"
    }
   },
   "cell_type": "code",
   "source": [
    "def experience_category_encoder(data):\n",
    "    if data == 'EN':\n",
    "        return 0\n",
    "    elif data == 'MI':\n",
    "        return 1\n",
    "    elif data == 'SE':\n",
    "        return 2\n",
    "    elif data == 'EX':\n",
    "        return 3\n",
    "    \n",
    "    \n",
    "df['experience_level_encoding'] = df['experience_level'].apply(experience_category_encoder)"
   ],
   "id": "67f6af0be51476b3",
   "outputs": [],
   "execution_count": 682
  },
  {
   "metadata": {
    "ExecuteTime": {
     "end_time": "2024-11-28T08:27:11.633070Z",
     "start_time": "2024-11-28T08:27:11.628903Z"
    }
   },
   "cell_type": "code",
   "source": "df.drop(['experience_level'], axis=1, inplace=True)",
   "id": "b49865e33d137075",
   "outputs": [],
   "execution_count": 683
  },
  {
   "metadata": {
    "ExecuteTime": {
     "end_time": "2024-11-28T08:27:11.706874Z",
     "start_time": "2024-11-28T08:27:11.702370Z"
    }
   },
   "cell_type": "code",
   "source": "df.employment_type.value_counts()",
   "id": "dc6fd164b32f0e49",
   "outputs": [
    {
     "data": {
      "text/plain": [
       "employment_type\n",
       "FT    3718\n",
       "PT      17\n",
       "CT      10\n",
       "FL      10\n",
       "Name: count, dtype: int64"
      ]
     },
     "execution_count": 684,
     "metadata": {},
     "output_type": "execute_result"
    }
   ],
   "execution_count": 684
  },
  {
   "metadata": {},
   "cell_type": "markdown",
   "source": "Employment type представлен следующими категориями: FT - полная занятость, PT - частичная занятость, CT - контракт, FL - фриланс. Сложно ранжировать эти данные, используем one hot encoding.",
   "id": "fce4882d0a45e53a"
  },
  {
   "metadata": {
    "ExecuteTime": {
     "end_time": "2024-11-28T08:27:11.805138Z",
     "start_time": "2024-11-28T08:27:11.797118Z"
    }
   },
   "cell_type": "code",
   "source": [
    "#Преобразуем колонку employment через One-hot encoding\n",
    "one_hot = pd.get_dummies(df[\"employment_type\"], drop_first=True).astype('int')\n",
    "df = pd.concat((df.drop([\"employment_type\"], axis=1), one_hot), axis=1)\n",
    "df.head()"
   ],
   "id": "cb0b8f9567a064be",
   "outputs": [
    {
     "data": {
      "text/plain": [
       "   work_year                 job_title  salary salary_currency  salary_in_usd  \\\n",
       "0       2023  Principal Data Scientist   80000             EUR          85847   \n",
       "1       2023               ML Engineer   30000             USD          30000   \n",
       "2       2023               ML Engineer   25500             USD          25500   \n",
       "3       2023            Data Scientist  175000             USD         175000   \n",
       "4       2023            Data Scientist  120000             USD         120000   \n",
       "\n",
       "  employee_residence  remote_ratio company_location company_size  \\\n",
       "0                 ES           100               ES            L   \n",
       "1                 US           100               US            S   \n",
       "2                 US           100               US            S   \n",
       "3                 CA           100               CA            M   \n",
       "4                 CA           100               CA            M   \n",
       "\n",
       "   experience_level_encoding  FL  FT  PT  \n",
       "0                          2   0   1   0  \n",
       "1                          1   0   0   0  \n",
       "2                          1   0   0   0  \n",
       "3                          2   0   1   0  \n",
       "4                          2   0   1   0  "
      ],
      "text/html": [
       "<div>\n",
       "<style scoped>\n",
       "    .dataframe tbody tr th:only-of-type {\n",
       "        vertical-align: middle;\n",
       "    }\n",
       "\n",
       "    .dataframe tbody tr th {\n",
       "        vertical-align: top;\n",
       "    }\n",
       "\n",
       "    .dataframe thead th {\n",
       "        text-align: right;\n",
       "    }\n",
       "</style>\n",
       "<table border=\"1\" class=\"dataframe\">\n",
       "  <thead>\n",
       "    <tr style=\"text-align: right;\">\n",
       "      <th></th>\n",
       "      <th>work_year</th>\n",
       "      <th>job_title</th>\n",
       "      <th>salary</th>\n",
       "      <th>salary_currency</th>\n",
       "      <th>salary_in_usd</th>\n",
       "      <th>employee_residence</th>\n",
       "      <th>remote_ratio</th>\n",
       "      <th>company_location</th>\n",
       "      <th>company_size</th>\n",
       "      <th>experience_level_encoding</th>\n",
       "      <th>FL</th>\n",
       "      <th>FT</th>\n",
       "      <th>PT</th>\n",
       "    </tr>\n",
       "  </thead>\n",
       "  <tbody>\n",
       "    <tr>\n",
       "      <th>0</th>\n",
       "      <td>2023</td>\n",
       "      <td>Principal Data Scientist</td>\n",
       "      <td>80000</td>\n",
       "      <td>EUR</td>\n",
       "      <td>85847</td>\n",
       "      <td>ES</td>\n",
       "      <td>100</td>\n",
       "      <td>ES</td>\n",
       "      <td>L</td>\n",
       "      <td>2</td>\n",
       "      <td>0</td>\n",
       "      <td>1</td>\n",
       "      <td>0</td>\n",
       "    </tr>\n",
       "    <tr>\n",
       "      <th>1</th>\n",
       "      <td>2023</td>\n",
       "      <td>ML Engineer</td>\n",
       "      <td>30000</td>\n",
       "      <td>USD</td>\n",
       "      <td>30000</td>\n",
       "      <td>US</td>\n",
       "      <td>100</td>\n",
       "      <td>US</td>\n",
       "      <td>S</td>\n",
       "      <td>1</td>\n",
       "      <td>0</td>\n",
       "      <td>0</td>\n",
       "      <td>0</td>\n",
       "    </tr>\n",
       "    <tr>\n",
       "      <th>2</th>\n",
       "      <td>2023</td>\n",
       "      <td>ML Engineer</td>\n",
       "      <td>25500</td>\n",
       "      <td>USD</td>\n",
       "      <td>25500</td>\n",
       "      <td>US</td>\n",
       "      <td>100</td>\n",
       "      <td>US</td>\n",
       "      <td>S</td>\n",
       "      <td>1</td>\n",
       "      <td>0</td>\n",
       "      <td>0</td>\n",
       "      <td>0</td>\n",
       "    </tr>\n",
       "    <tr>\n",
       "      <th>3</th>\n",
       "      <td>2023</td>\n",
       "      <td>Data Scientist</td>\n",
       "      <td>175000</td>\n",
       "      <td>USD</td>\n",
       "      <td>175000</td>\n",
       "      <td>CA</td>\n",
       "      <td>100</td>\n",
       "      <td>CA</td>\n",
       "      <td>M</td>\n",
       "      <td>2</td>\n",
       "      <td>0</td>\n",
       "      <td>1</td>\n",
       "      <td>0</td>\n",
       "    </tr>\n",
       "    <tr>\n",
       "      <th>4</th>\n",
       "      <td>2023</td>\n",
       "      <td>Data Scientist</td>\n",
       "      <td>120000</td>\n",
       "      <td>USD</td>\n",
       "      <td>120000</td>\n",
       "      <td>CA</td>\n",
       "      <td>100</td>\n",
       "      <td>CA</td>\n",
       "      <td>M</td>\n",
       "      <td>2</td>\n",
       "      <td>0</td>\n",
       "      <td>1</td>\n",
       "      <td>0</td>\n",
       "    </tr>\n",
       "  </tbody>\n",
       "</table>\n",
       "</div>"
      ]
     },
     "execution_count": 685,
     "metadata": {},
     "output_type": "execute_result"
    }
   ],
   "execution_count": 685
  },
  {
   "metadata": {
    "ExecuteTime": {
     "end_time": "2024-11-28T08:27:11.835753Z",
     "start_time": "2024-11-28T08:27:11.831310Z"
    }
   },
   "cell_type": "code",
   "source": "df.company_size.value_counts()",
   "id": "bf76be0f5873afc2",
   "outputs": [
    {
     "data": {
      "text/plain": [
       "company_size\n",
       "M    3153\n",
       "L     454\n",
       "S     148\n",
       "Name: count, dtype: int64"
      ]
     },
     "execution_count": 686,
     "metadata": {},
     "output_type": "execute_result"
    }
   ],
   "execution_count": 686
  },
  {
   "metadata": {},
   "cell_type": "markdown",
   "source": "В данных представлены 3 размера компании: S - маленькая компания, M - компания среднего размера, L - большая компания. Применим label-encoding, закодируем признак в значениях от 0 до 2.",
   "id": "a17d181525b806fd"
  },
  {
   "metadata": {
    "ExecuteTime": {
     "end_time": "2024-11-28T08:27:11.911231Z",
     "start_time": "2024-11-28T08:27:11.906833Z"
    }
   },
   "cell_type": "code",
   "source": [
    "def company_size_category_encoder(data):\n",
    "    if data == 'S':\n",
    "        return 0\n",
    "    elif data == 'M':\n",
    "        return 1\n",
    "    elif data == 'L':\n",
    "        return 2\n",
    "    \n",
    "    \n",
    "df['company_size_encoding'] = df['company_size'].apply(company_size_category_encoder)\n",
    "df.drop(['company_size'], axis=1, inplace=True)"
   ],
   "id": "f13631b9ef658c07",
   "outputs": [],
   "execution_count": 687
  },
  {
   "metadata": {
    "ExecuteTime": {
     "end_time": "2024-11-28T08:27:11.947975Z",
     "start_time": "2024-11-28T08:27:11.944561Z"
    }
   },
   "cell_type": "code",
   "source": "company_locaions = df.company_location.value_counts()",
   "id": "dba78ff1a8af11f0",
   "outputs": [],
   "execution_count": 688
  },
  {
   "metadata": {
    "ExecuteTime": {
     "end_time": "2024-11-28T08:27:12.058122Z",
     "start_time": "2024-11-28T08:27:12.054669Z"
    }
   },
   "cell_type": "code",
   "source": "employee_residence = df.employee_residence.value_counts()",
   "id": "8adcf86b7cfe51aa",
   "outputs": [],
   "execution_count": 689
  },
  {
   "metadata": {
    "ExecuteTime": {
     "end_time": "2024-11-28T08:27:12.112003Z",
     "start_time": "2024-11-28T08:27:12.107376Z"
    }
   },
   "cell_type": "code",
   "source": [
    "companies_locations_higher_1 = []\n",
    "for country in company_locaions.index:\n",
    "    if company_locaions[country]/company_locaions.sum()*100 > 1:\n",
    "        companies_locations_higher_1.append(country)\n",
    "        \n",
    "companies_locations_higher_1"
   ],
   "id": "9b4e579e4f085ac4",
   "outputs": [
    {
     "data": {
      "text/plain": [
       "['US', 'GB', 'CA', 'ES', 'IN', 'DE']"
      ]
     },
     "execution_count": 690,
     "metadata": {},
     "output_type": "execute_result"
    }
   ],
   "execution_count": 690
  },
  {
   "metadata": {
    "ExecuteTime": {
     "end_time": "2024-11-28T08:27:12.162596Z",
     "start_time": "2024-11-28T08:27:12.157824Z"
    }
   },
   "cell_type": "code",
   "source": [
    "employee_residence_higher_1 = []\n",
    "for country in employee_residence.index:\n",
    "    if employee_residence[country]/employee_residence.sum()*100 > 1:\n",
    "        employee_residence_higher_1.append(country)\n",
    "        \n",
    "employee_residence_higher_1"
   ],
   "id": "e3b310b41e9cd0bb",
   "outputs": [
    {
     "data": {
      "text/plain": [
       "['US', 'GB', 'CA', 'ES', 'IN', 'DE', 'FR']"
      ]
     },
     "execution_count": 691,
     "metadata": {},
     "output_type": "execute_result"
    }
   ],
   "execution_count": 691
  },
  {
   "metadata": {
    "ExecuteTime": {
     "end_time": "2024-11-28T08:27:12.190586Z",
     "start_time": "2024-11-28T08:27:12.185538Z"
    }
   },
   "cell_type": "code",
   "source": [
    "df.company_location = df.company_location.apply(lambda country: country if country in companies_locations_higher_1 else 'other')\n",
    "df.employee_residence = df.employee_residence.apply(lambda country: country if country in employee_residence_higher_1 else 'other')"
   ],
   "id": "d194db66d56571ac",
   "outputs": [],
   "execution_count": 692
  },
  {
   "metadata": {
    "ExecuteTime": {
     "end_time": "2024-11-28T08:27:12.234965Z",
     "start_time": "2024-11-28T08:27:12.230345Z"
    }
   },
   "cell_type": "code",
   "source": "df.company_location.value_counts()",
   "id": "da1e51152c0b3392",
   "outputs": [
    {
     "data": {
      "text/plain": [
       "company_location\n",
       "US       3040\n",
       "other     265\n",
       "GB        172\n",
       "CA         87\n",
       "ES         77\n",
       "IN         58\n",
       "DE         56\n",
       "Name: count, dtype: int64"
      ]
     },
     "execution_count": 693,
     "metadata": {},
     "output_type": "execute_result"
    }
   ],
   "execution_count": 693
  },
  {
   "metadata": {
    "ExecuteTime": {
     "end_time": "2024-11-28T08:27:12.276489Z",
     "start_time": "2024-11-28T08:27:12.270982Z"
    }
   },
   "cell_type": "code",
   "source": "df.employee_residence.value_counts()",
   "id": "66ab796dae2d3ba0",
   "outputs": [
    {
     "data": {
      "text/plain": [
       "employee_residence\n",
       "US       3004\n",
       "other     262\n",
       "GB        167\n",
       "CA         85\n",
       "ES         80\n",
       "IN         71\n",
       "DE         48\n",
       "FR         38\n",
       "Name: count, dtype: int64"
      ]
     },
     "execution_count": 694,
     "metadata": {},
     "output_type": "execute_result"
    }
   ],
   "execution_count": 694
  },
  {
   "metadata": {
    "ExecuteTime": {
     "end_time": "2024-11-28T08:27:12.320867Z",
     "start_time": "2024-11-28T08:27:12.316946Z"
    }
   },
   "cell_type": "code",
   "source": "df.drop(['salary', 'salary_currency'], axis=1, inplace=True)",
   "id": "b351cf13dacf8e56",
   "outputs": [],
   "execution_count": 695
  },
  {
   "metadata": {
    "ExecuteTime": {
     "end_time": "2024-11-28T08:27:12.357692Z",
     "start_time": "2024-11-28T08:27:12.350937Z"
    }
   },
   "cell_type": "code",
   "source": "df.head()",
   "id": "e42132c3505c613a",
   "outputs": [
    {
     "data": {
      "text/plain": [
       "   work_year                 job_title  salary_in_usd employee_residence  \\\n",
       "0       2023  Principal Data Scientist          85847                 ES   \n",
       "1       2023               ML Engineer          30000                 US   \n",
       "2       2023               ML Engineer          25500                 US   \n",
       "3       2023            Data Scientist         175000                 CA   \n",
       "4       2023            Data Scientist         120000                 CA   \n",
       "\n",
       "   remote_ratio company_location  experience_level_encoding  FL  FT  PT  \\\n",
       "0           100               ES                          2   0   1   0   \n",
       "1           100               US                          1   0   0   0   \n",
       "2           100               US                          1   0   0   0   \n",
       "3           100               CA                          2   0   1   0   \n",
       "4           100               CA                          2   0   1   0   \n",
       "\n",
       "   company_size_encoding  \n",
       "0                      2  \n",
       "1                      0  \n",
       "2                      0  \n",
       "3                      1  \n",
       "4                      1  "
      ],
      "text/html": [
       "<div>\n",
       "<style scoped>\n",
       "    .dataframe tbody tr th:only-of-type {\n",
       "        vertical-align: middle;\n",
       "    }\n",
       "\n",
       "    .dataframe tbody tr th {\n",
       "        vertical-align: top;\n",
       "    }\n",
       "\n",
       "    .dataframe thead th {\n",
       "        text-align: right;\n",
       "    }\n",
       "</style>\n",
       "<table border=\"1\" class=\"dataframe\">\n",
       "  <thead>\n",
       "    <tr style=\"text-align: right;\">\n",
       "      <th></th>\n",
       "      <th>work_year</th>\n",
       "      <th>job_title</th>\n",
       "      <th>salary_in_usd</th>\n",
       "      <th>employee_residence</th>\n",
       "      <th>remote_ratio</th>\n",
       "      <th>company_location</th>\n",
       "      <th>experience_level_encoding</th>\n",
       "      <th>FL</th>\n",
       "      <th>FT</th>\n",
       "      <th>PT</th>\n",
       "      <th>company_size_encoding</th>\n",
       "    </tr>\n",
       "  </thead>\n",
       "  <tbody>\n",
       "    <tr>\n",
       "      <th>0</th>\n",
       "      <td>2023</td>\n",
       "      <td>Principal Data Scientist</td>\n",
       "      <td>85847</td>\n",
       "      <td>ES</td>\n",
       "      <td>100</td>\n",
       "      <td>ES</td>\n",
       "      <td>2</td>\n",
       "      <td>0</td>\n",
       "      <td>1</td>\n",
       "      <td>0</td>\n",
       "      <td>2</td>\n",
       "    </tr>\n",
       "    <tr>\n",
       "      <th>1</th>\n",
       "      <td>2023</td>\n",
       "      <td>ML Engineer</td>\n",
       "      <td>30000</td>\n",
       "      <td>US</td>\n",
       "      <td>100</td>\n",
       "      <td>US</td>\n",
       "      <td>1</td>\n",
       "      <td>0</td>\n",
       "      <td>0</td>\n",
       "      <td>0</td>\n",
       "      <td>0</td>\n",
       "    </tr>\n",
       "    <tr>\n",
       "      <th>2</th>\n",
       "      <td>2023</td>\n",
       "      <td>ML Engineer</td>\n",
       "      <td>25500</td>\n",
       "      <td>US</td>\n",
       "      <td>100</td>\n",
       "      <td>US</td>\n",
       "      <td>1</td>\n",
       "      <td>0</td>\n",
       "      <td>0</td>\n",
       "      <td>0</td>\n",
       "      <td>0</td>\n",
       "    </tr>\n",
       "    <tr>\n",
       "      <th>3</th>\n",
       "      <td>2023</td>\n",
       "      <td>Data Scientist</td>\n",
       "      <td>175000</td>\n",
       "      <td>CA</td>\n",
       "      <td>100</td>\n",
       "      <td>CA</td>\n",
       "      <td>2</td>\n",
       "      <td>0</td>\n",
       "      <td>1</td>\n",
       "      <td>0</td>\n",
       "      <td>1</td>\n",
       "    </tr>\n",
       "    <tr>\n",
       "      <th>4</th>\n",
       "      <td>2023</td>\n",
       "      <td>Data Scientist</td>\n",
       "      <td>120000</td>\n",
       "      <td>CA</td>\n",
       "      <td>100</td>\n",
       "      <td>CA</td>\n",
       "      <td>2</td>\n",
       "      <td>0</td>\n",
       "      <td>1</td>\n",
       "      <td>0</td>\n",
       "      <td>1</td>\n",
       "    </tr>\n",
       "  </tbody>\n",
       "</table>\n",
       "</div>"
      ]
     },
     "execution_count": 696,
     "metadata": {},
     "output_type": "execute_result"
    }
   ],
   "execution_count": 696
  },
  {
   "metadata": {
    "ExecuteTime": {
     "end_time": "2024-11-28T08:27:12.473274Z",
     "start_time": "2024-11-28T08:27:12.386292Z"
    }
   },
   "cell_type": "code",
   "source": [
    "plt.figure(figsize=(10, 6))\n",
    "sns.boxplot(x='experience_level_encoding', y='salary_in_usd', data=df, color='salmon')\n",
    "plt.title('Salary Distribution by Experience Level')\n",
    "plt.xlabel('Experience Level')\n",
    "plt.ylabel('Salary in USD')\n",
    "plt.show()"
   ],
   "id": "2a34cf97c5a0f96",
   "outputs": [
    {
     "data": {
      "text/plain": [
       "<Figure size 1000x600 with 1 Axes>"
      ],
      "image/png": "[encoded data removed]"
     },
     "metadata": {},
     "output_type": "display_data"
    }
   ],
   "execution_count": 697
  },
  {
   "metadata": {
    "ExecuteTime": {
     "end_time": "2024-11-28T08:27:12.577229Z",
     "start_time": "2024-11-28T08:27:12.474277Z"
    }
   },
   "cell_type": "code",
   "source": [
    "plt.figure(figsize=(10, 6))\n",
    "sns.boxplot(x='company_location', y='salary_in_usd', data=df)\n",
    "plt.title('Salary Distribution by Experience Level')\n",
    "plt.xlabel('Experience Level')\n",
    "plt.ylabel('Salary in USD')\n",
    "plt.show()"
   ],
   "id": "8890fd036e706d7a",
   "outputs": [
    {
     "data": {
      "text/plain": [
       "<Figure size 1000x600 with 1 Axes>"
      ],
      "image/png": "[encoded data removed]"
     },
     "metadata": {},
     "output_type": "display_data"
    }
   ],
   "execution_count": 698
  },
  {
   "metadata": {
    "ExecuteTime": {
     "end_time": "2024-11-28T08:27:12.687426Z",
     "start_time": "2024-11-28T08:27:12.578244Z"
    }
   },
   "cell_type": "code",
   "source": [
    "plt.figure(figsize=(10, 6))\n",
    "sns.boxplot(x='employee_residence', y='salary_in_usd', data=df)\n",
    "plt.title('Salary Distribution by Experience Level')\n",
    "plt.xlabel('Employy residence')\n",
    "plt.ylabel('Salary in USD')\n",
    "plt.show()"
   ],
   "id": "3e9f41137dccc0c8",
   "outputs": [
    {
     "data": {
      "text/plain": [
       "<Figure size 1000x600 with 1 Axes>"
      ],
      "image/png": "[encoded data removed]"
     },
     "metadata": {},
     "output_type": "display_data"
    }
   ],
   "execution_count": 699
  },
  {
   "metadata": {},
   "cell_type": "markdown",
   "source": "Сравнив boxplot-ы для двух похожих категорий employee-residence и company-location, видно, что местоположение компании сильнее влияет на величину заработной платы, поэтому оставим только эту категорию.",
   "id": "4f4a7219e8fd2832"
  },
  {
   "metadata": {
    "ExecuteTime": {
     "end_time": "2024-11-28T08:27:12.691545Z",
     "start_time": "2024-11-28T08:27:12.688440Z"
    }
   },
   "cell_type": "code",
   "source": "df.drop(['employee_residence'], axis=1, inplace=True)",
   "id": "8b20afb810b6f92b",
   "outputs": [],
   "execution_count": 700
  },
  {
   "metadata": {
    "ExecuteTime": {
     "end_time": "2024-11-28T08:27:12.700586Z",
     "start_time": "2024-11-28T08:27:12.692563Z"
    }
   },
   "cell_type": "code",
   "source": [
    "#Преобразуем колонку company_location через One-hot encoding\n",
    "one_hot = pd.get_dummies(df[\"company_location\"], drop_first=True).astype('int')\n",
    "df = pd.concat((df.drop([\"company_location\"], axis=1), one_hot), axis=1)\n",
    "df.head()"
   ],
   "id": "ecbe86ed69f6de5b",
   "outputs": [
    {
     "data": {
      "text/plain": [
       "   work_year                 job_title  salary_in_usd  remote_ratio  \\\n",
       "0       2023  Principal Data Scientist          85847           100   \n",
       "1       2023               ML Engineer          30000           100   \n",
       "2       2023               ML Engineer          25500           100   \n",
       "3       2023            Data Scientist         175000           100   \n",
       "4       2023            Data Scientist         120000           100   \n",
       "\n",
       "   experience_level_encoding  FL  FT  PT  company_size_encoding  DE  ES  GB  \\\n",
       "0                          2   0   1   0                      2   0   1   0   \n",
       "1                          1   0   0   0                      0   0   0   0   \n",
       "2                          1   0   0   0                      0   0   0   0   \n",
       "3                          2   0   1   0                      1   0   0   0   \n",
       "4                          2   0   1   0                      1   0   0   0   \n",
       "\n",
       "   IN  US  other  \n",
       "0   0   0      0  \n",
       "1   0   1      0  \n",
       "2   0   1      0  \n",
       "3   0   0      0  \n",
       "4   0   0      0  "
      ],
      "text/html": [
       "<div>\n",
       "<style scoped>\n",
       "    .dataframe tbody tr th:only-of-type {\n",
       "        vertical-align: middle;\n",
       "    }\n",
       "\n",
       "    .dataframe tbody tr th {\n",
       "        vertical-align: top;\n",
       "    }\n",
       "\n",
       "    .dataframe thead th {\n",
       "        text-align: right;\n",
       "    }\n",
       "</style>\n",
       "<table border=\"1\" class=\"dataframe\">\n",
       "  <thead>\n",
       "    <tr style=\"text-align: right;\">\n",
       "      <th></th>\n",
       "      <th>work_year</th>\n",
       "      <th>job_title</th>\n",
       "      <th>salary_in_usd</th>\n",
       "      <th>remote_ratio</th>\n",
       "      <th>experience_level_encoding</th>\n",
       "      <th>FL</th>\n",
       "      <th>FT</th>\n",
       "      <th>PT</th>\n",
       "      <th>company_size_encoding</th>\n",
       "      <th>DE</th>\n",
       "      <th>ES</th>\n",
       "      <th>GB</th>\n",
       "      <th>IN</th>\n",
       "      <th>US</th>\n",
       "      <th>other</th>\n",
       "    </tr>\n",
       "  </thead>\n",
       "  <tbody>\n",
       "    <tr>\n",
       "      <th>0</th>\n",
       "      <td>2023</td>\n",
       "      <td>Principal Data Scientist</td>\n",
       "      <td>85847</td>\n",
       "      <td>100</td>\n",
       "      <td>2</td>\n",
       "      <td>0</td>\n",
       "      <td>1</td>\n",
       "      <td>0</td>\n",
       "      <td>2</td>\n",
       "      <td>0</td>\n",
       "      <td>1</td>\n",
       "      <td>0</td>\n",
       "      <td>0</td>\n",
       "      <td>0</td>\n",
       "      <td>0</td>\n",
       "    </tr>\n",
       "    <tr>\n",
       "      <th>1</th>\n",
       "      <td>2023</td>\n",
       "      <td>ML Engineer</td>\n",
       "      <td>30000</td>\n",
       "      <td>100</td>\n",
       "      <td>1</td>\n",
       "      <td>0</td>\n",
       "      <td>0</td>\n",
       "      <td>0</td>\n",
       "      <td>0</td>\n",
       "      <td>0</td>\n",
       "      <td>0</td>\n",
       "      <td>0</td>\n",
       "      <td>0</td>\n",
       "      <td>1</td>\n",
       "      <td>0</td>\n",
       "    </tr>\n",
       "    <tr>\n",
       "      <th>2</th>\n",
       "      <td>2023</td>\n",
       "      <td>ML Engineer</td>\n",
       "      <td>25500</td>\n",
       "      <td>100</td>\n",
       "      <td>1</td>\n",
       "      <td>0</td>\n",
       "      <td>0</td>\n",
       "      <td>0</td>\n",
       "      <td>0</td>\n",
       "      <td>0</td>\n",
       "      <td>0</td>\n",
       "      <td>0</td>\n",
       "      <td>0</td>\n",
       "      <td>1</td>\n",
       "      <td>0</td>\n",
       "    </tr>\n",
       "    <tr>\n",
       "      <th>3</th>\n",
       "      <td>2023</td>\n",
       "      <td>Data Scientist</td>\n",
       "      <td>175000</td>\n",
       "      <td>100</td>\n",
       "      <td>2</td>\n",
       "      <td>0</td>\n",
       "      <td>1</td>\n",
       "      <td>0</td>\n",
       "      <td>1</td>\n",
       "      <td>0</td>\n",
       "      <td>0</td>\n",
       "      <td>0</td>\n",
       "      <td>0</td>\n",
       "      <td>0</td>\n",
       "      <td>0</td>\n",
       "    </tr>\n",
       "    <tr>\n",
       "      <th>4</th>\n",
       "      <td>2023</td>\n",
       "      <td>Data Scientist</td>\n",
       "      <td>120000</td>\n",
       "      <td>100</td>\n",
       "      <td>2</td>\n",
       "      <td>0</td>\n",
       "      <td>1</td>\n",
       "      <td>0</td>\n",
       "      <td>1</td>\n",
       "      <td>0</td>\n",
       "      <td>0</td>\n",
       "      <td>0</td>\n",
       "      <td>0</td>\n",
       "      <td>0</td>\n",
       "      <td>0</td>\n",
       "    </tr>\n",
       "  </tbody>\n",
       "</table>\n",
       "</div>"
      ]
     },
     "execution_count": 701,
     "metadata": {},
     "output_type": "execute_result"
    }
   ],
   "execution_count": 701
  },
  {
   "metadata": {
    "ExecuteTime": {
     "end_time": "2024-11-28T08:27:12.704639Z",
     "start_time": "2024-11-28T08:27:12.700586Z"
    }
   },
   "cell_type": "code",
   "source": [
    "job_titles = df.job_title.value_counts()\n",
    "print(job_titles.index)\n",
    "print(len(job_titles.index))"
   ],
   "id": "5a4e2f246f470ba4",
   "outputs": [
    {
     "name": "stdout",
     "output_type": "stream",
     "text": [
      "Index(['Data Engineer', 'Data Scientist', 'Data Analyst',\n",
      "       'Machine Learning Engineer', 'Analytics Engineer', 'Data Architect',\n",
      "       'Research Scientist', 'Applied Scientist', 'Data Science Manager',\n",
      "       'Research Engineer', 'ML Engineer', 'Data Manager',\n",
      "       'Machine Learning Scientist', 'Data Science Consultant',\n",
      "       'Data Analytics Manager', 'Computer Vision Engineer', 'AI Scientist',\n",
      "       'BI Data Analyst', 'Business Data Analyst', 'Data Specialist',\n",
      "       'BI Developer', 'Applied Machine Learning Scientist',\n",
      "       'Director of Data Science', 'AI Developer',\n",
      "       'Machine Learning Infrastructure Engineer', 'Big Data Engineer',\n",
      "       'Data Operations Engineer', 'Head of Data', 'Applied Data Scientist',\n",
      "       'ETL Developer', 'Machine Learning Software Engineer',\n",
      "       'Lead Data Scientist', 'Head of Data Science', 'BI Analyst',\n",
      "       'Data Science Lead', 'Principal Data Scientist', 'NLP Engineer',\n",
      "       'Machine Learning Developer', 'Data Quality Analyst',\n",
      "       'Machine Learning Researcher', 'Data Infrastructure Engineer',\n",
      "       'Data Analytics Engineer', 'Deep Learning Engineer',\n",
      "       'Lead Data Engineer', 'Computer Vision Software Engineer',\n",
      "       'Cloud Database Engineer', 'Lead Data Analyst', 'Data Science Engineer',\n",
      "       'Product Data Analyst', '3D Computer Vision Researcher',\n",
      "       'Machine Learning Research Engineer', 'MLOps Engineer',\n",
      "       'Business Intelligence Engineer', 'Data Operations Analyst',\n",
      "       'Financial Data Analyst', 'Lead Machine Learning Engineer',\n",
      "       'Cloud Data Engineer', 'Machine Learning Manager',\n",
      "       'Applied Machine Learning Engineer', 'Data Modeler', 'Data Strategist',\n",
      "       'Marketing Data Analyst', 'Principal Data Engineer',\n",
      "       'Data Analytics Specialist', 'ETL Engineer', 'Software Data Engineer',\n",
      "       'Autonomous Vehicle Technician', 'AI Programmer', 'Insight Analyst',\n",
      "       'Principal Data Analyst', 'Data Analytics Consultant',\n",
      "       'Data Analytics Lead', 'Big Data Architect', 'Data Scientist Lead',\n",
      "       'Data Lead', 'Compliance Data Analyst', 'Data DevOps Engineer',\n",
      "       'Staff Data Analyst', 'BI Data Engineer', 'Deep Learning Researcher',\n",
      "       'Data Management Specialist', 'Azure Data Engineer',\n",
      "       'Marketing Data Engineer', 'Principal Machine Learning Engineer',\n",
      "       'Manager Data Management', 'Data Science Tech Lead',\n",
      "       'Product Data Scientist', 'Power BI Developer',\n",
      "       'Principal Data Architect', 'Head of Machine Learning',\n",
      "       'Cloud Data Architect', 'Staff Data Scientist', 'Finance Data Analyst'],\n",
      "      dtype='object', name='job_title')\n",
      "93\n"
     ]
    }
   ],
   "execution_count": 702
  },
  {
   "metadata": {
    "ExecuteTime": {
     "end_time": "2024-11-28T08:27:12.711801Z",
     "start_time": "2024-11-28T08:27:12.704639Z"
    }
   },
   "cell_type": "code",
   "source": [
    "def ml_transform(data):\n",
    "    if data.lower().find('machine learning') != -1 or data.lower().find('ml') != -1:\n",
    "        if data.lower().find('engineer') != -1:\n",
    "            return 'Machine Learning Engineer'\n",
    "        elif data.lower().find('scientist') != -1:\n",
    "            return 'Machine Learning Scientist'\n",
    "        elif data.lower().find('manager') != -1 or data.lower().find('head') != -1 or data.lower().find('lead') != -1:\n",
    "            return 'Machine Learning Manager'\n",
    "    return data\n",
    "df['job_title_'] = df['job_title'].apply(ml_transform)\n",
    "df.job_title_.value_counts()"
   ],
   "id": "7900674d66e9e02f",
   "outputs": [
    {
     "data": {
      "text/plain": [
       "job_title_\n",
       "Data Engineer                1040\n",
       "Data Scientist                840\n",
       "Data Analyst                  612\n",
       "Machine Learning Engineer     358\n",
       "Analytics Engineer            103\n",
       "                             ... \n",
       "Data Science Tech Lead          1\n",
       "Principal Data Architect        1\n",
       "Cloud Data Architect            1\n",
       "Staff Data Scientist            1\n",
       "Finance Data Analyst            1\n",
       "Name: count, Length: 83, dtype: int64"
      ]
     },
     "execution_count": 703,
     "metadata": {},
     "output_type": "execute_result"
    }
   ],
   "execution_count": 703
  },
  {
   "metadata": {
    "ExecuteTime": {
     "end_time": "2024-11-28T08:27:12.734080Z",
     "start_time": "2024-11-28T08:27:12.724939Z"
    }
   },
   "cell_type": "code",
   "source": [
    "def ds_transform(data):\n",
    "    if data.lower().find('data') != -1:\n",
    "        if data.lower().find('manager') != -1 or data.lower().find('head') != -1 or data.lower().find('lead') != -1:\n",
    "            return 'Data Manager'\n",
    "        elif data.lower().find('engineer') != -1 or data.lower().find('specialist') != -1:\n",
    "            return 'Data Engineer'\n",
    "        elif data.lower().find('scientist') != -1:\n",
    "            return 'Data Scientist'\n",
    "        elif data.lower().find('analyst') != -1:\n",
    "            return 'Data Analyst'\n",
    "        elif data.lower().find('architect') != -1:\n",
    "            return 'Data Architect'\n",
    "    return data\n",
    "\n",
    "    return data\n",
    "df['job_title_'] = df['job_title_'].apply(ds_transform)\n",
    "df.job_title_.value_counts()"
   ],
   "id": "88744585aedfcfd5",
   "outputs": [
    {
     "data": {
      "text/plain": [
       "job_title_\n",
       "Data Engineer                        1111\n",
       "Data Scientist                        860\n",
       "Data Analyst                          668\n",
       "Machine Learning Engineer             358\n",
       "Data Manager                          164\n",
       "Data Architect                        105\n",
       "Analytics Engineer                    103\n",
       "Research Scientist                     82\n",
       "Applied Scientist                      58\n",
       "Machine Learning Scientist             38\n",
       "Research Engineer                      37\n",
       "Data Science Consultant                24\n",
       "Computer Vision Engineer               18\n",
       "AI Scientist                           16\n",
       "BI Developer                           13\n",
       "Director of Data Science               11\n",
       "AI Developer                           11\n",
       "ETL Developer                          10\n",
       "BI Analyst                              9\n",
       "NLP Engineer                            7\n",
       "Machine Learning Developer              7\n",
       "Machine Learning Researcher             6\n",
       "Deep Learning Engineer                  6\n",
       "Computer Vision Software Engineer       5\n",
       "3D Computer Vision Researcher           4\n",
       "Machine Learning Manager                4\n",
       "Business Intelligence Engineer          4\n",
       "Data Modeler                            2\n",
       "ETL Engineer                            2\n",
       "Data Strategist                         2\n",
       "AI Programmer                           2\n",
       "Autonomous Vehicle Technician           2\n",
       "Data Analytics Consultant               2\n",
       "Insight Analyst                         2\n",
       "Deep Learning Researcher                1\n",
       "Power BI Developer                      1\n",
       "Name: count, dtype: int64"
      ]
     },
     "execution_count": 704,
     "metadata": {},
     "output_type": "execute_result"
    }
   ],
   "execution_count": 704
  },
  {
   "metadata": {
    "ExecuteTime": {
     "end_time": "2024-11-28T08:27:12.770752Z",
     "start_time": "2024-11-28T08:27:12.759797Z"
    }
   },
   "cell_type": "code",
   "source": [
    "def scientist_transform(data):\n",
    "    if data.find('Computer Vision Software Engineer') != -1 or data.find('Computer Vision Engineer') != -1 or data.find('NLP Engineer') != -1 or data.find('3D Computer Vision Researcher') != -1 or data.find('Deep Learning Researcher') != -1 or data.find('AI') != -1:\n",
    "        return 'Deep Learning Engineer'\n",
    "    if data.find('BI') != -1 or data.find('Business') != -1:\n",
    "        return 'BI specialist'\n",
    "    if data.find('ETL') != -1 or data.find('Data Analytics Consultant') != -1 or data.find('Insight Analyst') != -1:\n",
    "        return 'Data Analyst'\n",
    "    if data.find('Autonomous Vehicle Technician') != -1 or data.find('Modeler') != -1:\n",
    "        return 'Data Engineer'\n",
    "    if data.find('Strategist') != -1 or data.find('Manager') != -1 or data.find('Director') != -1:\n",
    "        return 'Manager'\n",
    "    if data.find('Machine Learning Developer') != -1 or data.find('Machine Learning Researcher') != -1:\n",
    "        return 'Machine Learning Scientist'\n",
    "    return data\n",
    "    \n",
    "df['job_title_'] = df['job_title_'].apply(scientist_transform)\n",
    "df.job_title_.value_counts()                                        \n",
    "    \n"
   ],
   "id": "9ef7fb3da5374179",
   "outputs": [
    {
     "data": {
      "text/plain": [
       "job_title_\n",
       "Data Engineer                 1115\n",
       "Data Scientist                 860\n",
       "Data Analyst                   684\n",
       "Machine Learning Engineer      358\n",
       "Manager                        181\n",
       "Data Architect                 105\n",
       "Analytics Engineer             103\n",
       "Research Scientist              82\n",
       "Deep Learning Engineer          70\n",
       "Applied Scientist               58\n",
       "Machine Learning Scientist      51\n",
       "Research Engineer               37\n",
       "BI specialist                   27\n",
       "Data Science Consultant         24\n",
       "Name: count, dtype: int64"
      ]
     },
     "execution_count": 705,
     "metadata": {},
     "output_type": "execute_result"
    }
   ],
   "execution_count": 705
  },
  {
   "metadata": {
    "ExecuteTime": {
     "end_time": "2024-11-28T08:27:12.883486Z",
     "start_time": "2024-11-28T08:27:12.875678Z"
    }
   },
   "cell_type": "code",
   "source": [
    "# Удалим первичную колонку с названиеями профессий\n",
    "df.drop(['job_title'], axis=1, inplace=True)\n",
    "df.head()"
   ],
   "id": "465c04e516a970a7",
   "outputs": [
    {
     "data": {
      "text/plain": [
       "   work_year  salary_in_usd  remote_ratio  experience_level_encoding  FL  FT  \\\n",
       "0       2023          85847           100                          2   0   1   \n",
       "1       2023          30000           100                          1   0   0   \n",
       "2       2023          25500           100                          1   0   0   \n",
       "3       2023         175000           100                          2   0   1   \n",
       "4       2023         120000           100                          2   0   1   \n",
       "\n",
       "   PT  company_size_encoding  DE  ES  GB  IN  US  other  \\\n",
       "0   0                      2   0   1   0   0   0      0   \n",
       "1   0                      0   0   0   0   0   1      0   \n",
       "2   0                      0   0   0   0   0   1      0   \n",
       "3   0                      1   0   0   0   0   0      0   \n",
       "4   0                      1   0   0   0   0   0      0   \n",
       "\n",
       "                  job_title_  \n",
       "0             Data Scientist  \n",
       "1  Machine Learning Engineer  \n",
       "2  Machine Learning Engineer  \n",
       "3             Data Scientist  \n",
       "4             Data Scientist  "
      ],
      "text/html": [
       "<div>\n",
       "<style scoped>\n",
       "    .dataframe tbody tr th:only-of-type {\n",
       "        vertical-align: middle;\n",
       "    }\n",
       "\n",
       "    .dataframe tbody tr th {\n",
       "        vertical-align: top;\n",
       "    }\n",
       "\n",
       "    .dataframe thead th {\n",
       "        text-align: right;\n",
       "    }\n",
       "</style>\n",
       "<table border=\"1\" class=\"dataframe\">\n",
       "  <thead>\n",
       "    <tr style=\"text-align: right;\">\n",
       "      <th></th>\n",
       "      <th>work_year</th>\n",
       "      <th>salary_in_usd</th>\n",
       "      <th>remote_ratio</th>\n",
       "      <th>experience_level_encoding</th>\n",
       "      <th>FL</th>\n",
       "      <th>FT</th>\n",
       "      <th>PT</th>\n",
       "      <th>company_size_encoding</th>\n",
       "      <th>DE</th>\n",
       "      <th>ES</th>\n",
       "      <th>GB</th>\n",
       "      <th>IN</th>\n",
       "      <th>US</th>\n",
       "      <th>other</th>\n",
       "      <th>job_title_</th>\n",
       "    </tr>\n",
       "  </thead>\n",
       "  <tbody>\n",
       "    <tr>\n",
       "      <th>0</th>\n",
       "      <td>2023</td>\n",
       "      <td>85847</td>\n",
       "      <td>100</td>\n",
       "      <td>2</td>\n",
       "      <td>0</td>\n",
       "      <td>1</td>\n",
       "      <td>0</td>\n",
       "      <td>2</td>\n",
       "      <td>0</td>\n",
       "      <td>1</td>\n",
       "      <td>0</td>\n",
       "      <td>0</td>\n",
       "      <td>0</td>\n",
       "      <td>0</td>\n",
       "      <td>Data Scientist</td>\n",
       "    </tr>\n",
       "    <tr>\n",
       "      <th>1</th>\n",
       "      <td>2023</td>\n",
       "      <td>30000</td>\n",
       "      <td>100</td>\n",
       "      <td>1</td>\n",
       "      <td>0</td>\n",
       "      <td>0</td>\n",
       "      <td>0</td>\n",
       "      <td>0</td>\n",
       "      <td>0</td>\n",
       "      <td>0</td>\n",
       "      <td>0</td>\n",
       "      <td>0</td>\n",
       "      <td>1</td>\n",
       "      <td>0</td>\n",
       "      <td>Machine Learning Engineer</td>\n",
       "    </tr>\n",
       "    <tr>\n",
       "      <th>2</th>\n",
       "      <td>2023</td>\n",
       "      <td>25500</td>\n",
       "      <td>100</td>\n",
       "      <td>1</td>\n",
       "      <td>0</td>\n",
       "      <td>0</td>\n",
       "      <td>0</td>\n",
       "      <td>0</td>\n",
       "      <td>0</td>\n",
       "      <td>0</td>\n",
       "      <td>0</td>\n",
       "      <td>0</td>\n",
       "      <td>1</td>\n",
       "      <td>0</td>\n",
       "      <td>Machine Learning Engineer</td>\n",
       "    </tr>\n",
       "    <tr>\n",
       "      <th>3</th>\n",
       "      <td>2023</td>\n",
       "      <td>175000</td>\n",
       "      <td>100</td>\n",
       "      <td>2</td>\n",
       "      <td>0</td>\n",
       "      <td>1</td>\n",
       "      <td>0</td>\n",
       "      <td>1</td>\n",
       "      <td>0</td>\n",
       "      <td>0</td>\n",
       "      <td>0</td>\n",
       "      <td>0</td>\n",
       "      <td>0</td>\n",
       "      <td>0</td>\n",
       "      <td>Data Scientist</td>\n",
       "    </tr>\n",
       "    <tr>\n",
       "      <th>4</th>\n",
       "      <td>2023</td>\n",
       "      <td>120000</td>\n",
       "      <td>100</td>\n",
       "      <td>2</td>\n",
       "      <td>0</td>\n",
       "      <td>1</td>\n",
       "      <td>0</td>\n",
       "      <td>1</td>\n",
       "      <td>0</td>\n",
       "      <td>0</td>\n",
       "      <td>0</td>\n",
       "      <td>0</td>\n",
       "      <td>0</td>\n",
       "      <td>0</td>\n",
       "      <td>Data Scientist</td>\n",
       "    </tr>\n",
       "  </tbody>\n",
       "</table>\n",
       "</div>"
      ]
     },
     "execution_count": 706,
     "metadata": {},
     "output_type": "execute_result"
    }
   ],
   "execution_count": 706
  },
  {
   "metadata": {
    "ExecuteTime": {
     "end_time": "2024-11-28T08:27:12.967387Z",
     "start_time": "2024-11-28T08:27:12.957134Z"
    }
   },
   "cell_type": "code",
   "source": [
    "#Преобразуем колонку job_title через One-hot encoding\n",
    "one_hot = pd.get_dummies(df[\"job_title_\"], drop_first=True).astype('int')\n",
    "df = pd.concat((df.drop([\"job_title_\"], axis=1), one_hot), axis=1)\n",
    "df.head()"
   ],
   "id": "95bb5111b4b0d020",
   "outputs": [
    {
     "data": {
      "text/plain": [
       "   work_year  salary_in_usd  remote_ratio  experience_level_encoding  FL  FT  \\\n",
       "0       2023          85847           100                          2   0   1   \n",
       "1       2023          30000           100                          1   0   0   \n",
       "2       2023          25500           100                          1   0   0   \n",
       "3       2023         175000           100                          2   0   1   \n",
       "4       2023         120000           100                          2   0   1   \n",
       "\n",
       "   PT  company_size_encoding  DE  ES  ...  Data Architect  Data Engineer  \\\n",
       "0   0                      2   0   1  ...               0              0   \n",
       "1   0                      0   0   0  ...               0              0   \n",
       "2   0                      0   0   0  ...               0              0   \n",
       "3   0                      1   0   0  ...               0              0   \n",
       "4   0                      1   0   0  ...               0              0   \n",
       "\n",
       "   Data Science Consultant  Data Scientist  Deep Learning Engineer  \\\n",
       "0                        0               1                       0   \n",
       "1                        0               0                       0   \n",
       "2                        0               0                       0   \n",
       "3                        0               1                       0   \n",
       "4                        0               1                       0   \n",
       "\n",
       "   Machine Learning Engineer  Machine Learning Scientist  Manager  \\\n",
       "0                          0                           0        0   \n",
       "1                          1                           0        0   \n",
       "2                          1                           0        0   \n",
       "3                          0                           0        0   \n",
       "4                          0                           0        0   \n",
       "\n",
       "   Research Engineer  Research Scientist  \n",
       "0                  0                   0  \n",
       "1                  0                   0  \n",
       "2                  0                   0  \n",
       "3                  0                   0  \n",
       "4                  0                   0  \n",
       "\n",
       "[5 rows x 27 columns]"
      ],
      "text/html": [
       "<div>\n",
       "<style scoped>\n",
       "    .dataframe tbody tr th:only-of-type {\n",
       "        vertical-align: middle;\n",
       "    }\n",
       "\n",
       "    .dataframe tbody tr th {\n",
       "        vertical-align: top;\n",
       "    }\n",
       "\n",
       "    .dataframe thead th {\n",
       "        text-align: right;\n",
       "    }\n",
       "</style>\n",
       "<table border=\"1\" class=\"dataframe\">\n",
       "  <thead>\n",
       "    <tr style=\"text-align: right;\">\n",
       "      <th></th>\n",
       "      <th>work_year</th>\n",
       "      <th>salary_in_usd</th>\n",
       "      <th>remote_ratio</th>\n",
       "      <th>experience_level_encoding</th>\n",
       "      <th>FL</th>\n",
       "      <th>FT</th>\n",
       "      <th>PT</th>\n",
       "      <th>company_size_encoding</th>\n",
       "      <th>DE</th>\n",
       "      <th>ES</th>\n",
       "      <th>...</th>\n",
       "      <th>Data Architect</th>\n",
       "      <th>Data Engineer</th>\n",
       "      <th>Data Science Consultant</th>\n",
       "      <th>Data Scientist</th>\n",
       "      <th>Deep Learning Engineer</th>\n",
       "      <th>Machine Learning Engineer</th>\n",
       "      <th>Machine Learning Scientist</th>\n",
       "      <th>Manager</th>\n",
       "      <th>Research Engineer</th>\n",
       "      <th>Research Scientist</th>\n",
       "    </tr>\n",
       "  </thead>\n",
       "  <tbody>\n",
       "    <tr>\n",
       "      <th>0</th>\n",
       "      <td>2023</td>\n",
       "      <td>85847</td>\n",
       "      <td>100</td>\n",
       "      <td>2</td>\n",
       "      <td>0</td>\n",
       "      <td>1</td>\n",
       "      <td>0</td>\n",
       "      <td>2</td>\n",
       "      <td>0</td>\n",
       "      <td>1</td>\n",
       "      <td>...</td>\n",
       "      <td>0</td>\n",
       "      <td>0</td>\n",
       "      <td>0</td>\n",
       "      <td>1</td>\n",
       "      <td>0</td>\n",
       "      <td>0</td>\n",
       "      <td>0</td>\n",
       "      <td>0</td>\n",
       "      <td>0</td>\n",
       "      <td>0</td>\n",
       "    </tr>\n",
       "    <tr>\n",
       "      <th>1</th>\n",
       "      <td>2023</td>\n",
       "      <td>30000</td>\n",
       "      <td>100</td>\n",
       "      <td>1</td>\n",
       "      <td>0</td>\n",
       "      <td>0</td>\n",
       "      <td>0</td>\n",
       "      <td>0</td>\n",
       "      <td>0</td>\n",
       "      <td>0</td>\n",
       "      <td>...</td>\n",
       "      <td>0</td>\n",
       "      <td>0</td>\n",
       "      <td>0</td>\n",
       "      <td>0</td>\n",
       "      <td>0</td>\n",
       "      <td>1</td>\n",
       "      <td>0</td>\n",
       "      <td>0</td>\n",
       "      <td>0</td>\n",
       "      <td>0</td>\n",
       "    </tr>\n",
       "    <tr>\n",
       "      <th>2</th>\n",
       "      <td>2023</td>\n",
       "      <td>25500</td>\n",
       "      <td>100</td>\n",
       "      <td>1</td>\n",
       "      <td>0</td>\n",
       "      <td>0</td>\n",
       "      <td>0</td>\n",
       "      <td>0</td>\n",
       "      <td>0</td>\n",
       "      <td>0</td>\n",
       "      <td>...</td>\n",
       "      <td>0</td>\n",
       "      <td>0</td>\n",
       "      <td>0</td>\n",
       "      <td>0</td>\n",
       "      <td>0</td>\n",
       "      <td>1</td>\n",
       "      <td>0</td>\n",
       "      <td>0</td>\n",
       "      <td>0</td>\n",
       "      <td>0</td>\n",
       "    </tr>\n",
       "    <tr>\n",
       "      <th>3</th>\n",
       "      <td>2023</td>\n",
       "      <td>175000</td>\n",
       "      <td>100</td>\n",
       "      <td>2</td>\n",
       "      <td>0</td>\n",
       "      <td>1</td>\n",
       "      <td>0</td>\n",
       "      <td>1</td>\n",
       "      <td>0</td>\n",
       "      <td>0</td>\n",
       "      <td>...</td>\n",
       "      <td>0</td>\n",
       "      <td>0</td>\n",
       "      <td>0</td>\n",
       "      <td>1</td>\n",
       "      <td>0</td>\n",
       "      <td>0</td>\n",
       "      <td>0</td>\n",
       "      <td>0</td>\n",
       "      <td>0</td>\n",
       "      <td>0</td>\n",
       "    </tr>\n",
       "    <tr>\n",
       "      <th>4</th>\n",
       "      <td>2023</td>\n",
       "      <td>120000</td>\n",
       "      <td>100</td>\n",
       "      <td>2</td>\n",
       "      <td>0</td>\n",
       "      <td>1</td>\n",
       "      <td>0</td>\n",
       "      <td>1</td>\n",
       "      <td>0</td>\n",
       "      <td>0</td>\n",
       "      <td>...</td>\n",
       "      <td>0</td>\n",
       "      <td>0</td>\n",
       "      <td>0</td>\n",
       "      <td>1</td>\n",
       "      <td>0</td>\n",
       "      <td>0</td>\n",
       "      <td>0</td>\n",
       "      <td>0</td>\n",
       "      <td>0</td>\n",
       "      <td>0</td>\n",
       "    </tr>\n",
       "  </tbody>\n",
       "</table>\n",
       "<p>5 rows × 27 columns</p>\n",
       "</div>"
      ]
     },
     "execution_count": 707,
     "metadata": {},
     "output_type": "execute_result"
    }
   ],
   "execution_count": 707
  },
  {
   "metadata": {},
   "cell_type": "markdown",
   "source": "## Применить метод K-Means для кластеризации данных по заработной плате.\n",
   "id": "8bd0f11fff1cb155"
  },
  {
   "metadata": {},
   "cell_type": "markdown",
   "source": [
    "- Определить оптимальное количество кластеров.\n",
    "- Проанализировать характеристики полученных кластеров.\n",
    "- Визуализировать результаты кластеризации и проанализировать характеристики в каждом кластере.\n",
    "- Проанализируйте полученные данные и сделайте выводы о том, какой алгоритм кластеризации сможет выделить кластеры лучше, чем K-Means."
   ],
   "id": "e88559a15afe371c"
  },
  {
   "metadata": {
    "ExecuteTime": {
     "end_time": "2024-11-28T08:27:13.410288Z",
     "start_time": "2024-11-28T08:27:13.149526Z"
    }
   },
   "cell_type": "code",
   "source": [
    "from sklearn.cluster import KMeans\n",
    "\n",
    "sse = []\n",
    "for k in range(1, 11):\n",
    "    kmeans = KMeans(n_clusters=k, random_state=42)\n",
    "    kmeans.fit(df)\n",
    "    sse.append(kmeans.inertia_)\n",
    "\n",
    "plt.plot(range(1, 11), sse, marker='o')\n",
    "plt.title('Метод \"Локтя\"')\n",
    "plt.xlabel('Количество кластеров')\n",
    "plt.ylabel('Сумма квадратов расстояний')\n",
    "plt.show()\n"
   ],
   "id": "b16d0cee76edf651",
   "outputs": [
    {
     "data": {
      "text/plain": [
       "<Figure size 640x480 with 1 Axes>"
      ],
      "image/png": "[encoded data removed]"
     },
     "metadata": {},
     "output_type": "display_data"
    }
   ],
   "execution_count": 708
  },
  {
   "metadata": {
    "ExecuteTime": {
     "end_time": "2024-11-28T08:27:13.557971Z",
     "start_time": "2024-11-28T08:27:13.411303Z"
    }
   },
   "cell_type": "code",
   "source": [
    "# Применение алгоритма KMeans, исходя из резцльтатов метода локтя возьмем 6 кластеров\n",
    "kmeans = KMeans(n_clusters=6, random_state=42)\n",
    "kmeans.fit(df)\n",
    "\n",
    "# Получение меток кластеров\n",
    "labels = kmeans.labels_\n",
    "\n",
    "# Визуализация результатов кластеризации\n",
    "plt.scatter(kmeans.cluster_centers_[:, 0], kmeans.cluster_centers_[:, 1], s=300, c='red', marker='X')\n",
    "plt.title('Результаты кластеризации KMeans')\n",
    "plt.show()"
   ],
   "id": "1288e22fd0e11ad2",
   "outputs": [
    {
     "data": {
      "text/plain": [
       "<Figure size 640x480 with 1 Axes>"
      ],
      "image/png": "[encoded data removed]"
     },
     "metadata": {},
     "output_type": "display_data"
    }
   ],
   "execution_count": 709
  },
  {
   "metadata": {},
   "cell_type": "markdown",
   "source": "## Построение модели линейной регрессии:",
   "id": "6ea5b8ba82a272f"
  },
  {
   "metadata": {},
   "cell_type": "markdown",
   "source": [
    "- Разделить данные на обучающую и тестовую выборки.\n",
    "- Построить модель линейной регрессии для прогнозирования заработной платы.\n",
    "- Оценить качество модели с помощью метрик MAE, MSE и R-квадрат.\n",
    "- Проанализировать значимость признаков и мультиколлинеарность."
   ],
   "id": "423467ef33030f58"
  },
  {
   "metadata": {
    "ExecuteTime": {
     "end_time": "2024-11-28T08:27:13.564594Z",
     "start_time": "2024-11-28T08:27:13.558978Z"
    }
   },
   "cell_type": "code",
   "source": [
    "from sklearn.model_selection import train_test_split\n",
    "\n",
    "X = df.drop('salary_in_usd', axis=1)\n",
    "y = df['salary_in_usd']\n",
    "\n",
    "X_train, X_test, y_train, y_test = train_test_split(X, y, test_size=0.2, random_state=42)"
   ],
   "id": "dbabf809ca79897",
   "outputs": [],
   "execution_count": 710
  },
  {
   "metadata": {
    "ExecuteTime": {
     "end_time": "2024-11-28T08:27:13.611691Z",
     "start_time": "2024-11-28T08:27:13.603755Z"
    }
   },
   "cell_type": "code",
   "source": [
    "from sklearn.preprocessing import StandardScaler\n",
    "\n",
    "scale = StandardScaler()\n",
    "x_train_scale = scale.fit_transform(X_train)\n",
    "x_test_scale = scale.fit_transform(X_test)"
   ],
   "id": "64bb91bdf4a6b361",
   "outputs": [],
   "execution_count": 711
  },
  {
   "metadata": {
    "ExecuteTime": {
     "end_time": "2024-11-28T08:27:13.781018Z",
     "start_time": "2024-11-28T08:27:13.766460Z"
    }
   },
   "cell_type": "code",
   "source": [
    "from sklearn.linear_model import LinearRegression, Ridge, ElasticNet, Lasso\n",
    "from sklearn.metrics import mean_squared_error, mean_absolute_error, r2_score\n",
    "\n",
    "lr = LinearRegression()\n",
    "lr.fit(X_train, y_train)\n",
    "y_train_pred = lr.predict(X_train)\n",
    "print('Linear regression, Train')\n",
    "print(f'MSE: {mean_squared_error(y_train, y_train_pred)},\\\n",
    "\\nMAE :{mean_absolute_error( y_train, y_train_pred)},\\\n",
    "\\n R2: {r2_score(y_train, y_train_pred)}')"
   ],
   "id": "2ce383ecbf0618fd",
   "outputs": [
    {
     "name": "stdout",
     "output_type": "stream",
     "text": [
      "Linear regression, Train\n",
      "MSE: 2330599037.612687,\n",
      "MAE :36376.96533475602,\n",
      " R2: 0.4145054371898269\n"
     ]
    }
   ],
   "execution_count": 712
  },
  {
   "metadata": {
    "ExecuteTime": {
     "end_time": "2024-11-28T08:27:13.843728Z",
     "start_time": "2024-11-28T08:27:13.837602Z"
    }
   },
   "cell_type": "code",
   "source": [
    "y_test_pred = lr.predict(X_test)\n",
    "print('Linear regression, Test')\n",
    "print(f'MSE: {mean_squared_error( y_test, y_test_pred)},\\\n",
    "\\nMAE: {mean_absolute_error( y_test, y_test_pred)},\\\n",
    "\\n R2: {r2_score(y_test, y_test_pred)}')"
   ],
   "id": "3326f98065d496ed",
   "outputs": [
    {
     "name": "stdout",
     "output_type": "stream",
     "text": [
      "Linear regression, Test\n",
      "MSE: 2388088198.7432065,\n",
      "MAE: 37293.81140462374,\n",
      " R2: 0.39508223631751915\n"
     ]
    }
   ],
   "execution_count": 713
  },
  {
   "metadata": {},
   "cell_type": "markdown",
   "source": "**Качество на тестовой выборке соизмеримо с качетсвом на тренировочной при применении линейной регресии, однако качество модели достаточно низкое**",
   "id": "fb26efee035de78b"
  },
  {
   "metadata": {
    "ExecuteTime": {
     "end_time": "2024-11-28T08:27:13.879875Z",
     "start_time": "2024-11-28T08:27:13.870345Z"
    }
   },
   "cell_type": "code",
   "source": [
    "# Добавление нового призенака - номер кластера\n",
    "df = pd.concat([df, pd.DataFrame(kmeans.labels_, columns=['Clusters'])], axis=1)\n",
    "df.head()"
   ],
   "id": "5efb9af777a3a93d",
   "outputs": [
    {
     "data": {
      "text/plain": [
       "   work_year  salary_in_usd  remote_ratio  experience_level_encoding  FL  FT  \\\n",
       "0       2023          85847           100                          2   0   1   \n",
       "1       2023          30000           100                          1   0   0   \n",
       "2       2023          25500           100                          1   0   0   \n",
       "3       2023         175000           100                          2   0   1   \n",
       "4       2023         120000           100                          2   0   1   \n",
       "\n",
       "   PT  company_size_encoding  DE  ES  ...  Data Engineer  \\\n",
       "0   0                      2   0   1  ...              0   \n",
       "1   0                      0   0   0  ...              0   \n",
       "2   0                      0   0   0  ...              0   \n",
       "3   0                      1   0   0  ...              0   \n",
       "4   0                      1   0   0  ...              0   \n",
       "\n",
       "   Data Science Consultant  Data Scientist  Deep Learning Engineer  \\\n",
       "0                        0               1                       0   \n",
       "1                        0               0                       0   \n",
       "2                        0               0                       0   \n",
       "3                        0               1                       0   \n",
       "4                        0               1                       0   \n",
       "\n",
       "   Machine Learning Engineer  Machine Learning Scientist  Manager  \\\n",
       "0                          0                           0        0   \n",
       "1                          1                           0        0   \n",
       "2                          1                           0        0   \n",
       "3                          0                           0        0   \n",
       "4                          0                           0        0   \n",
       "\n",
       "   Research Engineer  Research Scientist  Clusters  \n",
       "0                  0                   0         1  \n",
       "1                  0                   0         3  \n",
       "2                  0                   0         3  \n",
       "3                  0                   0         5  \n",
       "4                  0                   0         0  \n",
       "\n",
       "[5 rows x 28 columns]"
      ],
      "text/html": [
       "<div>\n",
       "<style scoped>\n",
       "    .dataframe tbody tr th:only-of-type {\n",
       "        vertical-align: middle;\n",
       "    }\n",
       "\n",
       "    .dataframe tbody tr th {\n",
       "        vertical-align: top;\n",
       "    }\n",
       "\n",
       "    .dataframe thead th {\n",
       "        text-align: right;\n",
       "    }\n",
       "</style>\n",
       "<table border=\"1\" class=\"dataframe\">\n",
       "  <thead>\n",
       "    <tr style=\"text-align: right;\">\n",
       "      <th></th>\n",
       "      <th>work_year</th>\n",
       "      <th>salary_in_usd</th>\n",
       "      <th>remote_ratio</th>\n",
       "      <th>experience_level_encoding</th>\n",
       "      <th>FL</th>\n",
       "      <th>FT</th>\n",
       "      <th>PT</th>\n",
       "      <th>company_size_encoding</th>\n",
       "      <th>DE</th>\n",
       "      <th>ES</th>\n",
       "      <th>...</th>\n",
       "      <th>Data Engineer</th>\n",
       "      <th>Data Science Consultant</th>\n",
       "      <th>Data Scientist</th>\n",
       "      <th>Deep Learning Engineer</th>\n",
       "      <th>Machine Learning Engineer</th>\n",
       "      <th>Machine Learning Scientist</th>\n",
       "      <th>Manager</th>\n",
       "      <th>Research Engineer</th>\n",
       "      <th>Research Scientist</th>\n",
       "      <th>Clusters</th>\n",
       "    </tr>\n",
       "  </thead>\n",
       "  <tbody>\n",
       "    <tr>\n",
       "      <th>0</th>\n",
       "      <td>2023</td>\n",
       "      <td>85847</td>\n",
       "      <td>100</td>\n",
       "      <td>2</td>\n",
       "      <td>0</td>\n",
       "      <td>1</td>\n",
       "      <td>0</td>\n",
       "      <td>2</td>\n",
       "      <td>0</td>\n",
       "      <td>1</td>\n",
       "      <td>...</td>\n",
       "      <td>0</td>\n",
       "      <td>0</td>\n",
       "      <td>1</td>\n",
       "      <td>0</td>\n",
       "      <td>0</td>\n",
       "      <td>0</td>\n",
       "      <td>0</td>\n",
       "      <td>0</td>\n",
       "      <td>0</td>\n",
       "      <td>1</td>\n",
       "    </tr>\n",
       "    <tr>\n",
       "      <th>1</th>\n",
       "      <td>2023</td>\n",
       "      <td>30000</td>\n",
       "      <td>100</td>\n",
       "      <td>1</td>\n",
       "      <td>0</td>\n",
       "      <td>0</td>\n",
       "      <td>0</td>\n",
       "      <td>0</td>\n",
       "      <td>0</td>\n",
       "      <td>0</td>\n",
       "      <td>...</td>\n",
       "      <td>0</td>\n",
       "      <td>0</td>\n",
       "      <td>0</td>\n",
       "      <td>0</td>\n",
       "      <td>1</td>\n",
       "      <td>0</td>\n",
       "      <td>0</td>\n",
       "      <td>0</td>\n",
       "      <td>0</td>\n",
       "      <td>3</td>\n",
       "    </tr>\n",
       "    <tr>\n",
       "      <th>2</th>\n",
       "      <td>2023</td>\n",
       "      <td>25500</td>\n",
       "      <td>100</td>\n",
       "      <td>1</td>\n",
       "      <td>0</td>\n",
       "      <td>0</td>\n",
       "      <td>0</td>\n",
       "      <td>0</td>\n",
       "      <td>0</td>\n",
       "      <td>0</td>\n",
       "      <td>...</td>\n",
       "      <td>0</td>\n",
       "      <td>0</td>\n",
       "      <td>0</td>\n",
       "      <td>0</td>\n",
       "      <td>1</td>\n",
       "      <td>0</td>\n",
       "      <td>0</td>\n",
       "      <td>0</td>\n",
       "      <td>0</td>\n",
       "      <td>3</td>\n",
       "    </tr>\n",
       "    <tr>\n",
       "      <th>3</th>\n",
       "      <td>2023</td>\n",
       "      <td>175000</td>\n",
       "      <td>100</td>\n",
       "      <td>2</td>\n",
       "      <td>0</td>\n",
       "      <td>1</td>\n",
       "      <td>0</td>\n",
       "      <td>1</td>\n",
       "      <td>0</td>\n",
       "      <td>0</td>\n",
       "      <td>...</td>\n",
       "      <td>0</td>\n",
       "      <td>0</td>\n",
       "      <td>1</td>\n",
       "      <td>0</td>\n",
       "      <td>0</td>\n",
       "      <td>0</td>\n",
       "      <td>0</td>\n",
       "      <td>0</td>\n",
       "      <td>0</td>\n",
       "      <td>5</td>\n",
       "    </tr>\n",
       "    <tr>\n",
       "      <th>4</th>\n",
       "      <td>2023</td>\n",
       "      <td>120000</td>\n",
       "      <td>100</td>\n",
       "      <td>2</td>\n",
       "      <td>0</td>\n",
       "      <td>1</td>\n",
       "      <td>0</td>\n",
       "      <td>1</td>\n",
       "      <td>0</td>\n",
       "      <td>0</td>\n",
       "      <td>...</td>\n",
       "      <td>0</td>\n",
       "      <td>0</td>\n",
       "      <td>1</td>\n",
       "      <td>0</td>\n",
       "      <td>0</td>\n",
       "      <td>0</td>\n",
       "      <td>0</td>\n",
       "      <td>0</td>\n",
       "      <td>0</td>\n",
       "      <td>0</td>\n",
       "    </tr>\n",
       "  </tbody>\n",
       "</table>\n",
       "<p>5 rows × 28 columns</p>\n",
       "</div>"
      ]
     },
     "execution_count": 714,
     "metadata": {},
     "output_type": "execute_result"
    }
   ],
   "execution_count": 714
  },
  {
   "metadata": {
    "ExecuteTime": {
     "end_time": "2024-11-28T08:27:13.941848Z",
     "start_time": "2024-11-28T08:27:13.937148Z"
    }
   },
   "cell_type": "code",
   "source": [
    "X = df.drop('salary_in_usd', axis=1)\n",
    "y = df['salary_in_usd']\n",
    "\n",
    "X_train, X_test, y_train, y_test = train_test_split(X, y, test_size=0.2, random_state=42)"
   ],
   "id": "e37b270df2d29ed6",
   "outputs": [],
   "execution_count": 715
  },
  {
   "metadata": {
    "ExecuteTime": {
     "end_time": "2024-11-28T08:27:13.986610Z",
     "start_time": "2024-11-28T08:27:13.979109Z"
    }
   },
   "cell_type": "code",
   "source": [
    "from sklearn.preprocessing import StandardScaler\n",
    "\n",
    "scale = StandardScaler()\n",
    "x_train_scale = scale.fit_transform(X_train)\n",
    "x_test_scale = scale.fit_transform(X_test)"
   ],
   "id": "b1ec3355ff4ef2be",
   "outputs": [],
   "execution_count": 716
  },
  {
   "metadata": {
    "ExecuteTime": {
     "end_time": "2024-11-28T08:27:14.033607Z",
     "start_time": "2024-11-28T08:27:14.013899Z"
    }
   },
   "cell_type": "code",
   "source": [
    "lr = LinearRegression()\n",
    "lr.fit(X_train, y_train)\n",
    "y_train_pred = lr.predict(X_train)\n",
    "print('Linear regression, Train')\n",
    "print(f'MSE: {mean_squared_error(y_train, y_train_pred)},\\\n",
    "\\nMAE :{mean_absolute_error( y_train, y_train_pred)},\\\n",
    "\\n R2: {r2_score(y_train, y_train_pred)}')"
   ],
   "id": "8859a7269b30eb89",
   "outputs": [
    {
     "name": "stdout",
     "output_type": "stream",
     "text": [
      "Linear regression, Train\n",
      "MSE: 1906184030.9101894,\n",
      "MAE :30672.306648941485,\n",
      " R2: 0.5211272433388139\n"
     ]
    }
   ],
   "execution_count": 717
  },
  {
   "metadata": {
    "ExecuteTime": {
     "end_time": "2024-11-28T08:27:14.055294Z",
     "start_time": "2024-11-28T08:27:14.050993Z"
    }
   },
   "cell_type": "code",
   "source": [
    "y_test_pred = lr.predict(X_test)\n",
    "print('Linear regression, Test')\n",
    "print(f'MSE: {mean_squared_error( y_test, y_test_pred)},\\\n",
    "\\nMAE: {mean_absolute_error( y_test, y_test_pred)},\\\n",
    "\\n R2: {r2_score(y_test, y_test_pred)}')"
   ],
   "id": "350dea4ba70f75fe",
   "outputs": [
    {
     "name": "stdout",
     "output_type": "stream",
     "text": [
      "Linear regression, Test\n",
      "MSE: 1932279184.280038,\n",
      "MAE: 31304.785486899742,\n",
      " R2: 0.5105415270759106\n"
     ]
    }
   ],
   "execution_count": 718
  },
  {
   "metadata": {},
   "cell_type": "markdown",
   "source": "**Добавление новогопризнака - кластер, позволило значительно увеличить качество модели**",
   "id": "40dab1c050f9e576"
  },
  {
   "metadata": {},
   "cell_type": "markdown",
   "source": "## Построение модели дерева решений:",
   "id": "40e5a3e06e385c29"
  },
  {
   "metadata": {},
   "cell_type": "markdown",
   "source": [
    "- Построить модель дерева решений для прогнозирования заработной платы.\n",
    "- Оценить качество модели с помощью метрик RMSE и R-квадрат.\n",
    "- Подберите гиперпараметры для модели дерево решений\n",
    "- Визуализировать дерево решений."
   ],
   "id": "b4ae9332279b5f7b"
  },
  {
   "metadata": {
    "ExecuteTime": {
     "end_time": "2024-11-28T08:27:14.173678Z",
     "start_time": "2024-11-28T08:27:14.162641Z"
    }
   },
   "cell_type": "code",
   "source": [
    "from sklearn.tree import DecisionTreeRegressor\n",
    "\n",
    "dt = DecisionTreeRegressor(random_state=42)\n",
    "dt.fit(X_train, y_train)\n",
    "y_train_pred = dt.predict(X_train)\n",
    "print('Decision Tree, Train')\n",
    "print(f'MSE: {mean_squared_error(y_train, y_train_pred)},\\\n",
    "\\nMAE :{mean_absolute_error( y_train, y_train_pred)},\\\n",
    "\\n R2: {r2_score(y_train, y_train_pred)}')\n"
   ],
   "id": "13eada8a68a56358",
   "outputs": [
    {
     "name": "stdout",
     "output_type": "stream",
     "text": [
      "Decision Tree, Train\n",
      "MSE: 108402358.63481133,\n",
      "MAE :7523.835004045469,\n",
      " R2: 0.9727670909700993\n"
     ]
    }
   ],
   "execution_count": 719
  },
  {
   "metadata": {
    "ExecuteTime": {
     "end_time": "2024-11-28T08:27:14.203179Z",
     "start_time": "2024-11-28T08:27:14.197721Z"
    }
   },
   "cell_type": "code",
   "source": [
    "y_test_pred = dt.predict(X_test)\n",
    "print('Decision Tree, Test')\n",
    "print(f'MSE: {mean_squared_error( y_test, y_test_pred)},\\\n",
    "\\nMAE: {mean_absolute_error( y_test, y_test_pred)},\\\n",
    "\\n R2: {r2_score(y_test, y_test_pred)}')"
   ],
   "id": "2d85e959b115b6fc",
   "outputs": [
    {
     "name": "stdout",
     "output_type": "stream",
     "text": [
      "Decision Tree, Test\n",
      "MSE: 258419008.4000329,\n",
      "MAE: 12353.436474361642,\n",
      " R2: 0.9345408395147797\n"
     ]
    }
   ],
   "execution_count": 720
  },
  {
   "metadata": {
    "ExecuteTime": {
     "end_time": "2024-11-28T08:27:14.526430Z",
     "start_time": "2024-11-28T08:27:14.256646Z"
    }
   },
   "cell_type": "code",
   "source": [
    "max_depths = [5, 9, 13]\n",
    "min_samples_splits = [2, 4, 6, 8]\n",
    "min_samples_leafs = [1, 2, 3, 4]\n",
    "for max_depth in max_depths:\n",
    "    for min_samples_split in min_samples_splits:\n",
    "        for min_samples_leaf in min_samples_leafs:\n",
    "            dt = DecisionTreeRegressor(random_state=42, max_depth=max_depth, min_samples_split=min_samples_split, min_samples_leaf=min_samples_leaf)\n",
    "            dt.fit(X_train, y_train)\n",
    "            y_train_pred = dt.predict(X_train)\n",
    "            y_test_pred = dt.predict(X_test)\n",
    "            print(f' Train, max depth={max_depth}, min samples split={min_samples_split}, min samples leaf={min_samples_leaf}, R2_train={r2_score(y_train, y_train_pred):.2f}, R2_test={r2_score(y_test, y_test_pred):.4f}')"
   ],
   "id": "b18497c652271d55",
   "outputs": [
    {
     "name": "stdout",
     "output_type": "stream",
     "text": [
      " Train, max depth=5, min samples split=2, min samples leaf=1, R2_train=0.95, R2_test=0.9460\n",
      " Train, max depth=5, min samples split=2, min samples leaf=2, R2_train=0.95, R2_test=0.9462\n",
      " Train, max depth=5, min samples split=2, min samples leaf=3, R2_train=0.95, R2_test=0.9458\n",
      " Train, max depth=5, min samples split=2, min samples leaf=4, R2_train=0.95, R2_test=0.9474\n",
      " Train, max depth=5, min samples split=4, min samples leaf=1, R2_train=0.95, R2_test=0.9460\n",
      " Train, max depth=5, min samples split=4, min samples leaf=2, R2_train=0.95, R2_test=0.9462\n",
      " Train, max depth=5, min samples split=4, min samples leaf=3, R2_train=0.95, R2_test=0.9458\n",
      " Train, max depth=5, min samples split=4, min samples leaf=4, R2_train=0.95, R2_test=0.9474\n",
      " Train, max depth=5, min samples split=6, min samples leaf=1, R2_train=0.95, R2_test=0.9460\n",
      " Train, max depth=5, min samples split=6, min samples leaf=2, R2_train=0.95, R2_test=0.9462\n",
      " Train, max depth=5, min samples split=6, min samples leaf=3, R2_train=0.95, R2_test=0.9458\n",
      " Train, max depth=5, min samples split=6, min samples leaf=4, R2_train=0.95, R2_test=0.9474\n",
      " Train, max depth=5, min samples split=8, min samples leaf=1, R2_train=0.95, R2_test=0.9462\n",
      " Train, max depth=5, min samples split=8, min samples leaf=2, R2_train=0.95, R2_test=0.9463\n",
      " Train, max depth=5, min samples split=8, min samples leaf=3, R2_train=0.95, R2_test=0.9460\n",
      " Train, max depth=5, min samples split=8, min samples leaf=4, R2_train=0.95, R2_test=0.9474\n",
      " Train, max depth=9, min samples split=2, min samples leaf=1, R2_train=0.96, R2_test=0.9446\n",
      " Train, max depth=9, min samples split=2, min samples leaf=2, R2_train=0.96, R2_test=0.9445\n",
      " Train, max depth=9, min samples split=2, min samples leaf=3, R2_train=0.96, R2_test=0.9443\n",
      " Train, max depth=9, min samples split=2, min samples leaf=4, R2_train=0.96, R2_test=0.9457\n",
      " Train, max depth=9, min samples split=4, min samples leaf=1, R2_train=0.96, R2_test=0.9432\n",
      " Train, max depth=9, min samples split=4, min samples leaf=2, R2_train=0.96, R2_test=0.9445\n",
      " Train, max depth=9, min samples split=4, min samples leaf=3, R2_train=0.96, R2_test=0.9443\n",
      " Train, max depth=9, min samples split=4, min samples leaf=4, R2_train=0.96, R2_test=0.9457\n",
      " Train, max depth=9, min samples split=6, min samples leaf=1, R2_train=0.96, R2_test=0.9432\n",
      " Train, max depth=9, min samples split=6, min samples leaf=2, R2_train=0.96, R2_test=0.9439\n",
      " Train, max depth=9, min samples split=6, min samples leaf=3, R2_train=0.96, R2_test=0.9443\n",
      " Train, max depth=9, min samples split=6, min samples leaf=4, R2_train=0.96, R2_test=0.9457\n",
      " Train, max depth=9, min samples split=8, min samples leaf=1, R2_train=0.96, R2_test=0.9431\n",
      " Train, max depth=9, min samples split=8, min samples leaf=2, R2_train=0.96, R2_test=0.9444\n",
      " Train, max depth=9, min samples split=8, min samples leaf=3, R2_train=0.96, R2_test=0.9449\n",
      " Train, max depth=9, min samples split=8, min samples leaf=4, R2_train=0.96, R2_test=0.9457\n",
      " Train, max depth=13, min samples split=2, min samples leaf=1, R2_train=0.97, R2_test=0.9396\n",
      " Train, max depth=13, min samples split=2, min samples leaf=2, R2_train=0.96, R2_test=0.9416\n",
      " Train, max depth=13, min samples split=2, min samples leaf=3, R2_train=0.96, R2_test=0.9424\n",
      " Train, max depth=13, min samples split=2, min samples leaf=4, R2_train=0.96, R2_test=0.9439\n",
      " Train, max depth=13, min samples split=4, min samples leaf=1, R2_train=0.97, R2_test=0.9405\n",
      " Train, max depth=13, min samples split=4, min samples leaf=2, R2_train=0.96, R2_test=0.9416\n",
      " Train, max depth=13, min samples split=4, min samples leaf=3, R2_train=0.96, R2_test=0.9424\n",
      " Train, max depth=13, min samples split=4, min samples leaf=4, R2_train=0.96, R2_test=0.9439\n",
      " Train, max depth=13, min samples split=6, min samples leaf=1, R2_train=0.96, R2_test=0.9380\n",
      " Train, max depth=13, min samples split=6, min samples leaf=2, R2_train=0.96, R2_test=0.9417\n",
      " Train, max depth=13, min samples split=6, min samples leaf=3, R2_train=0.96, R2_test=0.9424\n",
      " Train, max depth=13, min samples split=6, min samples leaf=4, R2_train=0.96, R2_test=0.9439\n",
      " Train, max depth=13, min samples split=8, min samples leaf=1, R2_train=0.96, R2_test=0.9401\n",
      " Train, max depth=13, min samples split=8, min samples leaf=2, R2_train=0.96, R2_test=0.9418\n",
      " Train, max depth=13, min samples split=8, min samples leaf=3, R2_train=0.96, R2_test=0.9430\n",
      " Train, max depth=13, min samples split=8, min samples leaf=4, R2_train=0.96, R2_test=0.9439\n"
     ]
    }
   ],
   "execution_count": 721
  },
  {
   "metadata": {},
   "cell_type": "markdown",
   "source": "**Дерево решений не переобучилось и показало очень высокие результатв, попробуем анасамблирование, самые высокие значение R2 получились при следующий параметрах: max depth=5, min_samples_split=8, min_samples_leaf=4 **",
   "id": "25b16795cd266ca7"
  },
  {
   "metadata": {
    "ExecuteTime": {
     "end_time": "2024-11-28T08:27:20.118023Z",
     "start_time": "2024-11-28T08:27:14.527981Z"
    }
   },
   "cell_type": "code",
   "source": [
    "from sklearn import tree\n",
    "\n",
    "tree.plot_tree(dt)"
   ],
   "id": "e37e364591d28d15",
   "outputs": [
    {
     "data": {
      "text/plain": [
       "[Text(0.6792287122483222, 0.9642857142857143, 'x[26] <= 3.5\\nsquared_error = 3980564783.431\\nsamples = 3004\\nvalue = 138055.989'),\n",
       " Text(0.4929552672579099, 0.8928571428571429, 'x[26] <= 2.5\\nsquared_error = 2941963355.107\\nsamples = 2122\\nvalue = 111720.119'),\n",
       " Text(0.586091989753116, 0.9285714285714286, 'True  '),\n",
       " Text(0.3165672938638543, 0.8214285714285714, 'x[26] <= 1.5\\nsquared_error = 2208313373.746\\nsamples = 1705\\nvalue = 128150.229'),\n",
       " Text(0.1844289309683605, 0.75, 'x[26] <= 0.5\\nsquared_error = 668354893.092\\nsamples = 1640\\nvalue = 120442.59'),\n",
       " Text(0.06567593480345159, 0.6785714285714286, 'x[1] <= 75.0\\nsquared_error = 158125173.352\\nsamples = 926\\nvalue = 140019.928'),\n",
       " Text(0.023010546500479387, 0.6071428571428571, 'x[6] <= 0.5\\nsquared_error = 164087899.808\\nsamples = 545\\nvalue = 138769.675'),\n",
       " Text(0.019175455417066157, 0.5357142857142857, 'squared_error = 6540428.889\\nsamples = 6\\nvalue = 123580.667'),\n",
       " Text(0.026845637583892617, 0.5357142857142857, 'x[11] <= 0.5\\nsquared_error = 163244931.357\\nsamples = 539\\nvalue = 138938.755'),\n",
       " Text(0.015340364333652923, 0.4642857142857143, 'x[1] <= 25.0\\nsquared_error = 72898786.111\\nsamples = 17\\nvalue = 132433.353'),\n",
       " Text(0.011505273250239693, 0.39285714285714285, 'x[19] <= 0.5\\nsquared_error = 76356163.633\\nsamples = 13\\nvalue = 134346.462'),\n",
       " Text(0.007670182166826462, 0.32142857142857145, 'x[17] <= 0.5\\nsquared_error = 42245006.395\\nsamples = 9\\nvalue = 136021.778'),\n",
       " Text(0.003835091083413231, 0.25, 'squared_error = 52533613.6\\nsamples = 5\\nvalue = 138439.0'),\n",
       " Text(0.011505273250239693, 0.25, 'squared_error = 12950913.188\\nsamples = 4\\nvalue = 133000.25'),\n",
       " Text(0.015340364333652923, 0.32142857142857145, 'squared_error = 132582387.0\\nsamples = 4\\nvalue = 130577.0'),\n",
       " Text(0.019175455417066157, 0.39285714285714285, 'squared_error = 11108773.188\\nsamples = 4\\nvalue = 126215.75'),\n",
       " Text(0.038350910834132314, 0.4642857142857143, 'x[2] <= 2.5\\nsquared_error = 164764107.439\\nsamples = 522\\nvalue = 139150.617'),\n",
       " Text(0.030680728667305847, 0.39285714285714285, 'x[18] <= 0.5\\nsquared_error = 165765235.774\\nsamples = 511\\nvalue = 138954.446'),\n",
       " Text(0.026845637583892617, 0.32142857142857145, 'x[25] <= 0.5\\nsquared_error = 165377430.467\\nsamples = 506\\nvalue = 139064.668'),\n",
       " Text(0.019175455417066157, 0.25, 'x[20] <= 0.5\\nsquared_error = 167155281.253\\nsamples = 490\\nvalue = 138893.616'),\n",
       " Text(0.015340364333652923, 0.17857142857142858, 'x[19] <= 0.5\\nsquared_error = 166714492.005\\nsamples = 485\\nvalue = 138985.303'),\n",
       " Text(0.007670182166826462, 0.10714285714285714, 'x[2] <= 0.5\\nsquared_error = 161469379.689\\nsamples = 366\\nvalue = 138630.358'),\n",
       " Text(0.003835091083413231, 0.03571428571428571, 'squared_error = 213741597.034\\nsamples = 28\\nvalue = 143460.536'),\n",
       " Text(0.011505273250239693, 0.03571428571428571, 'squared_error = 155046316.482\\nsamples = 338\\nvalue = 138230.225'),\n",
       " Text(0.023010546500479387, 0.10714285714285714, 'x[2] <= 1.5\\nsquared_error = 181267266.101\\nsamples = 119\\nvalue = 140076.983'),\n",
       " Text(0.019175455417066157, 0.03571428571428571, 'squared_error = 153698248.72\\nsamples = 17\\nvalue = 132677.529'),\n",
       " Text(0.026845637583892617, 0.03571428571428571, 'squared_error = 175215896.39\\nsamples = 102\\nvalue = 141310.225'),\n",
       " Text(0.023010546500479387, 0.17857142857142858, 'squared_error = 130000000.0\\nsamples = 5\\nvalue = 130000.0'),\n",
       " Text(0.03451581975071908, 0.25, 'x[2] <= 1.5\\nsquared_error = 82593271.484\\nsamples = 16\\nvalue = 144303.125'),\n",
       " Text(0.030680728667305847, 0.17857142857142858, 'squared_error = 106250000.0\\nsamples = 4\\nvalue = 142500.0'),\n",
       " Text(0.038350910834132314, 0.17857142857142858, 'squared_error = 73262690.972\\nsamples = 12\\nvalue = 144904.167'),\n",
       " Text(0.03451581975071908, 0.32142857142857145, 'squared_error = 79360000.0\\nsamples = 5\\nvalue = 127800.0'),\n",
       " Text(0.046021093000958774, 0.39285714285714285, 'x[17] <= 0.5\\nsquared_error = 33422314.05\\nsamples = 11\\nvalue = 148263.636'),\n",
       " Text(0.04218600191754554, 0.32142857142857145, 'squared_error = 45918367.347\\nsamples = 7\\nvalue = 149285.714'),\n",
       " Text(0.04985618408437201, 0.32142857142857145, 'squared_error = 6526875.0\\nsamples = 4\\nvalue = 146475.0'),\n",
       " Text(0.10834132310642378, 0.6071428571428571, 'x[15] <= 0.5\\nsquared_error = 144161397.203\\nsamples = 381\\nvalue = 141808.346'),\n",
       " Text(0.0862895493767977, 0.5357142857142857, 'x[2] <= 0.5\\nsquared_error = 138049946.599\\nsamples = 321\\nvalue = 142981.495'),\n",
       " Text(0.08245445829338446, 0.4642857142857143, 'squared_error = 47223444.583\\nsamples = 6\\nvalue = 126333.5'),\n",
       " Text(0.09012464046021093, 0.4642857142857143, 'x[0] <= 2022.5\\nsquared_error = 134400262.723\\nsamples = 315\\nvalue = 143298.6'),\n",
       " Text(0.06519654841802493, 0.39285714285714285, 'x[6] <= 0.5\\nsquared_error = 133678100.156\\nsamples = 215\\nvalue = 142269.474'),\n",
       " Text(0.061361457334611694, 0.32142857142857145, 'squared_error = 300000000.0\\nsamples = 4\\nvalue = 130000.0'),\n",
       " Text(0.06903163950143816, 0.32142857142857145, 'x[6] <= 1.5\\nsquared_error = 127617138.237\\nsamples = 211\\nvalue = 142502.071'),\n",
       " Text(0.053691275167785234, 0.25, 'x[17] <= 0.5\\nsquared_error = 126849135.394\\nsamples = 178\\nvalue = 141900.764'),\n",
       " Text(0.046021093000958774, 0.17857142857142858, 'x[0] <= 2021.5\\nsquared_error = 110939502.772\\nsamples = 116\\nvalue = 140754.612'),\n",
       " Text(0.04218600191754554, 0.10714285714285714, 'squared_error = 189291214.222\\nsamples = 6\\nvalue = 132278.333'),\n",
       " Text(0.04985618408437201, 0.10714285714285714, 'x[23] <= 0.5\\nsquared_error = 102533068.789\\nsamples = 110\\nvalue = 141216.955'),\n",
       " Text(0.046021093000958774, 0.03571428571428571, 'squared_error = 96606639.834\\nsamples = 103\\nvalue = 140521.971'),\n",
       " Text(0.053691275167785234, 0.03571428571428571, 'squared_error = 78054276.408\\nsamples = 7\\nvalue = 151443.143'),\n",
       " Text(0.061361457334611694, 0.17857142857142858, 'x[2] <= 1.5\\nsquared_error = 149559212.469\\nsamples = 62\\nvalue = 144045.177'),\n",
       " Text(0.05752636625119847, 0.10714285714285714, 'squared_error = 171818181.818\\nsamples = 11\\nvalue = 148000.0'),\n",
       " Text(0.06519654841802493, 0.10714285714285714, 'squared_error = 140657180.263\\nsamples = 51\\nvalue = 143192.176'),\n",
       " Text(0.08437200383509108, 0.25, 'x[19] <= 0.5\\nsquared_error = 119289678.674\\nsamples = 33\\nvalue = 145745.485'),\n",
       " Text(0.07670182166826463, 0.17857142857142858, 'x[0] <= 2021.5\\nsquared_error = 96661902.053\\nsamples = 23\\nvalue = 141791.348'),\n",
       " Text(0.0728667305848514, 0.10714285714285714, 'squared_error = 27769333.347\\nsamples = 7\\nvalue = 147095.286'),\n",
       " Text(0.08053691275167785, 0.10714285714285714, 'x[17] <= 0.5\\nsquared_error = 109110162.984\\nsamples = 16\\nvalue = 139470.875'),\n",
       " Text(0.07670182166826463, 0.03571428571428571, 'squared_error = 94407054.744\\nsamples = 11\\nvalue = 137221.273'),\n",
       " Text(0.08437200383509108, 0.03571428571428571, 'squared_error = 105829600.0\\nsamples = 5\\nvalue = 144420.0'),\n",
       " Text(0.09204218600191755, 0.17857142857142858, 'x[2] <= 1.5\\nsquared_error = 52662400.0\\nsamples = 10\\nvalue = 154840.0'),\n",
       " Text(0.08820709491850431, 0.10714285714285714, 'squared_error = 64805555.556\\nsamples = 6\\nvalue = 151833.333'),\n",
       " Text(0.09587727708533078, 0.10714285714285714, 'squared_error = 547500.0\\nsamples = 4\\nvalue = 159350.0'),\n",
       " Text(0.11505273250239693, 0.39285714285714285, 'x[17] <= 0.5\\nsquared_error = 128780161.132\\nsamples = 100\\nvalue = 145511.22'),\n",
       " Text(0.1112176414189837, 0.32142857142857145, 'x[19] <= 0.5\\nsquared_error = 101689156.328\\nsamples = 62\\nvalue = 144526.726'),\n",
       " Text(0.10354745925215723, 0.25, 'x[2] <= 1.5\\nsquared_error = 91769270.643\\nsamples = 31\\nvalue = 145287.742'),\n",
       " Text(0.09971236816874401, 0.17857142857142858, 'squared_error = 138197013.889\\nsamples = 6\\nvalue = 140208.333'),\n",
       " Text(0.10738255033557047, 0.17857142857142858, 'x[21] <= 0.5\\nsquared_error = 72948415.68\\nsamples = 25\\nvalue = 146506.8'),\n",
       " Text(0.10354745925215723, 0.10714285714285714, 'x[11] <= 0.5\\nsquared_error = 87853376.969\\nsamples = 17\\nvalue = 145387.176'),\n",
       " Text(0.09971236816874401, 0.03571428571428571, 'squared_error = 30618000.75\\nsamples = 4\\nvalue = 145775.5'),\n",
       " Text(0.10738255033557047, 0.03571428571428571, 'squared_error = 105403586.982\\nsamples = 13\\nvalue = 145267.692'),\n",
       " Text(0.1112176414189837, 0.10714285714285714, 'squared_error = 32950972.0\\nsamples = 8\\nvalue = 148886.0'),\n",
       " Text(0.11888782358581017, 0.25, 'x[2] <= 1.5\\nsquared_error = 110450750.916\\nsamples = 31\\nvalue = 143765.71'),\n",
       " Text(0.11505273250239693, 0.17857142857142858, 'squared_error = 20885268.75\\nsamples = 4\\nvalue = 147852.5'),\n",
       " Text(0.12272291466922339, 0.17857142857142858, 'squared_error = 120878792.118\\nsamples = 27\\nvalue = 143160.259'),\n",
       " Text(0.11888782358581017, 0.32142857142857145, 'squared_error = 168819765.461\\nsamples = 38\\nvalue = 147117.5'),\n",
       " Text(0.13039309683604985, 0.5357142857142857, 'x[6] <= 1.5\\nsquared_error = 130102044.333\\nsamples = 60\\nvalue = 135532.0'),\n",
       " Text(0.12655800575263662, 0.4642857142857143, 'x[0] <= 2022.5\\nsquared_error = 133586062.512\\nsamples = 55\\nvalue = 135125.818'),\n",
       " Text(0.12272291466922339, 0.39285714285714285, 'squared_error = 95730620.095\\nsamples = 29\\nvalue = 135743.793'),\n",
       " Text(0.13039309683604985, 0.39285714285714285, 'squared_error = 174908376.479\\nsamples = 26\\nvalue = 134436.538'),\n",
       " Text(0.1342281879194631, 0.4642857142857143, 'squared_error = 70000000.0\\nsamples = 5\\nvalue = 140000.0'),\n",
       " Text(0.3031819271332694, 0.6785714285714286, 'x[2] <= 1.5\\nsquared_error = 188345406.668\\nsamples = 714\\nvalue = 95052.373'),\n",
       " Text(0.20871284755512942, 0.6071428571428571, 'x[11] <= 0.5\\nsquared_error = 172930435.38\\nsamples = 300\\nvalue = 90915.723'),\n",
       " Text(0.16682646212847554, 0.5357142857142857, 'x[9] <= 0.5\\nsquared_error = 169231026.601\\nsamples = 108\\nvalue = 87128.528'),\n",
       " Text(0.14956855225311602, 0.4642857142857143, 'x[17] <= 0.5\\nsquared_error = 123524104.2\\nsamples = 61\\nvalue = 84562.787'),\n",
       " Text(0.13806327900287632, 0.39285714285714285, 'x[6] <= 0.5\\nsquared_error = 128355585.679\\nsamples = 42\\nvalue = 86383.5'),\n",
       " Text(0.1342281879194631, 0.32142857142857145, 'squared_error = 79379152.806\\nsamples = 6\\nvalue = 80532.833'),\n",
       " Text(0.14189837008628955, 0.32142857142857145, 'x[15] <= 0.5\\nsquared_error = 129862432.738\\nsamples = 36\\nvalue = 87358.611'),\n",
       " Text(0.13806327900287632, 0.25, 'x[21] <= 0.5\\nsquared_error = 122266136.027\\nsamples = 30\\nvalue = 85994.8'),\n",
       " Text(0.1342281879194631, 0.17857142857142858, 'x[1] <= 75.0\\nsquared_error = 121733707.41\\nsamples = 24\\nvalue = 84249.917'),\n",
       " Text(0.12655800575263662, 0.10714285714285714, 'x[0] <= 2022.5\\nsquared_error = 142948314.734\\nsamples = 16\\nvalue = 86722.625'),\n",
       " Text(0.12272291466922339, 0.03571428571428571, 'squared_error = 162554992.243\\nsamples = 12\\nvalue = 87956.917'),\n",
       " Text(0.13039309683604985, 0.03571428571428571, 'squared_error = 65846571.188\\nsamples = 4\\nvalue = 83019.75'),\n",
       " Text(0.14189837008628955, 0.10714285714285714, 'x[12] <= 0.5\\nsquared_error = 42618773.75\\nsamples = 8\\nvalue = 79304.5'),\n",
       " Text(0.13806327900287632, 0.03571428571428571, 'squared_error = 1895627.0\\nsamples = 4\\nvalue = 74969.0'),\n",
       " Text(0.1457334611697028, 0.03571428571428571, 'squared_error = 45748800.0\\nsamples = 4\\nvalue = 83640.0'),\n",
       " Text(0.14189837008628955, 0.17857142857142858, 'squared_error = 63503493.556\\nsamples = 6\\nvalue = 92974.333'),\n",
       " Text(0.1457334611697028, 0.25, 'squared_error = 112044493.889\\nsamples = 6\\nvalue = 94177.667'),\n",
       " Text(0.1610738255033557, 0.39285714285714285, 'x[6] <= 1.5\\nsquared_error = 89317614.997\\nsamples = 19\\nvalue = 80538.053'),\n",
       " Text(0.15723873441994246, 0.32142857142857145, 'x[0] <= 2022.5\\nsquared_error = 98903973.776\\nsamples = 14\\nvalue = 81899.286'),\n",
       " Text(0.15340364333652926, 0.25, 'x[8] <= 0.5\\nsquared_error = 106240651.64\\nsamples = 10\\nvalue = 82447.4'),\n",
       " Text(0.14956855225311602, 0.17857142857142858, 'squared_error = 143882495.222\\nsamples = 6\\nvalue = 84879.333'),\n",
       " Text(0.15723873441994246, 0.17857142857142858, 'squared_error = 27599262.25\\nsamples = 4\\nvalue = 78799.5'),\n",
       " Text(0.1610738255033557, 0.25, 'squared_error = 77933523.0\\nsamples = 4\\nvalue = 80529.0'),\n",
       " Text(0.16490891658676893, 0.32142857142857145, 'squared_error = 42760363.84\\nsamples = 5\\nvalue = 76726.6'),\n",
       " Text(0.1840843720038351, 0.4642857142857143, 'x[6] <= 1.5\\nsquared_error = 208919921.611\\nsamples = 47\\nvalue = 90458.532'),\n",
       " Text(0.18024928092042186, 0.39285714285714285, 'x[1] <= 25.0\\nsquared_error = 171095335.669\\nsamples = 40\\nvalue = 89215.675'),\n",
       " Text(0.1725790987535954, 0.32142857142857145, 'x[21] <= 0.5\\nsquared_error = 193696463.871\\nsamples = 26\\nvalue = 91869.115'),\n",
       " Text(0.16874400767018216, 0.25, 'x[17] <= 0.5\\nsquared_error = 182965675.24\\nsamples = 20\\nvalue = 89417.4'),\n",
       " Text(0.16490891658676893, 0.17857142857142858, 'x[19] <= 0.5\\nsquared_error = 188384979.967\\nsamples = 11\\nvalue = 86135.182'),\n",
       " Text(0.1610738255033557, 0.10714285714285714, 'squared_error = 250734686.24\\nsamples = 5\\nvalue = 84520.6'),\n",
       " Text(0.16874400767018216, 0.10714285714285714, 'squared_error = 132444166.556\\nsamples = 6\\nvalue = 87480.667'),\n",
       " Text(0.1725790987535954, 0.17857142857142858, 'squared_error = 147082199.556\\nsamples = 9\\nvalue = 93429.0'),\n",
       " Text(0.17641418983700863, 0.25, 'squared_error = 142641527.917\\nsamples = 6\\nvalue = 100041.5'),\n",
       " Text(0.18791946308724833, 0.32142857142857145, 'x[17] <= 0.5\\nsquared_error = 91762752.122\\nsamples = 14\\nvalue = 84287.857'),\n",
       " Text(0.1840843720038351, 0.25, 'squared_error = 90052429.44\\nsamples = 5\\nvalue = 84552.6'),\n",
       " Text(0.19175455417066156, 0.25, 'squared_error = 92652360.84\\nsamples = 9\\nvalue = 84140.778'),\n",
       " Text(0.18791946308724833, 0.39285714285714285, 'squared_error = 365794628.531\\nsamples = 7\\nvalue = 97560.571'),\n",
       " Text(0.2505992329817833, 0.5357142857142857, 'x[2] <= 0.5\\nsquared_error = 162405332.156\\nsamples = 192\\nvalue = 93046.021'),\n",
       " Text(0.20709491850431447, 0.4642857142857143, 'x[21] <= 0.5\\nsquared_error = 135806280.164\\nsamples = 54\\nvalue = 86038.278'),\n",
       " Text(0.20325982742090123, 0.39285714285714285, 'x[6] <= 0.5\\nsquared_error = 118822160.784\\nsamples = 50\\nvalue = 85181.34'),\n",
       " Text(0.19942473633748803, 0.32142857142857145, 'squared_error = 18750000.0\\nsamples = 4\\nvalue = 92500.0'),\n",
       " Text(0.20709491850431447, 0.32142857142857145, 'x[15] <= 0.5\\nsquared_error = 122461442.8\\nsamples = 46\\nvalue = 84544.935'),\n",
       " Text(0.19942473633748803, 0.25, 'x[0] <= 2021.5\\nsquared_error = 124049936.661\\nsamples = 29\\nvalue = 85726.448'),\n",
       " Text(0.1955896452540748, 0.17857142857142858, 'squared_error = 111000000.0\\nsamples = 5\\nvalue = 80500.0'),\n",
       " Text(0.20325982742090123, 0.17857142857142858, 'x[19] <= 0.5\\nsquared_error = 119892309.873\\nsamples = 24\\nvalue = 86815.292'),\n",
       " Text(0.1955896452540748, 0.10714285714285714, 'x[17] <= 0.5\\nsquared_error = 111322176.0\\nsamples = 15\\nvalue = 88772.0'),\n",
       " Text(0.19175455417066156, 0.03571428571428571, 'squared_error = 189172864.0\\nsamples = 5\\nvalue = 92796.0'),\n",
       " Text(0.19942473633748803, 0.03571428571428571, 'squared_error = 60252400.0\\nsamples = 10\\nvalue = 86760.0'),\n",
       " Text(0.2109300095877277, 0.10714285714285714, 'x[1] <= 50.0\\nsquared_error = 117159388.543\\nsamples = 9\\nvalue = 83554.111'),\n",
       " Text(0.20709491850431447, 0.03571428571428571, 'squared_error = 60524384.0\\nsamples = 5\\nvalue = 80016.0'),\n",
       " Text(0.21476510067114093, 0.03571428571428571, 'squared_error = 152745621.688\\nsamples = 4\\nvalue = 87976.75'),\n",
       " Text(0.21476510067114093, 0.25, 'x[0] <= 2022.5\\nsquared_error = 113307958.478\\nsamples = 17\\nvalue = 82529.412'),\n",
       " Text(0.2109300095877277, 0.17857142857142858, 'squared_error = 130687500.0\\nsamples = 4\\nvalue = 90750.0'),\n",
       " Text(0.21860019175455417, 0.17857142857142858, 'squared_error = 80769230.769\\nsamples = 13\\nvalue = 80000.0'),\n",
       " Text(0.2109300095877277, 0.39285714285714285, 'squared_error = 224187500.0\\nsamples = 4\\nvalue = 96750.0'),\n",
       " Text(0.29410354745925216, 0.4642857142857143, 'x[0] <= 2022.5\\nsquared_error = 146077858.612\\nsamples = 138\\nvalue = 95788.181'),\n",
       " Text(0.26989453499520616, 0.39285714285714285, 'x[17] <= 0.5\\nsquared_error = 134260914.687\\nsamples = 75\\nvalue = 96847.08'),\n",
       " Text(0.2521572387344199, 0.32142857142857145, 'x[0] <= 2021.5\\nsquared_error = 141585496.577\\nsamples = 55\\nvalue = 96356.473'),\n",
       " Text(0.2339405560882071, 0.25, 'x[15] <= 0.5\\nsquared_error = 138422186.484\\nsamples = 16\\nvalue = 92952.875'),\n",
       " Text(0.22627037392138064, 0.17857142857142858, 'x[19] <= 0.5\\nsquared_error = 184749681.438\\nsamples = 8\\nvalue = 96405.75'),\n",
       " Text(0.2224352828379674, 0.10714285714285714, 'squared_error = 72893096.75\\nsamples = 4\\nvalue = 98936.5'),\n",
       " Text(0.23010546500479387, 0.10714285714285714, 'squared_error = 283796875.0\\nsamples = 4\\nvalue = 93875.0'),\n",
       " Text(0.24161073825503357, 0.17857142857142858, 'x[6] <= 1.5\\nsquared_error = 68250000.0\\nsamples = 8\\nvalue = 89500.0'),\n",
       " Text(0.23777564717162034, 0.10714285714285714, 'squared_error = 14187500.0\\nsamples = 4\\nvalue = 95750.0'),\n",
       " Text(0.24544582933844677, 0.10714285714285714, 'squared_error = 44187500.0\\nsamples = 4\\nvalue = 83250.0'),\n",
       " Text(0.27037392138063276, 0.25, 'x[15] <= 0.5\\nsquared_error = 136180871.532\\nsamples = 39\\nvalue = 97752.821'),\n",
       " Text(0.2607861936720997, 0.17857142857142858, 'x[19] <= 0.5\\nsquared_error = 119546251.0\\nsamples = 20\\nvalue = 94973.0'),\n",
       " Text(0.25311601150527324, 0.10714285714285714, 'x[1] <= 50.0\\nsquared_error = 104595041.322\\nsamples = 11\\nvalue = 92636.364'),\n",
       " Text(0.24928092042186, 0.03571428571428571, 'squared_error = 16000000.0\\nsamples = 4\\nvalue = 94000.0'),\n",
       " Text(0.2569511025886865, 0.03571428571428571, 'squared_error = 153551020.408\\nsamples = 7\\nvalue = 91857.143'),\n",
       " Text(0.2684563758389262, 0.10714285714285714, 'x[1] <= 50.0\\nsquared_error = 122990676.543\\nsamples = 9\\nvalue = 97828.889'),\n",
       " Text(0.26462128475551294, 0.03571428571428571, 'squared_error = 50826875.0\\nsamples = 4\\nvalue = 100525.0'),\n",
       " Text(0.2722914669223394, 0.03571428571428571, 'squared_error = 170254336.0\\nsamples = 5\\nvalue = 95672.0'),\n",
       " Text(0.2799616490891659, 0.17857142857142858, 'x[1] <= 50.0\\nsquared_error = 136994672.576\\nsamples = 19\\nvalue = 100678.947'),\n",
       " Text(0.27612655800575264, 0.10714285714285714, 'squared_error = 129045917.355\\nsamples = 11\\nvalue = 99750.909'),\n",
       " Text(0.2837967401725791, 0.10714285714285714, 'squared_error = 145111675.0\\nsamples = 8\\nvalue = 101955.0'),\n",
       " Text(0.28763183125599234, 0.32142857142857145, 'x[0] <= 2021.5\\nsquared_error = 111636142.188\\nsamples = 20\\nvalue = 98196.25'),\n",
       " Text(0.2837967401725791, 0.25, 'squared_error = 76399107.143\\nsamples = 7\\nvalue = 105275.0'),\n",
       " Text(0.2914669223394056, 0.25, 'x[1] <= 50.0\\nsquared_error = 89099763.314\\nsamples = 13\\nvalue = 94384.615'),\n",
       " Text(0.28763183125599234, 0.17857142857142858, 'squared_error = 116092653.061\\nsamples = 7\\nvalue = 95285.714'),\n",
       " Text(0.2953020134228188, 0.17857142857142858, 'squared_error = 55555555.556\\nsamples = 6\\nvalue = 93333.333'),\n",
       " Text(0.31831255992329816, 0.39285714285714285, 'x[19] <= 0.5\\nsquared_error = 157221710.75\\nsamples = 63\\nvalue = 94527.587'),\n",
       " Text(0.3144774688398849, 0.32142857142857145, 'x[15] <= 0.5\\nsquared_error = 159069982.887\\nsamples = 57\\nvalue = 93738.246'),\n",
       " Text(0.3068072866730585, 0.25, 'x[1] <= 50.0\\nsquared_error = 152011718.75\\nsamples = 32\\nvalue = 92187.5'),\n",
       " Text(0.3029721955896453, 0.17857142857142858, 'x[17] <= 0.5\\nsquared_error = 136539256.198\\nsamples = 22\\nvalue = 92727.273'),\n",
       " Text(0.29913710450623204, 0.10714285714285714, 'squared_error = 168796875.0\\nsamples = 8\\nvalue = 88125.0'),\n",
       " Text(0.3068072866730585, 0.10714285714285714, 'squared_error = 99086734.694\\nsamples = 14\\nvalue = 95357.143'),\n",
       " Text(0.31064237775647174, 0.17857142857142858, 'squared_error = 184000000.0\\nsamples = 10\\nvalue = 91000.0'),\n",
       " Text(0.3221476510067114, 0.25, 'x[1] <= 25.0\\nsquared_error = 161086357.76\\nsamples = 25\\nvalue = 95723.2'),\n",
       " Text(0.31831255992329816, 0.17857142857142858, 'squared_error = 154502504.0\\nsamples = 20\\nvalue = 94904.0'),\n",
       " Text(0.3259827420901246, 0.17857142857142858, 'squared_error = 174000000.0\\nsamples = 5\\nvalue = 99000.0'),\n",
       " Text(0.3221476510067114, 0.32142857142857145, 'squared_error = 77512860.556\\nsamples = 6\\nvalue = 102026.333'),\n",
       " Text(0.3976510067114094, 0.6071428571428571, 'x[16] <= 0.5\\nsquared_error = 178130335.019\\nsamples = 414\\nvalue = 98049.944'),\n",
       " Text(0.3782358581016299, 0.5357142857142857, 'x[11] <= 0.5\\nsquared_error = 176197387.476\\nsamples = 395\\nvalue = 97508.289'),\n",
       " Text(0.35091083413231067, 0.4642857142857143, 'x[0] <= 2020.5\\nsquared_error = 203829966.821\\nsamples = 56\\nvalue = 92392.518'),\n",
       " Text(0.34707574304889743, 0.39285714285714285, 'squared_error = 100352333.5\\nsamples = 4\\nvalue = 107853.0'),\n",
       " Text(0.3547459252157239, 0.39285714285714285, 'x[15] <= 0.5\\nsquared_error = 191988772.264\\nsamples = 52\\nvalue = 91203.25'),\n",
       " Text(0.35091083413231067, 0.32142857142857145, 'x[17] <= 0.5\\nsquared_error = 188345163.363\\nsamples = 46\\nvalue = 92641.37'),\n",
       " Text(0.34132310642377756, 0.25, 'x[12] <= 0.5\\nsquared_error = 191126897.605\\nsamples = 35\\nvalue = 94536.229'),\n",
       " Text(0.3336529242569511, 0.17857142857142858, 'x[6] <= 1.5\\nsquared_error = 154441062.807\\nsamples = 21\\nvalue = 98676.381'),\n",
       " Text(0.32981783317353786, 0.10714285714285714, 'x[0] <= 2022.5\\nsquared_error = 123974595.893\\nsamples = 15\\nvalue = 102963.8'),\n",
       " Text(0.3259827420901246, 0.03571428571428571, 'squared_error = 152237196.69\\nsamples = 10\\nvalue = 101322.9'),\n",
       " Text(0.3336529242569511, 0.03571428571428571, 'squared_error = 51294077.44\\nsamples = 5\\nvalue = 106245.6'),\n",
       " Text(0.3374880153403643, 0.10714285714285714, 'squared_error = 69765061.806\\nsamples = 6\\nvalue = 87957.833'),\n",
       " Text(0.348993288590604, 0.17857142857142858, 'x[0] <= 2022.5\\nsquared_error = 181877418.286\\nsamples = 14\\nvalue = 88326.0'),\n",
       " Text(0.3451581975071908, 0.10714285714285714, 'x[21] <= 0.5\\nsquared_error = 183762864.0\\nsamples = 8\\nvalue = 91726.0'),\n",
       " Text(0.34132310642377756, 0.03571428571428571, 'squared_error = 100293953.5\\nsamples = 4\\nvalue = 94473.0'),\n",
       " Text(0.348993288590604, 0.03571428571428571, 'squared_error = 252139756.5\\nsamples = 4\\nvalue = 88979.0'),\n",
       " Text(0.35282837967401726, 0.10714285714285714, 'squared_error = 143399046.222\\nsamples = 6\\nvalue = 83792.667'),\n",
       " Text(0.3604985618408437, 0.25, 'x[0] <= 2022.5\\nsquared_error = 131719893.653\\nsamples = 11\\nvalue = 86612.273'),\n",
       " Text(0.3566634707574305, 0.17857142857142858, 'squared_error = 56989728.204\\nsamples = 7\\nvalue = 79366.286'),\n",
       " Text(0.36433365292425696, 0.17857142857142858, 'squared_error = 9820605.688\\nsamples = 4\\nvalue = 99292.75'),\n",
       " Text(0.3585810162991371, 0.32142857142857145, 'squared_error = 82503512.222\\nsamples = 6\\nvalue = 80177.667'),\n",
       " Text(0.4055608820709492, 0.4642857142857143, 'x[2] <= 2.5\\nsquared_error = 166595296.93\\nsamples = 339\\nvalue = 98353.372'),\n",
       " Text(0.40172579098753597, 0.39285714285714285, 'x[14] <= 0.5\\nsquared_error = 165937924.908\\nsamples = 334\\nvalue = 98142.482'),\n",
       " Text(0.39789069990412274, 0.32142857142857145, 'x[0] <= 2022.5\\nsquared_error = 166960607.363\\nsamples = 329\\nvalue = 98004.83'),\n",
       " Text(0.3815915627996165, 0.25, 'x[6] <= 1.5\\nsquared_error = 148871897.619\\nsamples = 165\\nvalue = 99237.388'),\n",
       " Text(0.3720038350910834, 0.17857142857142858, 'x[17] <= 0.5\\nsquared_error = 154953872.753\\nsamples = 154\\nvalue = 98982.916'),\n",
       " Text(0.36433365292425696, 0.10714285714285714, 'x[1] <= 50.0\\nsquared_error = 154131461.949\\nsamples = 94\\nvalue = 99697.862'),\n",
       " Text(0.3604985618408437, 0.03571428571428571, 'squared_error = 187784417.894\\nsamples = 35\\nvalue = 98087.143'),\n",
       " Text(0.3681687440076702, 0.03571428571428571, 'squared_error = 131715782.539\\nsamples = 59\\nvalue = 100653.373'),\n",
       " Text(0.3796740172579099, 0.10714285714285714, 'x[1] <= 50.0\\nsquared_error = 154186933.639\\nsamples = 60\\nvalue = 97862.833'),\n",
       " Text(0.37583892617449666, 0.03571428571428571, 'squared_error = 163335617.284\\nsamples = 36\\nvalue = 98722.222'),\n",
       " Text(0.3835091083413231, 0.03571428571428571, 'squared_error = 137694348.438\\nsamples = 24\\nvalue = 96573.75'),\n",
       " Text(0.3911792905081496, 0.17857142857142858, 'x[1] <= 50.0\\nsquared_error = 50125454.545\\nsamples = 11\\nvalue = 102800.0'),\n",
       " Text(0.38734419942473636, 0.10714285714285714, 'squared_error = 29527755.102\\nsamples = 7\\nvalue = 106571.429'),\n",
       " Text(0.3950143815915628, 0.10714285714285714, 'squared_error = 17720000.0\\nsamples = 4\\nvalue = 96200.0'),\n",
       " Text(0.41418983700862894, 0.25, 'x[23] <= 0.5\\nsquared_error = 182093368.501\\nsamples = 164\\nvalue = 96764.756'),\n",
       " Text(0.4103547459252157, 0.17857142857142858, 'x[1] <= 50.0\\nsquared_error = 183660899.149\\nsamples = 158\\nvalue = 96493.797'),\n",
       " Text(0.40268456375838924, 0.10714285714285714, 'x[19] <= 0.5\\nsquared_error = 181732003.961\\nsamples = 96\\nvalue = 97437.302'),\n",
       " Text(0.39884947267497606, 0.03571428571428571, 'squared_error = 172265868.998\\nsamples = 86\\nvalue = 97997.047'),\n",
       " Text(0.40651965484180247, 0.03571428571428571, 'squared_error = 237273575.25\\nsamples = 10\\nvalue = 92623.5'),\n",
       " Text(0.41802492809204217, 0.10714285714285714, 'x[15] <= 0.5\\nsquared_error = 183134940.778\\nsamples = 62\\nvalue = 95032.887'),\n",
       " Text(0.41418983700862894, 0.03571428571428571, 'squared_error = 183474447.405\\nsamples = 34\\nvalue = 97097.647'),\n",
       " Text(0.4218600191754554, 0.03571428571428571, 'squared_error = 171259804.361\\nsamples = 28\\nvalue = 92525.679'),\n",
       " Text(0.41802492809204217, 0.17857142857142858, 'squared_error = 87970000.0\\nsamples = 6\\nvalue = 103900.0'),\n",
       " Text(0.4055608820709492, 0.32142857142857145, 'squared_error = 15360000.0\\nsamples = 5\\nvalue = 107200.0'),\n",
       " Text(0.40939597315436244, 0.39285714285714285, 'squared_error = 9081218.56\\nsamples = 5\\nvalue = 112440.8'),\n",
       " Text(0.4170661553211889, 0.5357142857142857, 'x[0] <= 2022.5\\nsquared_error = 85411591.584\\nsamples = 19\\nvalue = 109310.684'),\n",
       " Text(0.41323106423777567, 0.4642857142857143, 'squared_error = 136519401.25\\nsamples = 6\\nvalue = 100300.5'),\n",
       " Text(0.42090124640460214, 0.4642857142857143, 'x[1] <= 50.0\\nsquared_error = 7060591.716\\nsamples = 13\\nvalue = 113469.231'),\n",
       " Text(0.4170661553211889, 0.39285714285714285, 'squared_error = 8450000.0\\nsamples = 6\\nvalue = 111700.0'),\n",
       " Text(0.4247363374880153, 0.39285714285714285, 'squared_error = 886938.776\\nsamples = 7\\nvalue = 114985.714'),\n",
       " Text(0.44870565675934804, 0.75, 'x[0] <= 2021.5\\nsquared_error = 1745298391.942\\nsamples = 65\\nvalue = 322619.892'),\n",
       " Text(0.4448705656759348, 0.6785714285714286, 'squared_error = 1783760000.0\\nsamples = 5\\nvalue = 405200.0'),\n",
       " Text(0.45254074784276127, 0.6785714285714286, 'x[6] <= 1.5\\nsquared_error = 1126446282.77\\nsamples = 60\\nvalue = 315738.217'),\n",
       " Text(0.44870565675934804, 0.6071428571428571, 'x[0] <= 2022.5\\nsquared_error = 767977881.528\\nsamples = 52\\nvalue = 310083.827'),\n",
       " Text(0.4324065196548418, 0.5357142857142857, 'x[17] <= 0.5\\nsquared_error = 1321099999.316\\nsamples = 15\\nvalue = 323871.133'),\n",
       " Text(0.42857142857142855, 0.4642857142857143, 'squared_error = 2033267640.139\\nsamples = 6\\nvalue = 350261.167'),\n",
       " Text(0.436241610738255, 0.4642857142857143, 'x[1] <= 50.0\\nsquared_error = 72506172.84\\nsamples = 9\\nvalue = 306277.778'),\n",
       " Text(0.4324065196548418, 0.39285714285714285, 'squared_error = 0.0\\nsamples = 4\\nvalue = 300000.0'),\n",
       " Text(0.44007670182166825, 0.39285714285714285, 'squared_error = 73760000.0\\nsamples = 5\\nvalue = 311300.0'),\n",
       " Text(0.4650047938638543, 0.5357142857142857, 'x[21] <= 0.5\\nsquared_error = 435433810.343\\nsamples = 37\\nvalue = 304494.378'),\n",
       " Text(0.4554170661553212, 0.4642857142857143, 'x[17] <= 0.5\\nsquared_error = 481119699.881\\nsamples = 29\\nvalue = 306759.655'),\n",
       " Text(0.4477468839884947, 0.39285714285714285, 'x[19] <= 0.5\\nsquared_error = 655055605.247\\nsamples = 18\\nvalue = 311279.444'),\n",
       " Text(0.4439117929050815, 0.32142857142857145, 'x[23] <= 0.5\\nsquared_error = 886355404.959\\nsamples = 11\\nvalue = 318643.636'),\n",
       " Text(0.44007670182166825, 0.25, 'squared_error = 1401254784.0\\nsamples = 5\\nvalue = 333136.0'),\n",
       " Text(0.4477468839884947, 0.25, 'squared_error = 136395555.556\\nsamples = 6\\nvalue = 306566.667'),\n",
       " Text(0.45158197507190795, 0.32142857142857145, 'squared_error = 72445677.551\\nsamples = 7\\nvalue = 299707.143'),\n",
       " Text(0.46308724832214765, 0.39285714285714285, 'x[2] <= 2.5\\nsquared_error = 108367768.595\\nsamples = 11\\nvalue = 299363.636'),\n",
       " Text(0.4592521572387344, 0.32142857142857145, 'squared_error = 57340000.0\\nsamples = 5\\nvalue = 296600.0'),\n",
       " Text(0.4669223394055609, 0.32142857142857145, 'squared_error = 139222222.222\\nsamples = 6\\nvalue = 301666.667'),\n",
       " Text(0.47459252157238735, 0.4642857142857143, 'x[1] <= 50.0\\nsquared_error = 183790008.938\\nsamples = 8\\nvalue = 296282.75'),\n",
       " Text(0.4707574304889741, 0.39285714285714285, 'squared_error = 33142072.75\\nsamples = 4\\nvalue = 290615.5'),\n",
       " Text(0.4784276126558006, 0.39285714285714285, 'squared_error = 270202500.0\\nsamples = 4\\nvalue = 301950.0'),\n",
       " Text(0.4563758389261745, 0.6071428571428571, 'squared_error = 1897849876.438\\nsamples = 8\\nvalue = 352491.75'),\n",
       " Text(0.6693432406519655, 0.8214285714285714, 'x[10] <= 0.5\\nsquared_error = 324993383.772\\nsamples = 417\\nvalue = 44541.851'),\n",
       " Text(0.6148130393096836, 0.75, 'x[12] <= 0.5\\nsquared_error = 281351029.533\\nsamples = 375\\nvalue = 46975.805'),\n",
       " Text(0.5771812080536913, 0.6785714285714286, 'x[5] <= 0.5\\nsquared_error = 170355879.059\\nsamples = 243\\nvalue = 51974.325'),\n",
       " Text(0.573346116970278, 0.6071428571428571, 'x[8] <= 0.5\\nsquared_error = 143948360.028\\nsamples = 236\\nvalue = 52827.847'),\n",
       " Text(0.5417066155321189, 0.5357142857142857, 'x[4] <= 0.5\\nsquared_error = 134585811.879\\nsamples = 191\\nvalue = 54619.34'),\n",
       " Text(0.5378715244487057, 0.4642857142857143, 'squared_error = 267534722.222\\nsamples = 6\\nvalue = 40916.667'),\n",
       " Text(0.5455417066155321, 0.4642857142857143, 'x[19] <= 0.5\\nsquared_error = 123986834.749\\nsamples = 185\\nvalue = 55063.751'),\n",
       " Text(0.5091083413231065, 0.39285714285714285, 'x[2] <= 1.5\\nsquared_error = 108861721.613\\nsamples = 151\\nvalue = 56016.901'),\n",
       " Text(0.47459252157238735, 0.32142857142857145, 'x[0] <= 2021.5\\nsquared_error = 125809409.071\\nsamples = 112\\nvalue = 54593.982'),\n",
       " Text(0.4592521572387344, 0.25, 'x[11] <= 0.5\\nsquared_error = 169637592.34\\nsamples = 16\\nvalue = 51132.312'),\n",
       " Text(0.4554170661553212, 0.17857142857142858, 'x[2] <= 0.5\\nsquared_error = 156779692.395\\nsamples = 9\\nvalue = 54939.222'),\n",
       " Text(0.45158197507190795, 0.10714285714285714, 'squared_error = 218284048.56\\nsamples = 5\\nvalue = 50759.8'),\n",
       " Text(0.4592521572387344, 0.10714285714285714, 'squared_error = 30771706.25\\nsamples = 4\\nvalue = 60163.5'),\n",
       " Text(0.46308724832214765, 0.17857142857142858, 'squared_error = 143578792.776\\nsamples = 7\\nvalue = 46237.714'),\n",
       " Text(0.4899328859060403, 0.25, 'x[2] <= 0.5\\nsquared_error = 116174653.609\\nsamples = 96\\nvalue = 55170.927'),\n",
       " Text(0.47459252157238735, 0.17857142857142858, 'x[1] <= 25.0\\nsquared_error = 134564528.71\\nsamples = 40\\nvalue = 53311.3'),\n",
       " Text(0.4669223394055609, 0.10714285714285714, 'x[17] <= 0.5\\nsquared_error = 53273126.972\\nsamples = 12\\nvalue = 57828.167'),\n",
       " Text(0.46308724832214765, 0.03571428571428571, 'squared_error = 41333295.438\\nsamples = 8\\nvalue = 54242.25'),\n",
       " Text(0.4707574304889741, 0.03571428571428571, 'squared_error = 0.0\\nsamples = 4\\nvalue = 65000.0'),\n",
       " Text(0.4822627037392138, 0.10714285714285714, 'x[11] <= 0.5\\nsquared_error = 156912628.75\\nsamples = 28\\nvalue = 51375.5'),\n",
       " Text(0.4784276126558006, 0.03571428571428571, 'squared_error = 160953424.264\\nsamples = 11\\nvalue = 47764.909'),\n",
       " Text(0.48609779482262705, 0.03571428571428571, 'squared_error = 140404567.474\\nsamples = 17\\nvalue = 53711.765'),\n",
       " Text(0.5052732502396932, 0.17857142857142858, 'x[1] <= 25.0\\nsquared_error = 98804482.143\\nsamples = 56\\nvalue = 56499.232'),\n",
       " Text(0.49760306807286675, 0.10714285714285714, 'x[17] <= 0.5\\nsquared_error = 121041263.199\\nsamples = 29\\nvalue = 54006.793'),\n",
       " Text(0.4937679769894535, 0.03571428571428571, 'squared_error = 58738411.382\\nsamples = 25\\nvalue = 56201.76'),\n",
       " Text(0.50143815915628, 0.03571428571428571, 'squared_error = 292123914.188\\nsamples = 4\\nvalue = 40288.25'),\n",
       " Text(0.5129434324065196, 0.10714285714285714, 'x[15] <= 0.5\\nsquared_error = 61081440.431\\nsamples = 27\\nvalue = 59176.296'),\n",
       " Text(0.5091083413231065, 0.03571428571428571, 'squared_error = 27022015.215\\nsamples = 16\\nvalue = 61632.688'),\n",
       " Text(0.5167785234899329, 0.03571428571428571, 'squared_error = 89080054.413\\nsamples = 11\\nvalue = 55603.364'),\n",
       " Text(0.5436241610738255, 0.32142857142857145, 'x[9] <= 0.5\\nsquared_error = 37678831.152\\nsamples = 39\\nvalue = 60103.231'),\n",
       " Text(0.5397890699904123, 0.25, 'x[17] <= 0.5\\nsquared_error = 29826904.236\\nsamples = 34\\nvalue = 60973.618'),\n",
       " Text(0.5321188878235859, 0.17857142857142858, 'x[0] <= 2022.5\\nsquared_error = 34337426.721\\nsamples = 22\\nvalue = 60551.227'),\n",
       " Text(0.5282837967401726, 0.10714285714285714, 'x[15] <= 0.5\\nsquared_error = 29925640.684\\nsamples = 16\\nvalue = 61876.938'),\n",
       " Text(0.5244487056567594, 0.03571428571428571, 'squared_error = 41040000.0\\nsamples = 5\\nvalue = 60600.0'),\n",
       " Text(0.5321188878235859, 0.03571428571428571, 'squared_error = 23795596.777\\nsamples = 11\\nvalue = 62457.364'),\n",
       " Text(0.535953978906999, 0.10714285714285714, 'squared_error = 28917670.667\\nsamples = 6\\nvalue = 57016.0'),\n",
       " Text(0.5474592521572388, 0.17857142857142858, 'x[0] <= 2022.5\\nsquared_error = 20630853.333\\nsamples = 12\\nvalue = 61748.0'),\n",
       " Text(0.5436241610738255, 0.10714285714285714, 'squared_error = 25836734.694\\nsamples = 7\\nvalue = 59857.143'),\n",
       " Text(0.551294343240652, 0.10714285714285714, 'squared_error = 1329474.56\\nsamples = 5\\nvalue = 64395.2'),\n",
       " Text(0.5474592521572388, 0.25, 'squared_error = 50890245.44\\nsamples = 5\\nvalue = 54184.6'),\n",
       " Text(0.5819750719079578, 0.39285714285714285, 'x[11] <= 0.5\\nsquared_error = 169206178.934\\nsamples = 34\\nvalue = 50830.647'),\n",
       " Text(0.5743048897411314, 0.32142857142857145, 'x[6] <= 1.5\\nsquared_error = 124289393.107\\nsamples = 21\\nvalue = 53876.81'),\n",
       " Text(0.5704697986577181, 0.25, 'x[9] <= 0.5\\nsquared_error = 133363136.746\\nsamples = 16\\nvalue = 55302.438'),\n",
       " Text(0.5627996164908916, 0.17857142857142858, 'x[1] <= 75.0\\nsquared_error = 159135252.688\\nsamples = 8\\nvalue = 56489.25'),\n",
       " Text(0.5589645254074784, 0.10714285714285714, 'squared_error = 30944472.75\\nsamples = 4\\nvalue = 59438.5'),\n",
       " Text(0.5666347075743049, 0.10714285714285714, 'squared_error = 269929881.5\\nsamples = 4\\nvalue = 53540.0'),\n",
       " Text(0.5781399808245445, 0.17857142857142858, 'x[0] <= 2022.5\\nsquared_error = 104773972.984\\nsamples = 8\\nvalue = 54115.625'),\n",
       " Text(0.5743048897411314, 0.10714285714285714, 'squared_error = 161091748.688\\nsamples = 4\\nvalue = 52331.25'),\n",
       " Text(0.5819750719079578, 0.10714285714285714, 'squared_error = 42088209.0\\nsamples = 4\\nvalue = 55900.0'),\n",
       " Text(0.5781399808245445, 0.25, 'squared_error = 67937754.16\\nsamples = 5\\nvalue = 49314.8'),\n",
       " Text(0.5896452540747843, 0.32142857142857145, 'x[6] <= 0.5\\nsquared_error = 202561214.533\\nsamples = 13\\nvalue = 45909.923'),\n",
       " Text(0.585810162991371, 0.25, 'squared_error = 373094365.188\\nsamples = 4\\nvalue = 38609.75'),\n",
       " Text(0.5934803451581975, 0.25, 'squared_error = 92556216.691\\nsamples = 9\\nvalue = 49154.444'),\n",
       " Text(0.6049856184084372, 0.5357142857142857, 'x[17] <= 0.5\\nsquared_error = 112245685.42\\nsamples = 45\\nvalue = 45223.956'),\n",
       " Text(0.5973154362416108, 0.4642857142857143, 'x[0] <= 2021.5\\nsquared_error = 80872084.833\\nsamples = 36\\nvalue = 43271.667'),\n",
       " Text(0.5934803451581975, 0.39285714285714285, 'squared_error = 117168273.139\\nsamples = 6\\nvalue = 49238.833'),\n",
       " Text(0.6011505273250239, 0.39285714285714285, 'x[2] <= 1.5\\nsquared_error = 65067148.446\\nsamples = 30\\nvalue = 42078.233'),\n",
       " Text(0.5973154362416108, 0.32142857142857145, 'squared_error = 135040185.714\\nsamples = 7\\nvalue = 37423.0'),\n",
       " Text(0.6049856184084372, 0.32142857142857145, 'x[15] <= 0.5\\nsquared_error = 35168073.868\\nsamples = 23\\nvalue = 43495.043'),\n",
       " Text(0.6011505273250239, 0.25, 'x[0] <= 2022.5\\nsquared_error = 21943859.956\\nsamples = 15\\nvalue = 41902.333'),\n",
       " Text(0.5973154362416108, 0.17857142857142858, 'squared_error = 21459824.64\\nsamples = 10\\nvalue = 41606.4'),\n",
       " Text(0.6049856184084372, 0.17857142857142858, 'squared_error = 22386471.36\\nsamples = 5\\nvalue = 42494.2'),\n",
       " Text(0.6088207094918504, 0.25, 'squared_error = 46288938.484\\nsamples = 8\\nvalue = 46481.375'),\n",
       " Text(0.6126558005752637, 0.4642857142857143, 'x[2] <= 1.5\\nsquared_error = 161511449.654\\nsamples = 9\\nvalue = 53033.111'),\n",
       " Text(0.6088207094918504, 0.39285714285714285, 'squared_error = 73909145.5\\nsamples = 4\\nvalue = 56285.0'),\n",
       " Text(0.6164908916586769, 0.39285714285714285, 'squared_error = 216365607.84\\nsamples = 5\\nvalue = 50431.6'),\n",
       " Text(0.5810162991371045, 0.6071428571428571, 'squared_error = 208053428.531\\nsamples = 7\\nvalue = 23198.429'),\n",
       " Text(0.6524448705656759, 0.6785714285714286, 'x[2] <= 0.5\\nsquared_error = 355014029.242\\nsamples = 132\\nvalue = 37773.985'),\n",
       " Text(0.6241610738255033, 0.6071428571428571, 'x[0] <= 2020.5\\nsquared_error = 291685029.873\\nsamples = 44\\nvalue = 28567.114'),\n",
       " Text(0.6203259827420902, 0.5357142857142857, 'squared_error = 125620733.583\\nsamples = 6\\nvalue = 37268.5'),\n",
       " Text(0.6279961649089166, 0.5357142857142857, 'x[1] <= 25.0\\nsquared_error = 304063236.693\\nsamples = 38\\nvalue = 27193.211'),\n",
       " Text(0.6241610738255033, 0.4642857142857143, 'squared_error = 28548364.16\\nsamples = 5\\nvalue = 11837.2'),\n",
       " Text(0.6318312559923298, 0.4642857142857143, 'x[21] <= 0.5\\nsquared_error = 304666186.834\\nsamples = 33\\nvalue = 29519.879'),\n",
       " Text(0.6279961649089166, 0.39285714285714285, 'x[1] <= 75.0\\nsquared_error = 309887204.069\\nsamples = 27\\nvalue = 30843.074'),\n",
       " Text(0.6203259827420902, 0.32142857142857145, 'x[19] <= 0.5\\nsquared_error = 224287770.793\\nsamples = 11\\nvalue = 36209.455'),\n",
       " Text(0.6164908916586769, 0.25, 'squared_error = 277402073.551\\nsamples = 7\\nvalue = 31727.143'),\n",
       " Text(0.6241610738255033, 0.25, 'squared_error = 34649235.25\\nsamples = 4\\nvalue = 44053.5'),\n",
       " Text(0.6356663470757431, 0.32142857142857145, 'x[6] <= 1.5\\nsquared_error = 335326589.09\\nsamples = 16\\nvalue = 27153.688'),\n",
       " Text(0.6318312559923298, 0.25, 'squared_error = 181796648.694\\nsamples = 7\\nvalue = 21211.143'),\n",
       " Text(0.6395014381591563, 0.25, 'x[15] <= 0.5\\nsquared_error = 405909756.0\\nsamples = 9\\nvalue = 31775.667'),\n",
       " Text(0.6356663470757431, 0.17857142857142858, 'squared_error = 334404250.75\\nsamples = 4\\nvalue = 33202.5'),\n",
       " Text(0.6433365292425696, 0.17857142857142858, 'squared_error = 460182531.36\\nsamples = 5\\nvalue = 30634.2'),\n",
       " Text(0.6356663470757431, 0.39285714285714285, 'squared_error = 237838176.583\\nsamples = 6\\nvalue = 23565.5'),\n",
       " Text(0.6807286673058485, 0.6071428571428571, 'x[25] <= 0.5\\nsquared_error = 323103670.789\\nsamples = 88\\nvalue = 42377.42'),\n",
       " Text(0.6768935762224353, 0.5357142857142857, 'x[0] <= 2021.5\\nsquared_error = 321794635.646\\nsamples = 84\\nvalue = 41512.857'),\n",
       " Text(0.6548418024928092, 0.4642857142857143, 'x[1] <= 25.0\\nsquared_error = 268965783.29\\nsamples = 28\\nvalue = 35856.179'),\n",
       " Text(0.6510067114093959, 0.39285714285714285, 'squared_error = 144111847.438\\nsamples = 8\\nvalue = 24450.25'),\n",
       " Text(0.6586768935762224, 0.39285714285714285, 'x[6] <= 1.5\\nsquared_error = 246054041.947\\nsamples = 20\\nvalue = 40418.55'),\n",
       " Text(0.6510067114093959, 0.32142857142857145, 'x[1] <= 75.0\\nsquared_error = 302956872.109\\nsamples = 8\\nvalue = 44623.125'),\n",
       " Text(0.6471716203259827, 0.25, 'squared_error = 465373172.25\\nsamples = 4\\nvalue = 49294.5'),\n",
       " Text(0.6548418024928092, 0.25, 'squared_error = 96897083.188\\nsamples = 4\\nvalue = 39951.75'),\n",
       " Text(0.6663470757430489, 0.32142857142857145, 'x[1] <= 75.0\\nsquared_error = 188476098.583\\nsamples = 12\\nvalue = 37615.5'),\n",
       " Text(0.6625119846596357, 0.25, 'squared_error = 257996535.429\\nsamples = 7\\nvalue = 34412.0'),\n",
       " Text(0.6701821668264621, 0.25, 'squared_error = 56665781.84\\nsamples = 5\\nvalue = 42100.4'),\n",
       " Text(0.6989453499520614, 0.4642857142857143, 'x[2] <= 1.5\\nsquared_error = 324210552.479\\nsamples = 56\\nvalue = 44341.196'),\n",
       " Text(0.6893576222435283, 0.39285714285714285, 'x[17] <= 0.5\\nsquared_error = 301191859.325\\nsamples = 37\\nvalue = 41135.162'),\n",
       " Text(0.6855225311601151, 0.32142857142857145, 'x[19] <= 0.5\\nsquared_error = 308922933.444\\nsamples = 32\\nvalue = 39257.844'),\n",
       " Text(0.6778523489932886, 0.25, 'x[1] <= 75.0\\nsquared_error = 326776075.612\\nsamples = 19\\nvalue = 36807.421'),\n",
       " Text(0.6740172579098753, 0.17857142857142858, 'squared_error = 448518344.667\\nsamples = 6\\nvalue = 41414.0'),\n",
       " Text(0.6816874400767018, 0.17857142857142858, 'x[6] <= 0.5\\nsquared_error = 256272868.982\\nsamples = 13\\nvalue = 34681.308'),\n",
       " Text(0.6778523489932886, 0.10714285714285714, 'squared_error = 168915987.44\\nsamples = 5\\nvalue = 38144.4'),\n",
       " Text(0.6855225311601151, 0.10714285714285714, 'x[15] <= 0.5\\nsquared_error = 298690520.859\\nsamples = 8\\nvalue = 32516.875'),\n",
       " Text(0.6816874400767018, 0.03571428571428571, 'squared_error = 328598067.0\\nsamples = 4\\nvalue = 30983.0'),\n",
       " Text(0.6893576222435283, 0.03571428571428571, 'squared_error = 264077429.688\\nsamples = 4\\nvalue = 34050.75'),\n",
       " Text(0.6931927133269415, 0.25, 'x[1] <= 75.0\\nsquared_error = 261227634.485\\nsamples = 13\\nvalue = 42839.231'),\n",
       " Text(0.6893576222435283, 0.17857142857142858, 'squared_error = 342772011.25\\nsamples = 6\\nvalue = 36296.5'),\n",
       " Text(0.6970278044103547, 0.17857142857142858, 'squared_error = 123190180.49\\nsamples = 7\\nvalue = 48447.286'),\n",
       " Text(0.6931927133269415, 0.32142857142857145, 'squared_error = 84800980.4\\nsamples = 5\\nvalue = 53150.0'),\n",
       " Text(0.7085330776605945, 0.39285714285714285, 'x[6] <= 0.5\\nsquared_error = 310040930.986\\nsamples = 19\\nvalue = 50584.526'),\n",
       " Text(0.7046979865771812, 0.32142857142857145, 'squared_error = 565123294.75\\nsamples = 4\\nvalue = 34825.5'),\n",
       " Text(0.7123681687440077, 0.32142857142857145, 'x[6] <= 1.5\\nsquared_error = 158132899.796\\nsamples = 15\\nvalue = 54786.933'),\n",
       " Text(0.7085330776605945, 0.25, 'x[17] <= 0.5\\nsquared_error = 167027471.29\\nsamples = 10\\nvalue = 50318.1'),\n",
       " Text(0.7046979865771812, 0.17857142857142858, 'squared_error = 148575946.25\\nsamples = 6\\nvalue = 47269.5'),\n",
       " Text(0.7123681687440077, 0.17857142857142858, 'squared_error = 159852401.5\\nsamples = 4\\nvalue = 54891.0'),\n",
       " Text(0.716203259827421, 0.25, 'squared_error = 20520928.64\\nsamples = 5\\nvalue = 63724.6'),\n",
       " Text(0.6845637583892618, 0.5357142857142857, 'squared_error = 5262398.188\\nsamples = 4\\nvalue = 60533.25'),\n",
       " Text(0.7238734419942474, 0.75, 'x[2] <= 1.5\\nsquared_error = 189495036.391\\nsamples = 42\\nvalue = 22810.119'),\n",
       " Text(0.7200383509108341, 0.6785714285714286, 'x[6] <= 0.5\\nsquared_error = 111441197.916\\nsamples = 36\\nvalue = 19893.472'),\n",
       " Text(0.716203259827421, 0.6071428571428571, 'squared_error = 31169678.75\\nsamples = 4\\nvalue = 13110.5'),\n",
       " Text(0.7238734419942474, 0.6071428571428571, 'x[1] <= 75.0\\nsquared_error = 115005162.663\\nsamples = 32\\nvalue = 20741.344'),\n",
       " Text(0.716203259827421, 0.5357142857142857, 'x[2] <= 0.5\\nsquared_error = 189515432.688\\nsamples = 16\\nvalue = 23492.75'),\n",
       " Text(0.7123681687440077, 0.4642857142857143, 'squared_error = 70579213.889\\nsamples = 6\\nvalue = 17121.667'),\n",
       " Text(0.7200383509108341, 0.4642857142857143, 'x[0] <= 2021.5\\nsquared_error = 221910089.24\\nsamples = 10\\nvalue = 27315.4'),\n",
       " Text(0.716203259827421, 0.39285714285714285, 'squared_error = 153120833.84\\nsamples = 5\\nvalue = 23842.6'),\n",
       " Text(0.7238734419942474, 0.39285714285714285, 'squared_error = 266578664.96\\nsamples = 5\\nvalue = 30788.2'),\n",
       " Text(0.7315436241610739, 0.5357142857142857, 'x[0] <= 2021.5\\nsquared_error = 25354419.934\\nsamples = 16\\nvalue = 17989.938'),\n",
       " Text(0.7277085330776606, 0.4642857142857143, 'squared_error = 47741185.347\\nsamples = 7\\nvalue = 19117.286'),\n",
       " Text(0.7353787152444871, 0.4642857142857143, 'x[15] <= 0.5\\nsquared_error = 6185178.099\\nsamples = 9\\nvalue = 17113.111'),\n",
       " Text(0.7315436241610739, 0.39285714285714285, 'squared_error = 9091833.04\\nsamples = 5\\nvalue = 17542.6'),\n",
       " Text(0.7392138063279002, 0.39285714285714285, 'squared_error = 2033063.688\\nsamples = 4\\nvalue = 16576.25'),\n",
       " Text(0.7277085330776606, 0.6785714285714286, 'squared_error = 300531261.667\\nsamples = 6\\nvalue = 40310.0'),\n",
       " Text(0.8655021572387345, 0.8928571428571429, 'x[26] <= 4.5\\nsquared_error = 795993335.297\\nsamples = 882\\nvalue = 201417.347'),\n",
       " Text(0.7723654347435283, 0.9285714285714286, '  False'),\n",
       " Text(0.7762464046021093, 0.8214285714285714, 'x[2] <= 0.5\\nsquared_error = 279911017.911\\nsamples = 257\\nvalue = 239225.358'),\n",
       " Text(0.7724113135186961, 0.75, 'squared_error = 141910286.204\\nsamples = 7\\nvalue = 222419.714'),\n",
       " Text(0.7800814956855225, 0.75, 'x[11] <= 0.5\\nsquared_error = 275645583.069\\nsamples = 250\\nvalue = 239695.916'),\n",
       " Text(0.7665388302972196, 0.6785714285714286, 'x[21] <= 0.5\\nsquared_error = 355170663.265\\nsamples = 14\\nvalue = 251157.143'),\n",
       " Text(0.7627037392138063, 0.6071428571428571, 'squared_error = 373642654.321\\nsamples = 9\\nvalue = 248511.111'),\n",
       " Text(0.7703739213806328, 0.6071428571428571, 'squared_error = 286633600.0\\nsamples = 5\\nvalue = 255920.0'),\n",
       " Text(0.7936241610738255, 0.6785714285714286, 'x[0] <= 2022.5\\nsquared_error = 262673199.258\\nsamples = 236\\nvalue = 239016.013'),\n",
       " Text(0.7780441035474592, 0.6071428571428571, 'x[21] <= 0.5\\nsquared_error = 222895934.777\\nsamples = 93\\nvalue = 236270.602'),\n",
       " Text(0.7670182166826462, 0.5357142857142857, 'x[6] <= 1.5\\nsquared_error = 225401268.574\\nsamples = 83\\nvalue = 235505.614'),\n",
       " Text(0.7564717162032598, 0.4642857142857143, 'x[17] <= 0.5\\nsquared_error = 234536238.388\\nsamples = 70\\nvalue = 236572.429'),\n",
       " Text(0.7468839884947267, 0.39285714285714285, 'x[15] <= 0.5\\nsquared_error = 219804228.008\\nsamples = 39\\nvalue = 237857.692'),\n",
       " Text(0.7430488974113135, 0.32142857142857145, 'x[1] <= 50.0\\nsquared_error = 215461589.36\\nsamples = 34\\nvalue = 238454.412'),\n",
       " Text(0.7353787152444871, 0.25, 'x[19] <= 0.5\\nsquared_error = 165006029.917\\nsamples = 19\\nvalue = 239752.632'),\n",
       " Text(0.7315436241610739, 0.17857142857142858, 'x[23] <= 0.5\\nsquared_error = 99026935.537\\nsamples = 11\\nvalue = 245890.909'),\n",
       " Text(0.7277085330776606, 0.10714285714285714, 'squared_error = 45629795.918\\nsamples = 7\\nvalue = 246414.286'),\n",
       " Text(0.7353787152444871, 0.10714285714285714, 'squared_error = 191153675.0\\nsamples = 4\\nvalue = 244975.0'),\n",
       " Text(0.7392138063279002, 0.17857142857142858, 'squared_error = 132683593.75\\nsamples = 8\\nvalue = 231312.5'),\n",
       " Text(0.75071907957814, 0.25, 'x[19] <= 0.5\\nsquared_error = 274533066.667\\nsamples = 15\\nvalue = 236810.0'),\n",
       " Text(0.7468839884947267, 0.17857142857142858, 'squared_error = 174387600.0\\nsamples = 10\\nvalue = 232570.0'),\n",
       " Text(0.7545541706615532, 0.17857142857142858, 'squared_error = 366958400.0\\nsamples = 5\\nvalue = 245290.0'),\n",
       " Text(0.75071907957814, 0.32142857142857145, 'squared_error = 230448000.0\\nsamples = 5\\nvalue = 233800.0'),\n",
       " Text(0.7660594439117929, 0.39285714285714285, 'x[2] <= 2.5\\nsquared_error = 248377347.347\\nsamples = 31\\nvalue = 234955.484'),\n",
       " Text(0.7622243528283796, 0.32142857142857145, 'x[1] <= 50.0\\nsquared_error = 268796480.11\\nsamples = 27\\nvalue = 235097.037'),\n",
       " Text(0.7583892617449665, 0.25, 'squared_error = 275418255.621\\nsamples = 13\\nvalue = 234854.615'),\n",
       " Text(0.7660594439117929, 0.25, 'squared_error = 262542445.408\\nsamples = 14\\nvalue = 235322.143'),\n",
       " Text(0.7698945349952061, 0.32142857142857145, 'squared_error = 109500000.0\\nsamples = 4\\nvalue = 234000.0'),\n",
       " Text(0.7775647171620326, 0.4642857142857143, 'x[0] <= 2021.5\\nsquared_error = 137086836.024\\nsamples = 13\\nvalue = 229761.231'),\n",
       " Text(0.7737296260786194, 0.39285714285714285, 'squared_error = 105555555.556\\nsamples = 6\\nvalue = 238333.333'),\n",
       " Text(0.7813998082454459, 0.39285714285714285, 'squared_error = 47143984.49\\nsamples = 7\\nvalue = 222413.714'),\n",
       " Text(0.7890699904122723, 0.5357142857142857, 'x[1] <= 50.0\\nsquared_error = 156929600.0\\nsamples = 10\\nvalue = 242620.0'),\n",
       " Text(0.785234899328859, 0.4642857142857143, 'squared_error = 55582500.0\\nsamples = 4\\nvalue = 241550.0'),\n",
       " Text(0.7929050814956855, 0.4642857142857143, 'squared_error = 223222222.222\\nsamples = 6\\nvalue = 243333.333'),\n",
       " Text(0.8092042186001918, 0.6071428571428571, 'x[20] <= 0.5\\nsquared_error = 280452535.047\\nsamples = 143\\nvalue = 240801.49'),\n",
       " Text(0.8053691275167785, 0.5357142857142857, 'x[23] <= 0.5\\nsquared_error = 265624871.93\\nsamples = 138\\nvalue = 240540.674'),\n",
       " Text(0.8015340364333653, 0.4642857142857143, 'x[21] <= 0.5\\nsquared_error = 273610874.154\\nsamples = 130\\nvalue = 240843.562'),\n",
       " Text(0.7909875359539789, 0.39285714285714285, 'x[17] <= 0.5\\nsquared_error = 276094103.597\\nsamples = 116\\nvalue = 240573.819'),\n",
       " Text(0.7813998082454459, 0.32142857142857145, 'x[1] <= 50.0\\nsquared_error = 324010003.827\\nsamples = 61\\nvalue = 239848.328'),\n",
       " Text(0.7737296260786194, 0.25, 'x[25] <= 0.5\\nsquared_error = 231453519.216\\nsamples = 38\\nvalue = 236997.316'),\n",
       " Text(0.7698945349952061, 0.17857142857142858, 'x[6] <= 1.5\\nsquared_error = 232027951.633\\nsamples = 33\\nvalue = 236145.394'),\n",
       " Text(0.7660594439117929, 0.10714285714285714, 'x[19] <= 0.5\\nsquared_error = 204515155.178\\nsamples = 26\\nvalue = 234892.231'),\n",
       " Text(0.7622243528283796, 0.03571428571428571, 'squared_error = 101672839.506\\nsamples = 9\\nvalue = 229777.778'),\n",
       " Text(0.7698945349952061, 0.03571428571428571, 'squared_error = 237781553.163\\nsamples = 17\\nvalue = 237599.882'),\n",
       " Text(0.7737296260786194, 0.10714285714285714, 'squared_error = 306720000.0\\nsamples = 7\\nvalue = 240800.0'),\n",
       " Text(0.7775647171620326, 0.17857142857142858, 'squared_error = 191257600.0\\nsamples = 5\\nvalue = 242620.0'),\n",
       " Text(0.7890699904122723, 0.25, 'x[19] <= 0.5\\nsquared_error = 441312533.081\\nsamples = 23\\nvalue = 244558.696'),\n",
       " Text(0.785234899328859, 0.17857142857142858, 'squared_error = 401470400.0\\nsamples = 5\\nvalue = 240510.0'),\n",
       " Text(0.7929050814956855, 0.17857142857142858, 'squared_error = 446561666.667\\nsamples = 18\\nvalue = 245683.333'),\n",
       " Text(0.800575263662512, 0.32142857142857145, 'x[1] <= 50.0\\nsquared_error = 221719819.884\\nsamples = 55\\nvalue = 241378.455'),\n",
       " Text(0.7967401725790988, 0.25, 'squared_error = 184709285.714\\nsamples = 35\\nvalue = 243850.0'),\n",
       " Text(0.8044103547459253, 0.25, 'x[2] <= 2.5\\nsquared_error = 257090920.688\\nsamples = 20\\nvalue = 237053.25'),\n",
       " Text(0.800575263662512, 0.17857142857142858, 'squared_error = 320179327.246\\nsamples = 16\\nvalue = 236566.562'),\n",
       " Text(0.8082454458293384, 0.17857142857142858, 'squared_error = 0.0\\nsamples = 4\\nvalue = 239000.0'),\n",
       " Text(0.8120805369127517, 0.39285714285714285, 'x[1] <= 25.0\\nsquared_error = 247437397.959\\nsamples = 14\\nvalue = 243078.571'),\n",
       " Text(0.8082454458293384, 0.32142857142857145, 'squared_error = 166140000.0\\nsamples = 10\\nvalue = 249400.0'),\n",
       " Text(0.8159156279961649, 0.32142857142857145, 'squared_error = 101026875.0\\nsamples = 4\\nvalue = 227275.0'),\n",
       " Text(0.8092042186001918, 0.4642857142857143, 'squared_error = 110136210.938\\nsamples = 8\\nvalue = 235618.75'),\n",
       " Text(0.8130393096836049, 0.5357142857142857, 'squared_error = 636000000.0\\nsamples = 5\\nvalue = 248000.0'),\n",
       " Text(0.9547579098753596, 0.8214285714285714, 'x[15] <= 0.5\\nsquared_error = 178719858.014\\nsamples = 625\\nvalue = 185870.693'),\n",
       " Text(0.924856184084372, 0.75, 'x[2] <= 2.5\\nsquared_error = 174838475.438\\nsamples = 570\\nvalue = 186471.426'),\n",
       " Text(0.8918983700862896, 0.6785714285714286, 'x[17] <= 0.5\\nsquared_error = 171845202.673\\nsamples = 542\\nvalue = 186071.98'),\n",
       " Text(0.8624161073825504, 0.6071428571428571, 'x[0] <= 2021.5\\nsquared_error = 168145797.768\\nsamples = 385\\nvalue = 187350.062'),\n",
       " Text(0.8547459252157239, 0.5357142857142857, 'x[6] <= 1.5\\nsquared_error = 85760128.64\\nsamples = 10\\nvalue = 177340.4'),\n",
       " Text(0.8509108341323106, 0.4642857142857143, 'squared_error = 96497570.75\\nsamples = 4\\nvalue = 180490.5'),\n",
       " Text(0.8585810162991371, 0.4642857142857143, 'squared_error = 67576133.889\\nsamples = 6\\nvalue = 175240.333'),\n",
       " Text(0.8700862895493768, 0.5357142857142857, 'x[25] <= 0.5\\nsquared_error = 167599677.944\\nsamples = 375\\nvalue = 187616.987'),\n",
       " Text(0.8662511984659635, 0.4642857142857143, 'x[0] <= 2022.5\\nsquared_error = 162066526.67\\nsamples = 359\\nvalue = 187271.1'),\n",
       " Text(0.8437200383509108, 0.39285714285714285, 'x[23] <= 0.5\\nsquared_error = 146609282.079\\nsamples = 173\\nvalue = 188789.405'),\n",
       " Text(0.8331735378715245, 0.32142857142857145, 'x[19] <= 0.5\\nsquared_error = 144792082.043\\nsamples = 160\\nvalue = 189158.019'),\n",
       " Text(0.8235858101629914, 0.25, 'x[6] <= 1.5\\nsquared_error = 153522637.601\\nsamples = 77\\nvalue = 190769.506'),\n",
       " Text(0.8159156279961649, 0.17857142857142858, 'x[2] <= 1.5\\nsquared_error = 163908301.317\\nsamples = 68\\nvalue = 190106.647'),\n",
       " Text(0.8120805369127517, 0.10714285714285714, 'squared_error = 149821600.0\\nsamples = 5\\nvalue = 185730.0'),\n",
       " Text(0.8197507190795782, 0.10714285714285714, 'x[16] <= 0.5\\nsquared_error = 163385398.19\\nsamples = 63\\nvalue = 190454.0'),\n",
       " Text(0.8159156279961649, 0.03571428571428571, 'squared_error = 173860287.255\\nsamples = 53\\nvalue = 190186.094'),\n",
       " Text(0.8235858101629914, 0.03571428571428571, 'squared_error = 105471970.89\\nsamples = 10\\nvalue = 191873.9'),\n",
       " Text(0.8312559923298178, 0.17857142857142858, 'x[21] <= 0.5\\nsquared_error = 46650617.284\\nsamples = 9\\nvalue = 195777.778'),\n",
       " Text(0.8274209012464045, 0.10714285714285714, 'squared_error = 67467500.0\\nsamples = 4\\nvalue = 193850.0'),\n",
       " Text(0.835091083413231, 0.10714285714285714, 'squared_error = 24645600.0\\nsamples = 5\\nvalue = 197320.0'),\n",
       " Text(0.8427612655800575, 0.25, 'x[2] <= 1.5\\nsquared_error = 132048476.409\\nsamples = 83\\nvalue = 187663.024'),\n",
       " Text(0.8389261744966443, 0.17857142857142858, 'squared_error = 100324693.889\\nsamples = 6\\nvalue = 180064.333'),\n",
       " Text(0.8465963566634708, 0.17857142857142858, 'x[6] <= 1.5\\nsquared_error = 129670641.542\\nsamples = 77\\nvalue = 188255.13'),\n",
       " Text(0.8427612655800575, 0.10714285714285714, 'x[1] <= 50.0\\nsquared_error = 125970380.515\\nsamples = 70\\nvalue = 188442.357'),\n",
       " Text(0.8389261744966443, 0.03571428571428571, 'squared_error = 93353311.815\\nsamples = 23\\nvalue = 186261.522'),\n",
       " Text(0.8465963566634708, 0.03571428571428571, 'squared_error = 138465546.627\\nsamples = 47\\nvalue = 189509.574'),\n",
       " Text(0.850431447746884, 0.10714285714285714, 'squared_error = 162817306.122\\nsamples = 7\\nvalue = 186382.857'),\n",
       " Text(0.8542665388302972, 0.32142857142857145, 'x[1] <= 75.0\\nsquared_error = 146720039.775\\nsamples = 13\\nvalue = 184252.615'),\n",
       " Text(0.850431447746884, 0.25, 'squared_error = 53640000.0\\nsamples = 4\\nvalue = 174400.0'),\n",
       " Text(0.8581016299137104, 0.25, 'x[6] <= 1.5\\nsquared_error = 125769816.025\\nsamples = 9\\nvalue = 188631.556'),\n",
       " Text(0.8542665388302972, 0.17857142857142858, 'squared_error = 151781500.0\\nsamples = 5\\nvalue = 192175.0'),\n",
       " Text(0.8619367209971237, 0.17857142857142858, 'squared_error = 57941465.188\\nsamples = 4\\nvalue = 184202.25'),\n",
       " Text(0.8887823585810163, 0.39285714285714285, 'x[16] <= 0.5\\nsquared_error = 172305027.466\\nsamples = 186\\nvalue = 185858.914'),\n",
       " Text(0.8811121764141898, 0.32142857142857145, 'x[13] <= 0.5\\nsquared_error = 173418428.868\\nsamples = 169\\nvalue = 186516.32'),\n",
       " Text(0.8772770853307766, 0.25, 'x[21] <= 0.5\\nsquared_error = 174717060.226\\nsamples = 161\\nvalue = 186202.72'),\n",
       " Text(0.8696069031639502, 0.17857142857142858, 'x[11] <= 0.5\\nsquared_error = 153588958.423\\nsamples = 122\\nvalue = 185578.23'),\n",
       " Text(0.8657718120805369, 0.10714285714285714, 'squared_error = 59661458.333\\nsamples = 6\\nvalue = 180875.0'),\n",
       " Text(0.8734419942473634, 0.10714285714285714, 'x[24] <= 0.5\\nsquared_error = 157243939.905\\nsamples = 116\\nvalue = 185821.5'),\n",
       " Text(0.8696069031639502, 0.03571428571428571, 'squared_error = 158199772.45\\nsamples = 110\\nvalue = 185483.491'),\n",
       " Text(0.8772770853307766, 0.03571428571428571, 'squared_error = 99225013.889\\nsamples = 6\\nvalue = 192018.333'),\n",
       " Text(0.8849472674976031, 0.17857142857142858, 'x[2] <= 1.5\\nsquared_error = 235773828.498\\nsamples = 39\\nvalue = 188156.256'),\n",
       " Text(0.8811121764141898, 0.10714285714285714, 'squared_error = 234769228.889\\nsamples = 6\\nvalue = 182619.333'),\n",
       " Text(0.8887823585810163, 0.10714285714285714, 'x[1] <= 50.0\\nsquared_error = 229368917.302\\nsamples = 33\\nvalue = 189162.97'),\n",
       " Text(0.8849472674976031, 0.03571428571428571, 'squared_error = 259274409.302\\nsamples = 26\\nvalue = 187829.923'),\n",
       " Text(0.8926174496644296, 0.03571428571428571, 'squared_error = 87175510.204\\nsamples = 7\\nvalue = 194114.286'),\n",
       " Text(0.8849472674976031, 0.25, 'squared_error = 105473293.75\\nsamples = 8\\nvalue = 192827.5'),\n",
       " Text(0.8964525407478428, 0.32142857142857145, 'x[1] <= 50.0\\nsquared_error = 114228858.131\\nsamples = 17\\nvalue = 179323.529'),\n",
       " Text(0.8926174496644296, 0.25, 'squared_error = 9601388.889\\nsamples = 6\\nvalue = 172316.667'),\n",
       " Text(0.900287631831256, 0.25, 'squared_error = 129911570.248\\nsamples = 11\\nvalue = 183145.455'),\n",
       " Text(0.87392138063279, 0.4642857142857143, 'squared_error = 228834978.027\\nsamples = 16\\nvalue = 195377.812'),\n",
       " Text(0.9213806327900288, 0.6071428571428571, 'x[6] <= 1.5\\nsquared_error = 167088380.193\\nsamples = 157\\nvalue = 182937.828'),\n",
       " Text(0.9117929050814957, 0.5357142857142857, 'x[1] <= 50.0\\nsquared_error = 158590139.889\\nsamples = 142\\nvalue = 182084.782'),\n",
       " Text(0.9041227229146692, 0.4642857142857143, 'x[2] <= 1.5\\nsquared_error = 128917760.387\\nsamples = 77\\nvalue = 180140.636'),\n",
       " Text(0.900287631831256, 0.39285714285714285, 'squared_error = 140290175.654\\nsamples = 9\\nvalue = 183889.889'),\n",
       " Text(0.9079578139980825, 0.39285714285714285, 'x[0] <= 2022.5\\nsquared_error = 125305877.595\\nsamples = 68\\nvalue = 179644.412'),\n",
       " Text(0.9041227229146692, 0.32142857142857145, 'squared_error = 108965731.556\\nsamples = 30\\nvalue = 181454.667'),\n",
       " Text(0.9117929050814957, 0.32142857142857145, 'squared_error = 133576403.878\\nsamples = 38\\nvalue = 178215.263'),\n",
       " Text(0.9194630872483222, 0.4642857142857143, 'x[0] <= 2022.5\\nsquared_error = 183958899.207\\nsamples = 65\\nvalue = 184387.846'),\n",
       " Text(0.9156279961649089, 0.39285714285714285, 'squared_error = 175046463.021\\nsamples = 36\\nvalue = 184824.583'),\n",
       " Text(0.9232981783317353, 0.39285714285714285, 'squared_error = 194491899.524\\nsamples = 29\\nvalue = 183845.69'),\n",
       " Text(0.9309683604985618, 0.5357142857142857, 'x[0] <= 2021.5\\nsquared_error = 175435822.222\\nsamples = 15\\nvalue = 191013.333'),\n",
       " Text(0.9271332694151486, 0.4642857142857143, 'squared_error = 96138888.889\\nsamples = 6\\nvalue = 191166.667'),\n",
       " Text(0.9348034515819751, 0.4642857142857143, 'squared_error = 228274320.988\\nsamples = 9\\nvalue = 190911.111'),\n",
       " Text(0.9578139980824545, 0.6785714285714286, 'x[23] <= 0.5\\nsquared_error = 169905036.745\\nsamples = 28\\nvalue = 194203.571'),\n",
       " Text(0.9539789069990412, 0.6071428571428571, 'x[1] <= 50.0\\nsquared_error = 151312279.835\\nsamples = 22\\nvalue = 196351.273'),\n",
       " Text(0.9463087248322147, 0.5357142857142857, 'x[19] <= 0.5\\nsquared_error = 154916528.926\\nsamples = 11\\nvalue = 194427.273'),\n",
       " Text(0.9424736337488016, 0.4642857142857143, 'squared_error = 216349795.918\\nsamples = 7\\nvalue = 193385.714'),\n",
       " Text(0.950143815915628, 0.4642857142857143, 'squared_error = 42187500.0\\nsamples = 4\\nvalue = 196250.0'),\n",
       " Text(0.9616490891658677, 0.5357142857142857, 'x[17] <= 0.5\\nsquared_error = 140304478.744\\nsamples = 11\\nvalue = 198275.273'),\n",
       " Text(0.9578139980824545, 0.4642857142857143, 'squared_error = 153472222.222\\nsamples = 6\\nvalue = 194166.667'),\n",
       " Text(0.965484180249281, 0.4642857142857143, 'squared_error = 79938287.04\\nsamples = 5\\nvalue = 203205.6'),\n",
       " Text(0.9616490891658677, 0.6071428571428571, 'squared_error = 159151410.556\\nsamples = 6\\nvalue = 186328.667'),\n",
       " Text(0.9846596356663471, 0.75, 'x[0] <= 2022.5\\nsquared_error = 176444675.901\\nsamples = 55\\nvalue = 179644.909'),\n",
       " Text(0.9769894534995206, 0.6785714285714286, 'x[1] <= 50.0\\nsquared_error = 195893904.0\\nsamples = 25\\nvalue = 176914.0'),\n",
       " Text(0.9731543624161074, 0.6071428571428571, 'x[2] <= 1.5\\nsquared_error = 183810000.0\\nsamples = 14\\nvalue = 173600.0'),\n",
       " Text(0.9693192713326941, 0.5357142857142857, 'squared_error = 420250000.0\\nsamples = 4\\nvalue = 185500.0'),\n",
       " Text(0.9769894534995206, 0.5357142857142857, 'squared_error = 9932400.0\\nsamples = 10\\nvalue = 168840.0'),\n",
       " Text(0.9808245445829339, 0.6071428571428571, 'squared_error = 179505578.512\\nsamples = 11\\nvalue = 181131.818'),\n",
       " Text(0.9923298178331735, 0.6785714285714286, 'x[1] <= 50.0\\nsquared_error = 148843026.222\\nsamples = 30\\nvalue = 181920.667'),\n",
       " Text(0.9884947267497604, 0.6071428571428571, 'squared_error = 143071644.0\\nsamples = 20\\nvalue = 182406.0'),\n",
       " Text(0.9961649089165868, 0.6071428571428571, 'squared_error = 158972500.0\\nsamples = 10\\nvalue = 180950.0')]"
      ]
     },
     "execution_count": 722,
     "metadata": {},
     "output_type": "execute_result"
    },
    {
     "data": {
      "text/plain": [
       "<Figure size 640x480 with 1 Axes>"
      ],
      "image/png": "[encoded data removed]"
     },
     "metadata": {},
     "output_type": "display_data"
    }
   ],
   "execution_count": 722
  },
  {
   "metadata": {},
   "cell_type": "markdown",
   "source": "## Построение ансамблевой модели:\n",
   "id": "18b2c7c6ff8d32b9"
  },
  {
   "metadata": {},
   "cell_type": "markdown",
   "source": [
    "- Построить ансамблевую модель, используя Random Forest и Boosting.\n",
    "- Сравнить качество ансамблевой модели с отдельными моделями.\n",
    "- Оценить важность признаков в ансамблевой модели."
   ],
   "id": "c61b277782fd6b5"
  },
  {
   "metadata": {
    "ExecuteTime": {
     "end_time": "2024-11-28T08:27:20.941844Z",
     "start_time": "2024-11-28T08:27:20.119031Z"
    }
   },
   "cell_type": "code",
   "source": [
    "from sklearn.ensemble import RandomForestRegressor\n",
    "\n",
    "# Создание и обучение ансамбля RandomForest\n",
    "forest_model = RandomForestRegressor(n_estimators=200, random_state=42)\n",
    "forest_model.fit(X_train, y_train)\n",
    "forest_predictions_train = forest_model.predict(X_train)\n",
    "forest_predictions_test = forest_model.predict(X_test)\n",
    "forest_r2_train = r2_score(y_train, forest_predictions_train)\n",
    "forest_r2_test = r2_score(y_test, forest_predictions_test)\n",
    "# Сравнение результатов\n",
    "print(f\"R^2 для RandomForestRegressor train: {forest_r2_train}\")\n",
    "print(f\"R^2 для RandomForestRegressor test: {forest_r2_test}\")"
   ],
   "id": "976207f4890943a8",
   "outputs": [
    {
     "name": "stdout",
     "output_type": "stream",
     "text": [
      "R^2 для RandomForestRegressor train: 0.9703677247085557\n",
      "R^2 для RandomForestRegressor test: 0.9455846847283351\n"
     ]
    }
   ],
   "execution_count": 723
  },
  {
   "metadata": {
    "ExecuteTime": {
     "end_time": "2024-11-28T08:27:21.193609Z",
     "start_time": "2024-11-28T08:27:20.942876Z"
    }
   },
   "cell_type": "code",
   "source": [
    "from sklearn.ensemble import GradientBoostingRegressor\n",
    "\n",
    "# Создание и обучение ансамбля GradientBoostingRegressor\n",
    "boosting_model = GradientBoostingRegressor(n_estimators=200, random_state=42)\n",
    "boosting_model.fit(X_train, y_train)\n",
    "boosting_predictions_train = boosting_model.predict(X_train)\n",
    "boosting_predictions_test = boosting_model.predict(X_test)\n",
    "boosting_r2_train = r2_score(y_train, boosting_predictions_train)\n",
    "boosting_r2_test = r2_score(y_test, boosting_predictions_test)\n",
    "# Сравнение результатов\n",
    "print(f\"R^2 для GradientBoostingRegressor train: {boosting_r2_train}\")\n",
    "print(f\"R^2 для GradientBoostingRegressor test: {boosting_r2_test}\")"
   ],
   "id": "3937cc0e4df48177",
   "outputs": [
    {
     "name": "stdout",
     "output_type": "stream",
     "text": [
      "R^2 для GradientBoostingRegressor train: 0.9549087054895489\n",
      "R^2 для GradientBoostingRegressor test: 0.9437020482938643\n"
     ]
    }
   ],
   "execution_count": 724
  },
  {
   "metadata": {
    "ExecuteTime": {
     "end_time": "2024-11-28T08:27:21.925078Z",
     "start_time": "2024-11-28T08:27:21.194617Z"
    }
   },
   "cell_type": "code",
   "source": [
    "models = {\n",
    "    \"Random Forest\": RandomForestRegressor(n_estimators=100, random_state=42),\n",
    "    \"Gradient Boosting\": GradientBoostingRegressor(n_estimators=100, random_state=42)\n",
    "}\n",
    "\n",
    "# Обучение моделей и оценка важности признаков\n",
    "fig, axes = plt.subplots(nrows=1, ncols=2, figsize=(15, 5))\n",
    "for ax, (name, model) in zip(axes, models.items()):\n",
    "    model.fit(X_train, y_train)\n",
    "    score = r2_score(y_test, model.predict(X_test))\n",
    "    feature_importances = model.feature_importances_\n",
    "\n",
    "    ax.barh(np.arange(len(feature_importances)), feature_importances, align='center')\n",
    "    ax.set_yticks(np.arange(len(X.columns)))\n",
    "    ax.set_yticklabels(X.columns)\n",
    "    ax.set_title(f'{name} (R²={score:.2f})')\n",
    "    ax.set_xlabel('Importance')\n",
    "    ax.set_ylabel('Features')\n",
    "\n",
    "plt.tight_layout()\n",
    "plt.show()"
   ],
   "id": "31a5bf47d4afdf6e",
   "outputs": [
    {
     "data": {
      "text/plain": [
       "<Figure size 1500x500 with 2 Axes>"
      ],
      "image/png": "[encoded data removed]"
     },
     "metadata": {},
     "output_type": "display_data"
    }
   ],
   "execution_count": 725
  },
  {
   "metadata": {},
   "cell_type": "markdown",
   "source": "**Получился очень интересный результат, самый важдный признак - это признак кластеризации, который был построен для разделения данных на признаки. И действительно, кластеризация данных позволила качественно улучшить качество модели.**",
   "id": "7c4176f64546bb14"
  },
  {
   "metadata": {},
   "cell_type": "markdown",
   "source": "## Понижение размерности:",
   "id": "3102612cc6e3dda9"
  },
  {
   "metadata": {},
   "cell_type": "markdown",
   "source": [
    "- Применить Principal Component Analysis (PCA) для снижения размерности данных.\n",
    "- Построить модель линейной регрессии с использованием данных, полученных после PCA.\n",
    "- Сравнить качество модели с использованием исходных данных."
   ],
   "id": "6a71800c62be4fb9"
  },
  {
   "metadata": {
    "ExecuteTime": {
     "end_time": "2024-11-28T08:43:04.798483Z",
     "start_time": "2024-11-28T08:43:04.772113Z"
    }
   },
   "cell_type": "code",
   "source": [
    "from sklearn.decomposition import PCA\n",
    "\n",
    "pca = PCA()\n",
    "X_pca = pca.fit_transform(X_train)\n",
    "X_test_pca = pca.transform(X_test)\n",
    "\n",
    "lr = LinearRegression()\n",
    "lr.fit(X_pca, y_train)\n",
    "y_train_pred = lr.predict(X_pca)\n",
    "y_test_pred = lr.predict(X_test_pca)\n",
    "\n",
    "print(f'R2: {r2_score(y_train, y_train_pred)}')\n",
    "print(f'R2: {r2_score(y_test, y_test_pred)}')\n",
    "\n"
   ],
   "id": "8ffda4dfa22edf59",
   "outputs": [
    {
     "name": "stdout",
     "output_type": "stream",
     "text": [
      "R2: 0.5211272433388204\n",
      "R2: 0.5105415270759145\n"
     ]
    }
   ],
   "execution_count": 729
  },
  {
   "metadata": {},
   "cell_type": "markdown",
   "source": [
    "Качество модели при применении снижение размерности - упало.\n",
    "\n",
    "Таким образом, была проведена большая работа по обработке данных и приведение категориальных признаков в числовые:\n",
    "- Для признаков Experince level, Company Size -использовался lzbel-encoding, так как данные можно категорезовать по размеру, важности.\n",
    "- Для признаков Company_Location, Job Title - использовался One-hot encoding. \n",
    "- При этом Company Location был модефицирован, если данных по стране было менее 1% от всех данных, то страна переименовывалась в другое.\n",
    "- Для модификация названия профессии в числовое поле, многие профессии были объеденены по близости выполняемых функций, таки образом стало возможно снизить количество профессий с 93 до 14, что позволило значительно повысить качество модели.\n",
    "\n",
    "Огромный вклад в построение модели с более высокой точностью являлось кластеризация данных, с помощью метода локтя удалось выявить оптимальное количество кластеров = 6 разбиение модели на кластеры было использовано, как новый параметр для обучения моделей линейной регресии, дерева решений и ансамблевых моделей.\n",
    "\n",
    "Модель линейной регрессии показало следующие результаты *до* использование нового признака - кластеры:\n",
    "- R2  на тренировочной выборке - 0.41;\n",
    "- R2  на тестовой выборке - 0.4.\n",
    "Модель не переобучилась.\n",
    "\n",
    "Модель линейной регрессии показало следующие результаты *после* использование нового признака - кластеры:\n",
    "- R2  на тренировочной выборке - 0.52;\n",
    "- R2  на тестовой выборке - 0.51.\n",
    "Модель не переобучилась, качество модели улучшилось.\n",
    "\n",
    "Модель дерева решений показало следующие результаты *после* использование нового признака - кластеры:\n",
    "- R2  на тренировочной выборке - 0.97;\n",
    "- R2  на тестовой выборке - 0.93\n",
    "Модель переобучилась, однако модель дерева решений кординально позволило повысит качество.\n",
    "Были подобраны следующие параметры, при которых качество модели дерева решений максимально 0.947 на тестовой выборке: max depth=5, min_samples_split=8, min_samples_leaf=4.\n",
    "\n",
    "Ансамблевая модель RandomForest показала следующие результаты *после* использование нового признака - кластеры:\n",
    "- R2  на тренировочной выборке - 0.97;\n",
    "- R2  на тестовой выборке - 0.945\n",
    "Результаты модели Случайный лес с параметрами по умолчанию соизмеримы с качеством модели дерева решений после подбора параметров. Подбор параметров модели случайного леса не производился.\n",
    "\n",
    "Ансамблевая модель GradientBoost показала следующие результаты *после* использование нового признака - кластеры:\n",
    "- R2  на тренировочной выборке - 0.955;\n",
    "- R2  на тестовой выборке - 0.944\n",
    " \n",
    "Результаты модели GradientBoost с параметрами по умолчанию соизмеримы с качеством модели дерева решений после подбора параметров. Подбор параметров модели градиентного бустинга не производился.\n",
    "\n",
    "Использование метода PCA для понижения размерности, к сожалению не показал значемых результатов:\n",
    "- R2  на тренировочной выборке - 0.52;\n",
    "- R2  на тестовой выборке - 0.51.\n",
    "Результаты соизмеримы с результатами применения модели линейной регресии.\n",
    "\n",
    "Самым важным признаком оказаляся признак сгенерированный в результате кластеризации данных - Clusters.\n"
   ],
   "id": "f3c5b6b7801d099"
  },
  {
   "metadata": {},
   "cell_type": "code",
   "outputs": [],
   "execution_count": null,
   "source": "",
   "id": "72fd9fc9f4e6361d"
  }
 ],
 "metadata": {
  "kernelspec": {
   "display_name": "Python 3",
   "language": "python",
   "name": "python3"
  },
  "language_info": {
   "codemirror_mode": {
    "name": "ipython",
    "version": 2
   },
   "file_extension": ".py",
   "mimetype": "text/x-python",
   "name": "python",
   "nbconvert_exporter": "python",
   "pygments_lexer": "ipython2",
   "version": "2.7.6"
  }
 },
 "nbformat": 4,
 "nbformat_minor": 5
}
