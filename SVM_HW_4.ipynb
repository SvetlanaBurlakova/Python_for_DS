{
 "cells": [
  {
   "cell_type": "markdown",
   "metadata": {
    "id": "CIu2DPx5tWcg"
   },
   "source": [
    "## Домашнее задание"
   ]
  },
  {
   "cell_type": "markdown",
   "metadata": {
    "id": "ENiWYl_EtWcm"
   },
   "source": [
    "### 1. Загрузите тренировочные и тестовые датасеты"
   ]
  },
  {
   "metadata": {
    "ExecuteTime": {
     "end_time": "2024-12-03T12:28:15.324524Z",
     "start_time": "2024-12-03T12:28:15.321019Z"
    }
   },
   "cell_type": "code",
   "source": [
    "import seaborn as sns\n",
    "import pandas as pd\n",
    "import matplotlib.pyplot as plt"
   ],
   "outputs": [],
   "execution_count": 15
  },
  {
   "metadata": {
    "ExecuteTime": {
     "end_time": "2024-12-03T12:07:23.756288Z",
     "start_time": "2024-12-03T12:07:22.574936Z"
    }
   },
   "cell_type": "code",
   "source": [
    "import pandas as pd\n",
    "from category_encoders import TargetEncoder\n",
    "from sklearn.preprocessing import StandardScaler\n",
    "from sklearn.linear_model import LogisticRegression\n",
    "from sklearn.svm import SVC\n",
    "from sklearn.neighbors import KNeighborsClassifier\n",
    "\n",
    "Xtrain = pd.read_csv(\"TrainData.csv\")\n",
    "Xtest = pd.read_csv(\"TestData.csv\")"
   ],
   "outputs": [],
   "execution_count": 3
  },
  {
   "metadata": {
    "ExecuteTime": {
     "end_time": "2024-12-03T12:07:53.165789Z",
     "start_time": "2024-12-03T12:07:53.160367Z"
    }
   },
   "cell_type": "code",
   "source": "Xtrain.shape",
   "outputs": [
    {
     "data": {
      "text/plain": [
       "(7500, 15)"
      ]
     },
     "execution_count": 4,
     "metadata": {},
     "output_type": "execute_result"
    }
   ],
   "execution_count": 4
  },
  {
   "metadata": {
    "ExecuteTime": {
     "end_time": "2024-12-03T12:09:40.135974Z",
     "start_time": "2024-12-03T12:09:40.127576Z"
    }
   },
   "cell_type": "code",
   "source": "Xtrain.info()",
   "outputs": [
    {
     "name": "stdout",
     "output_type": "stream",
     "text": [
      "<class 'pandas.core.frame.DataFrame'>\n",
      "RangeIndex: 7500 entries, 0 to 7499\n",
      "Data columns (total 15 columns):\n",
      " #   Column  Non-Null Count  Dtype  \n",
      "---  ------  --------------  -----  \n",
      " 0   f1      7500 non-null   int64  \n",
      " 1   f2      7425 non-null   float64\n",
      " 2   f3      7500 non-null   int64  \n",
      " 3   f4      7500 non-null   float64\n",
      " 4   f5      7500 non-null   int64  \n",
      " 5   f6      7500 non-null   float64\n",
      " 6   f7      5625 non-null   float64\n",
      " 7   f8      7500 non-null   float64\n",
      " 8   f9      7500 non-null   float64\n",
      " 9   f10     7500 non-null   float64\n",
      " 10  f11     7490 non-null   float64\n",
      " 11  f12     7500 non-null   int64  \n",
      " 12  f13     7500 non-null   int64  \n",
      " 13  f14     7500 non-null   float64\n",
      " 14  target  7500 non-null   int64  \n",
      "dtypes: float64(9), int64(6)\n",
      "memory usage: 879.0 KB\n"
     ]
    }
   ],
   "execution_count": 6
  },
  {
   "metadata": {},
   "cell_type": "markdown",
   "source": [
    "Данные содержат информацию по 15 признакам, один из них таргетная переменная. Всего 7500 записей.\n",
    "При этом есть пропущенные значения  в слудеющих признаках:\n",
    "- f2 - 75 пропущенных значений, это 1% от данных, строки с пропущенными значениями можно удалить;\n",
    "- f7 - 1875 пропущенных значений, это 25 от данных, эти данные нужно заполнить.\n",
    "- f11 - 10 пропущенных значений, 0.1% -эти строки можно удалить.\n"
   ]
  },
  {
   "metadata": {
    "ExecuteTime": {
     "end_time": "2024-12-03T12:25:51.723538Z",
     "start_time": "2024-12-03T12:25:51.715852Z"
    }
   },
   "cell_type": "code",
   "source": [
    "Xtrain = Xtrain.dropna(subset=['f2', 'f11'])\n",
    "Xtrain.info()"
   ],
   "outputs": [
    {
     "name": "stdout",
     "output_type": "stream",
     "text": [
      "<class 'pandas.core.frame.DataFrame'>\n",
      "Index: 7415 entries, 0 to 7499\n",
      "Data columns (total 15 columns):\n",
      " #   Column  Non-Null Count  Dtype  \n",
      "---  ------  --------------  -----  \n",
      " 0   f1      7415 non-null   int64  \n",
      " 1   f2      7415 non-null   float64\n",
      " 2   f3      7415 non-null   int64  \n",
      " 3   f4      7415 non-null   float64\n",
      " 4   f5      7415 non-null   int64  \n",
      " 5   f6      7415 non-null   float64\n",
      " 6   f7      5567 non-null   float64\n",
      " 7   f8      7415 non-null   float64\n",
      " 8   f9      7415 non-null   float64\n",
      " 9   f10     7415 non-null   float64\n",
      " 10  f11     7415 non-null   float64\n",
      " 11  f12     7415 non-null   int64  \n",
      " 12  f13     7415 non-null   int64  \n",
      " 13  f14     7415 non-null   float64\n",
      " 14  target  7415 non-null   int64  \n",
      "dtypes: float64(9), int64(6)\n",
      "memory usage: 926.9 KB\n"
     ]
    }
   ],
   "execution_count": 13
  },
  {
   "metadata": {},
   "cell_type": "markdown",
   "source": "Таким образом, удалено 85 строк, далее изучим f7."
  },
  {
   "metadata": {
    "ExecuteTime": {
     "end_time": "2024-12-03T12:41:23.491777Z",
     "start_time": "2024-12-03T12:41:23.475436Z"
    }
   },
   "cell_type": "code",
   "source": [
    "mean_dict = Xtrain.groupby(['target'])['f7'].mean().to_dict()\n",
    "Xtrain.fillna(Xtrain['target'].map(mean_dict), inplace=True)\n",
    "Xtrain.info()"
   ],
   "outputs": [
    {
     "name": "stdout",
     "output_type": "stream",
     "text": [
      "<class 'pandas.core.frame.DataFrame'>\n",
      "Index: 7415 entries, 0 to 7499\n",
      "Data columns (total 15 columns):\n",
      " #   Column  Non-Null Count  Dtype  \n",
      "---  ------  --------------  -----  \n",
      " 0   f1      7415 non-null   int64  \n",
      " 1   f2      7415 non-null   float64\n",
      " 2   f3      7415 non-null   int64  \n",
      " 3   f4      7415 non-null   float64\n",
      " 4   f5      7415 non-null   int64  \n",
      " 5   f6      7415 non-null   float64\n",
      " 6   f7      7415 non-null   float64\n",
      " 7   f8      7415 non-null   float64\n",
      " 8   f9      7415 non-null   float64\n",
      " 9   f10     7415 non-null   float64\n",
      " 10  f11     7415 non-null   float64\n",
      " 11  f12     7415 non-null   int64  \n",
      " 12  f13     7415 non-null   int64  \n",
      " 13  f14     7415 non-null   float64\n",
      " 14  target  7415 non-null   int64  \n",
      "dtypes: float64(9), int64(6)\n",
      "memory usage: 926.9 KB\n"
     ]
    }
   ],
   "execution_count": 31
  },
  {
   "metadata": {},
   "cell_type": "markdown",
   "source": "Таким образом все пропущенные значения в признаке f7 заполнены срднеарифметическим значением признака f7 в соответствии с таргетом."
  },
  {
   "metadata": {
    "ExecuteTime": {
     "end_time": "2024-12-03T12:08:03.959801Z",
     "start_time": "2024-12-03T12:08:03.955529Z"
    }
   },
   "cell_type": "code",
   "source": "Xtest.shape",
   "outputs": [
    {
     "data": {
      "text/plain": [
       "(2500, 15)"
      ]
     },
     "execution_count": 5,
     "metadata": {},
     "output_type": "execute_result"
    }
   ],
   "execution_count": 5
  },
  {
   "metadata": {
    "ExecuteTime": {
     "end_time": "2024-12-03T12:17:45.072327Z",
     "start_time": "2024-12-03T12:17:45.064681Z"
    }
   },
   "cell_type": "code",
   "source": "Xtest.info()",
   "outputs": [
    {
     "name": "stdout",
     "output_type": "stream",
     "text": [
      "<class 'pandas.core.frame.DataFrame'>\n",
      "RangeIndex: 2500 entries, 0 to 2499\n",
      "Data columns (total 15 columns):\n",
      " #   Column  Non-Null Count  Dtype  \n",
      "---  ------  --------------  -----  \n",
      " 0   f1      2500 non-null   int64  \n",
      " 1   f2      2500 non-null   float64\n",
      " 2   f3      2500 non-null   int64  \n",
      " 3   f4      2500 non-null   float64\n",
      " 4   f5      2500 non-null   int64  \n",
      " 5   f6      2500 non-null   float64\n",
      " 6   f7      2500 non-null   float64\n",
      " 7   f8      2500 non-null   float64\n",
      " 8   f9      2500 non-null   float64\n",
      " 9   f10     2500 non-null   float64\n",
      " 10  f11     2500 non-null   int64  \n",
      " 11  f12     2500 non-null   int64  \n",
      " 12  f13     2500 non-null   int64  \n",
      " 13  f14     2500 non-null   float64\n",
      " 14  target  2500 non-null   int64  \n",
      "dtypes: float64(8), int64(7)\n",
      "memory usage: 293.1 KB\n"
     ]
    }
   ],
   "execution_count": 12
  },
  {
   "metadata": {},
   "cell_type": "markdown",
   "source": "В данном части данных пропущенных щзначений нет"
  },
  {
   "cell_type": "markdown",
   "metadata": {
    "id": "oQkpwQGHtWcr"
   },
   "source": [
    "### 2. Оцените баланс классов в задаче\n",
    "- Затем попытайтесь устно ответить на вопрос, можно ли использовать accuracy как метрику качества в задаче?"
   ]
  },
  {
   "metadata": {
    "ExecuteTime": {
     "end_time": "2024-12-03T12:43:01.661250Z",
     "start_time": "2024-12-03T12:43:01.618361Z"
    }
   },
   "cell_type": "code",
   "source": [
    "\n",
    "\n",
    "sns.set_style('darkgrid')\n",
    "sns.set_context('poster')\n",
    "plt.rcParams['figure.figsize'] = [8,6]\n",
    "Xtrain.groupby('target').size().plot(kind='pie',\n",
    "                                       y = \"target\",\n",
    "                                       label = \"Xtrain_Target\",\n",
    "                                       autopct='%1.1f%%')"
   ],
   "outputs": [
    {
     "data": {
      "text/plain": [
       "<Axes: ylabel='Xtrain_Target'>"
      ]
     },
     "execution_count": 32,
     "metadata": {},
     "output_type": "execute_result"
    },
    {
     "data": {
      "text/plain": [
       "<Figure size 800x600 with 1 Axes>"
      ],
      "image/png": "[encoded data removed]"
     },
     "metadata": {},
     "output_type": "display_data"
    }
   ],
   "execution_count": 32
  },
  {
   "metadata": {
    "ExecuteTime": {
     "end_time": "2024-12-03T12:43:04.572793Z",
     "start_time": "2024-12-03T12:43:04.532665Z"
    }
   },
   "cell_type": "code",
   "source": [
    "sns.set_style('darkgrid')\n",
    "sns.set_context('poster')\n",
    "plt.rcParams['figure.figsize'] = [8,6]\n",
    "Xtest.groupby('target').size().plot(kind='pie',\n",
    "                                       y = \"target\",\n",
    "                                       label = \"Xest_Target\",\n",
    "                                       autopct='%1.1f%%')"
   ],
   "outputs": [
    {
     "data": {
      "text/plain": [
       "<Axes: ylabel='Xest_Target'>"
      ]
     },
     "execution_count": 33,
     "metadata": {},
     "output_type": "execute_result"
    },
    {
     "data": {
      "text/plain": [
       "<Figure size 800x600 with 1 Axes>"
      ],
      "image/png": "[encoded data removed]"
     },
     "metadata": {},
     "output_type": "display_data"
    }
   ],
   "execution_count": 33
  },
  {
   "metadata": {},
   "cell_type": "markdown",
   "source": "Существует дисбаланс классов, соотношение 3 к 1. Когда существует дисбаланс классов лучше использовать f1 меру."
  },
  {
   "cell_type": "markdown",
   "metadata": {
    "id": "xB_ReQ62tWct"
   },
   "source": [
    "### 3. Постройте baseline-модель:\n",
    "- разбейте TrainData на тренировочные (Train) и тестовые данные (Test);\n",
    "- обучите LogisticRegression и SVC с параметрами по умолчанию на тренировочных данных (Train);\n",
    "- примените модели на тестовых данных (Test)."
   ]
  },
  {
   "cell_type": "code",
   "metadata": {
    "id": "WUfRVj5ctWcu",
    "ExecuteTime": {
     "end_time": "2024-12-03T13:24:12.757357Z",
     "start_time": "2024-12-03T13:24:12.748560Z"
    }
   },
   "source": [
    "from sklearn.metrics import f1_score\n",
    "from sklearn.model_selection import train_test_split\n",
    "\n",
    "X = Xtrain.drop('target', axis=1)\n",
    "y = Xtrain['target']\n",
    "\n",
    "# Разобьем выборку на тренировочну и тестовую\n",
    "X_train, X_test, y_train, y_test = train_test_split(X, y, test_size=0.2, random_state=42, stratify=y)"
   ],
   "outputs": [],
   "execution_count": 57
  },
  {
   "metadata": {
    "ExecuteTime": {
     "end_time": "2024-12-03T13:24:18.152939Z",
     "start_time": "2024-12-03T13:24:18.123848Z"
    }
   },
   "cell_type": "code",
   "source": [
    "# Ваш код здесь\n",
    "from sklearn.linear_model import LogisticRegression\n",
    "\n",
    "lg = LogisticRegression()\n",
    "lg.fit(X_train, y_train)\n",
    "y_pred_train = lg.predict(X_train)\n",
    "y_pred_test = lg.predict(X_test)\n",
    "print('f1 train', f1_score(y_train, y_pred_train, average='binary'))\n",
    "print('f1 test', f1_score(y_test, y_pred_test, average='binary'))"
   ],
   "outputs": [
    {
     "name": "stdout",
     "output_type": "stream",
     "text": [
      "f1 train 0.3878724516466283\n",
      "f1 test 0.41140529531568226\n"
     ]
    },
    {
     "name": "stderr",
     "output_type": "stream",
     "text": [
      "C:\\Users\\Dell 5531\\PycharmProjects\\GB_Python_for_DS\\.venv\\Lib\\site-packages\\sklearn\\linear_model\\_logistic.py:469: ConvergenceWarning: lbfgs failed to converge (status=1):\n",
      "STOP: TOTAL NO. of ITERATIONS REACHED LIMIT.\n",
      "\n",
      "Increase the number of iterations (max_iter) or scale the data as shown in:\n",
      "    https://scikit-learn.org/stable/modules/preprocessing.html\n",
      "Please also refer to the documentation for alternative solver options:\n",
      "    https://scikit-learn.org/stable/modules/linear_model.html#logistic-regression\n",
      "  n_iter_i = _check_optimize_result(\n"
     ]
    }
   ],
   "execution_count": 58
  },
  {
   "metadata": {},
   "cell_type": "markdown",
   "source": "В бэйслайне логистической регрессии модель не сошлась."
  },
  {
   "metadata": {
    "ExecuteTime": {
     "end_time": "2024-12-03T13:24:25.919465Z",
     "start_time": "2024-12-03T13:24:24.747757Z"
    }
   },
   "cell_type": "code",
   "source": [
    "from sklearn.svm import SVC\n",
    "\n",
    "svc = SVC()\n",
    "svc.fit(X_train, y_train)\n",
    "y_pred_train_svc = svc.predict(X_train)\n",
    "y_pred_test_svc = svc.predict(X_test)\n",
    "print('SVC f1 train', f1_score(y_train, y_pred_train_svc, average='binary'))\n",
    "print('SVC f1 test', f1_score(y_test, y_pred_test_svc, average='binary'))"
   ],
   "outputs": [
    {
     "name": "stdout",
     "output_type": "stream",
     "text": [
      "SVC f1 train 0.08254397834912043\n",
      "SVC f1 test 0.10160427807486631\n"
     ]
    }
   ],
   "execution_count": 59
  },
  {
   "metadata": {},
   "cell_type": "markdown",
   "source": "Качество базовой модели опорных векторов очень низкое"
  },
  {
   "metadata": {},
   "cell_type": "markdown",
   "source": [
    "### 4. Улучшите модели\n",
    "Попробуйте улучшить качество обученных моделей:\n",
    "- можете задавать class_weights;\n",
    "- можете изменять параметры модели;\n",
    "- можете вручную или при помощи методов Python генерировать новые признаки и/или удалять существующие.\n",
    "\n",
    "Это самая важная и творческая часть задания. Проводите как можно больше экспериментов!\n",
    "\n",
    "Проведите минимиум три эксперимента: для каждого типа модели минимум один эксперимент."
   ]
  },
  {
   "cell_type": "code",
   "metadata": {
    "id": "ZJrKNIw8tWcw",
    "ExecuteTime": {
     "end_time": "2024-12-03T13:24:32.305247Z",
     "start_time": "2024-12-03T13:24:32.286892Z"
    }
   },
   "source": [
    "# Ваш код здесь\n",
    "from sklearn.preprocessing import StandardScaler\n",
    "\n",
    "scale = StandardScaler()\n",
    "X_train_scale = scale.fit_transform(X_train)\n",
    "X_test_scale = scale.fit_transform(X_test)\n",
    "\n",
    "lg = LogisticRegression(solver='liblinear', class_weight='balanced', random_state=42)\n",
    "lg.fit(X_train_scale, y_train)\n",
    "y_pred_scale = lg.predict(X_train_scale)\n",
    "y_pred_test_scale = lg.predict(X_test_scale)\n",
    "print('f1 train', f1_score(y_train, y_pred_scale, average='binary'))\n",
    "print('f1 test', f1_score(y_test, y_pred_test_scale, average='binary'))"
   ],
   "outputs": [
    {
     "name": "stdout",
     "output_type": "stream",
     "text": [
      "f1 train 0.6869145614533069\n",
      "f1 test 0.6682134570765661\n"
     ]
    }
   ],
   "execution_count": 60
  },
  {
   "metadata": {
    "ExecuteTime": {
     "end_time": "2024-12-03T13:24:36.127212Z",
     "start_time": "2024-12-03T13:24:35.202313Z"
    }
   },
   "cell_type": "code",
   "source": [
    "svc = SVC()\n",
    "svc.fit(X_train_scale, y_train)\n",
    "y_pred_train_svc = svc.predict(X_train_scale)\n",
    "y_pred_test_svc = svc.predict(X_test_scale)\n",
    "print('SVC f1 train', f1_score(y_train, y_pred_train_svc, average='binary'))\n",
    "print('SVC f1 test', f1_score(y_test, y_pred_test_svc, average='binary'))"
   ],
   "outputs": [
    {
     "name": "stdout",
     "output_type": "stream",
     "text": [
      "SVC f1 train 0.7180085569817192\n",
      "SVC f1 test 0.6573643410852713\n"
     ]
    }
   ],
   "execution_count": 61
  },
  {
   "metadata": {
    "ExecuteTime": {
     "end_time": "2024-12-03T13:24:42.093621Z",
     "start_time": "2024-12-03T13:24:41.903374Z"
    }
   },
   "cell_type": "code",
   "source": [
    "from sklearn.feature_selection import RFE\n",
    "# Создаем RFE модель и выбираем 10 признаков\n",
    "rfe = RFE(estimator=lg, n_features_to_select=6)\n",
    "rfe = rfe.fit(X, y)\n",
    "\n",
    "# Показываем какие признаки выбраны\n",
    "selected_features = pd.DataFrame({\n",
    "    'Feature': X.columns, \n",
    "    'Ranking': rfe.ranking_\n",
    "})\n",
    "print(selected_features.sort_values(by='Ranking', ascending=False))"
   ],
   "outputs": [
    {
     "name": "stdout",
     "output_type": "stream",
     "text": [
      "   Feature  Ranking\n",
      "2       f3        9\n",
      "1       f2        8\n",
      "10     f11        7\n",
      "11     f12        6\n",
      "8       f9        5\n",
      "12     f13        4\n",
      "0       f1        3\n",
      "4       f5        2\n",
      "5       f6        1\n",
      "3       f4        1\n",
      "9      f10        1\n",
      "7       f8        1\n",
      "6       f7        1\n",
      "13     f14        1\n"
     ]
    }
   ],
   "execution_count": 62
  },
  {
   "metadata": {
    "ExecuteTime": {
     "end_time": "2024-12-03T13:24:45.852038Z",
     "start_time": "2024-12-03T13:24:45.836464Z"
    }
   },
   "cell_type": "code",
   "source": [
    "top_features = selected_features.sort_values(by='Ranking', ascending=False)[:8]\n",
    "X_train_selected = X_train[top_features.Feature]\n",
    "X_test_selected = X_test[top_features.Feature]\n",
    "scale = StandardScaler()\n",
    "X_train_scale = scale.fit_transform(X_train_selected)\n",
    "X_test_scale = scale.fit_transform(X_test_selected)\n",
    "\n",
    "# Обучение логистической регрессии\n",
    "dt = LogisticRegression(solver='liblinear', class_weight='balanced', random_state=42)\n",
    "dt.fit(X_train_scale, y_train)\n",
    "print(f'f1 train {f1_score(y_train, dt.predict(X_train_scale))}')\n",
    "print(f'f1 test {f1_score(y_test, dt.predict(X_test_scale))}')"
   ],
   "outputs": [
    {
     "name": "stdout",
     "output_type": "stream",
     "text": [
      "f1 train 0.5753346624893193\n",
      "f1 test 0.5688073394495413\n"
     ]
    }
   ],
   "execution_count": 63
  },
  {
   "metadata": {},
   "cell_type": "markdown",
   "source": "Стандартизация данных позволила улучшить качество, как модели логистической регрессии, так и модели опорных векторов. Отбор 8 признаков методом RFE не позволил улучшить качество модели."
  },
  {
   "metadata": {
    "ExecuteTime": {
     "end_time": "2024-12-03T13:26:32.399632Z",
     "start_time": "2024-12-03T13:26:32.392387Z"
    }
   },
   "cell_type": "code",
   "source": [
    "from sklearn.feature_selection import SelectKBest, f_classif\n",
    "\n",
    "k_best = SelectKBest(f_classif, k=8).fit(X, y)\n",
    "\n",
    "# Получаем оценки признаков\n",
    "scores = k_best.scores_\n",
    "\n",
    "# Создаем DataFrame для выбранных признаков и их оценок\n",
    "selected_features3 = pd.DataFrame({\n",
    "    'Feature': X.columns,\n",
    "    'Score': scores\n",
    "})\n",
    "\n",
    "# Сортируем по убыванию оценок\n",
    "print(selected_features3.sort_values(by='Score', ascending=False))"
   ],
   "outputs": [
    {
     "name": "stdout",
     "output_type": "stream",
     "text": [
      "   Feature        Score\n",
      "7       f8  1900.491524\n",
      "5       f6  1823.959956\n",
      "6       f7  1303.956393\n",
      "3       f4  1070.749226\n",
      "4       f5   823.552039\n",
      "0       f1   419.929364\n",
      "12     f13   396.470298\n",
      "10     f11   363.296710\n",
      "9      f10   326.467155\n",
      "1       f2   244.577530\n",
      "11     f12   202.031301\n",
      "8       f9    79.017878\n",
      "13     f14    71.240301\n",
      "2       f3     4.865626\n"
     ]
    }
   ],
   "execution_count": 64
  },
  {
   "metadata": {
    "ExecuteTime": {
     "end_time": "2024-12-03T13:51:44.243398Z",
     "start_time": "2024-12-03T13:51:44.225883Z"
    }
   },
   "cell_type": "code",
   "source": [
    "top_features = selected_features3.sort_values(by='Score', ascending=False)[:11]\n",
    "X_train_selected = X_train[top_features.Feature]\n",
    "X_test_selected = X_test[top_features.Feature]\n",
    "scale = StandardScaler()\n",
    "X_train_scale = scale.fit_transform(X_train_selected)\n",
    "X_test_scale = scale.fit_transform(X_test_selected)\n",
    "\n",
    "# Обучение логистическй регрессии\n",
    "lg = LogisticRegression(solver='liblinear', class_weight='balanced', random_state=42)\n",
    "lg.fit(X_train_scale, y_train)\n",
    "print(f'f1 train {f1_score(y_train, lg.predict(X_train_scale))}')\n",
    "print(f'f1 test {f1_score(y_test, lg.predict(X_test_scale))}')"
   ],
   "outputs": [
    {
     "name": "stdout",
     "output_type": "stream",
     "text": [
      "f1 train 0.6878727634194831\n",
      "f1 test 0.6744457409568262\n"
     ]
    }
   ],
   "execution_count": 89
  },
  {
   "metadata": {
    "ExecuteTime": {
     "end_time": "2024-12-03T13:52:14.525745Z",
     "start_time": "2024-12-03T13:52:13.495202Z"
    }
   },
   "cell_type": "code",
   "source": [
    "top_features = selected_features3.sort_values(by='Score', ascending=False)[:11]\n",
    "X_train_selected = X_train[top_features.Feature]\n",
    "X_test_selected = X_test[top_features.Feature]\n",
    "scale = StandardScaler()\n",
    "X_train_scale = scale.fit_transform(X_train_selected)\n",
    "X_test_scale = scale.fit_transform(X_test_selected)\n",
    "\n",
    "# Обучение модели методом опорных векторов\n",
    "svc_top = SVC(class_weight='balanced', random_state=42)\n",
    "svc_top.fit(X_train_scale, y_train)\n",
    "print(f'f1 train {f1_score(y_train, svc_top.predict(X_train_scale))}')\n",
    "print(f'f1 test {f1_score(y_test, svc_top.predict(X_test_scale))}')"
   ],
   "outputs": [
    {
     "name": "stdout",
     "output_type": "stream",
     "text": [
      "f1 train 0.7103274559193955\n",
      "f1 test 0.6912751677852349\n"
     ]
    }
   ],
   "execution_count": 91
  },
  {
   "metadata": {},
   "cell_type": "markdown",
   "source": "Отбор 11 признаков позволил улучшить качество модели логистической регрессии на тестовой выборке с 0.668 до 0.674, и качество модели опорных векторов с 0.657 до 0.691 на тестовой выборке"
  },
  {
   "metadata": {
    "ExecuteTime": {
     "end_time": "2024-12-03T13:38:10.720961Z",
     "start_time": "2024-12-03T13:38:10.669191Z"
    }
   },
   "cell_type": "code",
   "source": [
    "for c in [0.01, 0.1, 1, 10, 100]:\n",
    "    lg = LogisticRegression(C=c, solver='liblinear', class_weight='balanced', random_state=42)\n",
    "    lg.fit(X_train_scale, y_train) \n",
    "    y_pred = lg.predict(X_test_scale)\n",
    "    print('C=',c, end='\\t')\n",
    "    print('f1', round(f1_score(y_test, y_pred, average='binary'),3))"
   ],
   "outputs": [
    {
     "name": "stdout",
     "output_type": "stream",
     "text": [
      "C= 0.01\tf1 0.659\n",
      "C= 0.1\tf1 0.669\n",
      "C= 1\tf1 0.674\n",
      "C= 10\tf1 0.675\n",
      "C= 100\tf1 0.675\n"
     ]
    }
   ],
   "execution_count": 77
  },
  {
   "metadata": {
    "ExecuteTime": {
     "end_time": "2024-12-03T13:39:58.560115Z",
     "start_time": "2024-12-03T13:39:58.491399Z"
    }
   },
   "cell_type": "code",
   "source": [
    "for solver in ['lbfgs', 'liblinear', 'newton-cg', 'newton-cholesky', 'sag', 'saga']:\n",
    "    lg = LogisticRegression(solver=solver, class_weight='balanced', random_state=42)\n",
    "    lg.fit(X_train_scale, y_train) \n",
    "    y_pred = lg.predict(X_test_scale)\n",
    "    print('solver=',solver, end='\\t\\t\\t')\n",
    "    print('f1', round(f1_score(y_test, y_pred, average='binary'),3))\n"
   ],
   "outputs": [
    {
     "name": "stdout",
     "output_type": "stream",
     "text": [
      "solver= lbfgs\t\t\tf1 0.675\n",
      "solver= liblinear\t\t\tf1 0.674\n",
      "solver= newton-cg\t\t\tf1 0.675\n",
      "solver= newton-cholesky\t\t\tf1 0.675\n",
      "solver= sag\t\t\tf1 0.675\n",
      "solver= saga\t\t\tf1 0.675\n"
     ]
    }
   ],
   "execution_count": 80
  },
  {
   "metadata": {},
   "cell_type": "markdown",
   "source": "Подбор разных солверов и подор параметра  С в модели логистической регрессии не позволили улучшить результат модели."
  },
  {
   "metadata": {
    "ExecuteTime": {
     "end_time": "2024-12-03T13:43:15.843579Z",
     "start_time": "2024-12-03T13:43:13.049204Z"
    }
   },
   "cell_type": "code",
   "source": [
    "for c in [0.01, 0.1, 1, 10, 100]:\n",
    "    svc = SVC(C=c, class_weight='balanced', random_state=42)\n",
    "    svc.fit(X_train_scale, y_train) \n",
    "    y_pred = svc.predict(X_test_scale)\n",
    "    print('C=',c, end='\\t')\n",
    "    print('f1', round(f1_score(y_test, y_pred, average='binary'),3))"
   ],
   "outputs": [
    {
     "name": "stdout",
     "output_type": "stream",
     "text": [
      "C= 0.01\tf1 0.599\n",
      "C= 0.1\tf1 0.66\n",
      "C= 1\tf1 0.691\n",
      "C= 10\tf1 0.691\n",
      "C= 100\tf1 0.691\n"
     ]
    }
   ],
   "execution_count": 83
  },
  {
   "metadata": {
    "ExecuteTime": {
     "end_time": "2024-12-03T13:45:57.953860Z",
     "start_time": "2024-12-03T13:45:56.382785Z"
    }
   },
   "cell_type": "code",
   "source": [
    "for kernel in ['linear', 'poly', 'rbf', 'sigmoid']:\n",
    "    svc = SVC(class_weight='balanced', random_state=42, kernel=kernel)\n",
    "    svc.fit(X_train_scale, y_train) \n",
    "    y_pred = svc.predict(X_test_scale)\n",
    "    print('kernel=',kernel, end='\\t\\t\\t')\n",
    "    print('f1', round(f1_score(y_test, y_pred, average='binary'),3))"
   ],
   "outputs": [
    {
     "name": "stdout",
     "output_type": "stream",
     "text": [
      "kernel= linear\t\t\tf1 0.654\n",
      "kernel= poly\t\t\tf1 0.672\n",
      "kernel= rbf\t\t\tf1 0.691\n",
      "kernel= sigmoid\t\t\tf1 0.575\n"
     ]
    }
   ],
   "execution_count": 86
  },
  {
   "metadata": {},
   "cell_type": "markdown",
   "source": "Модель ядра по умолчанию rbf, в данном случае опказало наилучший результат."
  },
  {
   "cell_type": "markdown",
   "metadata": {
    "id": "yfu3yy_7tWcy"
   },
   "source": [
    "### 5. Оцените на отложенной выборке качество наилучшей модели\n",
    "В пунктах 3 и 4 вы построили много разных моделей.\n",
    "\n",
    "Возьмите ту, которая дала наилучшее качество на тестовых данных (Test). Примените её на отложенной выборке (TestData) и выведите на экран значение метрики f1."
   ]
  },
  {
   "cell_type": "code",
   "metadata": {
    "id": "upHUOfrktWcy",
    "ExecuteTime": {
     "end_time": "2024-12-03T13:54:57.338056Z",
     "start_time": "2024-12-03T13:54:57.100477Z"
    }
   },
   "source": [
    "# Ваш код здесь\n",
    "X = Xtest.drop(columns=['target'], axis=1)\n",
    "y = Xtest.target\n",
    "X_test_selected = X[top_features.Feature]\n",
    "scale = StandardScaler()\n",
    "X_scale = scale.fit_transform(X_test_selected)\n",
    "print(f'f1 test {f1_score(y, svc.predict(X_scale))}')"
   ],
   "outputs": [
    {
     "name": "stdout",
     "output_type": "stream",
     "text": [
      "f1 test 0.5588235294117647\n"
     ]
    }
   ],
   "execution_count": 95
  },
  {
   "cell_type": "markdown",
   "metadata": {
    "id": "YZT0rMuStWcz"
   },
   "source": [
    "### 6. Выполните хитрый трюк\n",
    "Часто смешивание различных моделей даёт улучшение итогового предсказания. Попробуйте смешать две лучшие модели по формуле:\n",
    "$$pred_{final} = \\alpha\\cdot pred_1 + (1-\\alpha)\\cdot pred_2$$.\n",
    "\n",
    "Значение $\\alpha$ подберите в цикле по Test-выборке. Оцените качество на отложенной выборке.\n",
    "\n",
    "Удалось ли добиться улучшения качества?"
   ]
  },
  {
   "cell_type": "code",
   "metadata": {
    "id": "3DdSsk6gtWc7",
    "ExecuteTime": {
     "end_time": "2024-12-03T14:05:09.514198Z",
     "start_time": "2024-12-03T14:04:49.859707Z"
    }
   },
   "source": [
    "# Ваш код здесь\n",
    "for alpha in [0.1, 0.2, 0.3, 0.4, 0.5, 0.6, 0.7, 0.8, 0.9]:\n",
    "    for threshold in [0.1, 0.2, 0.3, 0.4, 0.5, 0.6, 0.7, 0.8, 0.9]:\n",
    "        pred_final = svc_top.predict(X_scale) * alpha + lg.predict(X_scale) * (1 - alpha)\n",
    "        pred = (pred_final > threshold).astype(int)\n",
    "        print(f'{alpha=} {threshold=}, f1= {f1_score(y, pred):.3f}')"
   ],
   "outputs": [
    {
     "name": "stdout",
     "output_type": "stream",
     "text": [
      "alpha=0.1 threshold=0.1, f1= 0.520\n",
      "alpha=0.1 threshold=0.2, f1= 0.520\n",
      "alpha=0.1 threshold=0.3, f1= 0.520\n",
      "alpha=0.1 threshold=0.4, f1= 0.520\n",
      "alpha=0.1 threshold=0.5, f1= 0.520\n",
      "alpha=0.1 threshold=0.6, f1= 0.520\n",
      "alpha=0.1 threshold=0.7, f1= 0.520\n",
      "alpha=0.1 threshold=0.8, f1= 0.520\n",
      "alpha=0.1 threshold=0.9, f1= 0.501\n",
      "alpha=0.2 threshold=0.1, f1= 0.572\n",
      "alpha=0.2 threshold=0.2, f1= 0.520\n",
      "alpha=0.2 threshold=0.3, f1= 0.520\n",
      "alpha=0.2 threshold=0.4, f1= 0.520\n",
      "alpha=0.2 threshold=0.5, f1= 0.520\n",
      "alpha=0.2 threshold=0.6, f1= 0.520\n",
      "alpha=0.2 threshold=0.7, f1= 0.520\n",
      "alpha=0.2 threshold=0.8, f1= 0.501\n",
      "alpha=0.2 threshold=0.9, f1= 0.501\n",
      "alpha=0.3 threshold=0.1, f1= 0.572\n",
      "alpha=0.3 threshold=0.2, f1= 0.572\n",
      "alpha=0.3 threshold=0.3, f1= 0.520\n",
      "alpha=0.3 threshold=0.4, f1= 0.520\n",
      "alpha=0.3 threshold=0.5, f1= 0.520\n",
      "alpha=0.3 threshold=0.6, f1= 0.520\n",
      "alpha=0.3 threshold=0.7, f1= 0.501\n",
      "alpha=0.3 threshold=0.8, f1= 0.501\n",
      "alpha=0.3 threshold=0.9, f1= 0.501\n",
      "alpha=0.4 threshold=0.1, f1= 0.572\n",
      "alpha=0.4 threshold=0.2, f1= 0.572\n",
      "alpha=0.4 threshold=0.3, f1= 0.572\n",
      "alpha=0.4 threshold=0.4, f1= 0.520\n",
      "alpha=0.4 threshold=0.5, f1= 0.520\n",
      "alpha=0.4 threshold=0.6, f1= 0.501\n",
      "alpha=0.4 threshold=0.7, f1= 0.501\n",
      "alpha=0.4 threshold=0.8, f1= 0.501\n",
      "alpha=0.4 threshold=0.9, f1= 0.501\n",
      "alpha=0.5 threshold=0.1, f1= 0.572\n",
      "alpha=0.5 threshold=0.2, f1= 0.572\n",
      "alpha=0.5 threshold=0.3, f1= 0.572\n",
      "alpha=0.5 threshold=0.4, f1= 0.572\n",
      "alpha=0.5 threshold=0.5, f1= 0.501\n",
      "alpha=0.5 threshold=0.6, f1= 0.501\n",
      "alpha=0.5 threshold=0.7, f1= 0.501\n",
      "alpha=0.5 threshold=0.8, f1= 0.501\n",
      "alpha=0.5 threshold=0.9, f1= 0.501\n",
      "alpha=0.6 threshold=0.1, f1= 0.572\n",
      "alpha=0.6 threshold=0.2, f1= 0.572\n",
      "alpha=0.6 threshold=0.3, f1= 0.572\n",
      "alpha=0.6 threshold=0.4, f1= 0.559\n",
      "alpha=0.6 threshold=0.5, f1= 0.559\n",
      "alpha=0.6 threshold=0.6, f1= 0.501\n",
      "alpha=0.6 threshold=0.7, f1= 0.501\n",
      "alpha=0.6 threshold=0.8, f1= 0.501\n",
      "alpha=0.6 threshold=0.9, f1= 0.501\n",
      "alpha=0.7 threshold=0.1, f1= 0.572\n",
      "alpha=0.7 threshold=0.2, f1= 0.572\n",
      "alpha=0.7 threshold=0.3, f1= 0.572\n",
      "alpha=0.7 threshold=0.4, f1= 0.559\n",
      "alpha=0.7 threshold=0.5, f1= 0.559\n",
      "alpha=0.7 threshold=0.6, f1= 0.559\n",
      "alpha=0.7 threshold=0.7, f1= 0.501\n",
      "alpha=0.7 threshold=0.8, f1= 0.501\n",
      "alpha=0.7 threshold=0.9, f1= 0.501\n",
      "alpha=0.8 threshold=0.1, f1= 0.572\n",
      "alpha=0.8 threshold=0.2, f1= 0.559\n",
      "alpha=0.8 threshold=0.3, f1= 0.559\n",
      "alpha=0.8 threshold=0.4, f1= 0.559\n",
      "alpha=0.8 threshold=0.5, f1= 0.559\n",
      "alpha=0.8 threshold=0.6, f1= 0.559\n",
      "alpha=0.8 threshold=0.7, f1= 0.559\n",
      "alpha=0.8 threshold=0.8, f1= 0.501\n",
      "alpha=0.8 threshold=0.9, f1= 0.501\n",
      "alpha=0.9 threshold=0.1, f1= 0.559\n",
      "alpha=0.9 threshold=0.2, f1= 0.559\n",
      "alpha=0.9 threshold=0.3, f1= 0.559\n",
      "alpha=0.9 threshold=0.4, f1= 0.559\n",
      "alpha=0.9 threshold=0.5, f1= 0.559\n",
      "alpha=0.9 threshold=0.6, f1= 0.559\n",
      "alpha=0.9 threshold=0.7, f1= 0.559\n",
      "alpha=0.9 threshold=0.8, f1= 0.559\n",
      "alpha=0.9 threshold=0.9, f1= 0.501\n"
     ]
    }
   ],
   "execution_count": 105
  },
  {
   "metadata": {},
   "cell_type": "markdown",
   "source": "Наилучшее качество на отложенной выборке получилось 0.572 при threshold < 0.3 и alpha < 0.7"
  },
  {
   "cell_type": "markdown",
   "metadata": {
    "id": "9b9imFkLtWc8"
   },
   "source": [
    "### 7. Сделайте выводы\n",
    "\n",
    "Запишите в отдельной ячейке текстом выводы о проделанной работе. Для этого ответьте на вопросы:\n",
    "- Какие подходы вы использовали для улучшения работы baseline-моделей?\n",
    "- Какого максимального качества удалось добиться на Test-данных?\n",
    "- Какое при этом получилось качество на отложенной выборке?\n",
    "- Ваша модель переобучилась, недообучилась или обучилась как надо?"
   ]
  },
  {
   "metadata": {},
   "cell_type": "markdown",
   "source": [
    "Для улучшение baseline-модели были сделаны следующие шаги:\n",
    "- стандартизация данных;\n",
    "- применена стратификация данных;\n",
    "- для модели логистической регрессии применен применена балансировка данных по классам;\n",
    "- произведен отбор признаков, методами RFE и SelectKBest\n",
    "\n",
    "Отбор 11 признаков позволил улучшить качество модели логистической регрессии на тестовой выборке до 0.674, и качество модели опорных векторов до 0.691 на тестовой выборке\n",
    "\n",
    "На отложенной выборке удалось достичь качества = 0.572. Модель не дообучилась."
   ]
  },
  {
   "cell_type": "markdown",
   "metadata": {
    "id": "cnFjm55atWc-"
   },
   "source": [
    "Важный комментарий! В реальных задачах не следует ожидать, что машинным обучением всегда удастся решить задачу с хорошим качеством. Но использовать все имеющиеся у вас в арсенале методы для достижения наилучшего результата нужно."
   ]
  }
 ],
 "metadata": {
  "kernelspec": {
   "display_name": "Python 3",
   "language": "python",
   "name": "python3"
  },
  "language_info": {
   "codemirror_mode": {
    "name": "ipython",
    "version": 3
   },
   "file_extension": ".py",
   "mimetype": "text/x-python",
   "name": "python",
   "nbconvert_exporter": "python",
   "pygments_lexer": "ipython3",
   "version": "3.7.6"
  },
  "colab": {
   "provenance": []
  }
 },
 "nbformat": 4,
 "nbformat_minor": 0
}
