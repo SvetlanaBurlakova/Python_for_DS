{
 "cells": [
  {
   "metadata": {
    "ExecuteTime": {
     "end_time": "2024-11-29T09:29:07.973156Z",
     "start_time": "2024-11-29T09:29:07.969992Z"
    }
   },
   "cell_type": "code",
   "source": [
    "import numpy as np\n",
    "\n",
    "actual_values = np.array([100, 150, 200, 250])\n",
    "predicted_values = np.array([90, 140, 180, 270])"
   ],
   "id": "fa1bd7621e7d59d5",
   "outputs": [],
   "execution_count": 8
  },
  {
   "metadata": {
    "ExecuteTime": {
     "end_time": "2024-11-29T09:29:28.063242Z",
     "start_time": "2024-11-29T09:29:28.059126Z"
    }
   },
   "cell_type": "code",
   "source": [
    "MAE = np.mean(np.abs(actual_values - predicted_values))\n",
    "MAE"
   ],
   "id": "35050047ddafdb6b",
   "outputs": [
    {
     "data": {
      "text/plain": [
       "np.float64(15.0)"
      ]
     },
     "execution_count": 9,
     "metadata": {},
     "output_type": "execute_result"
    }
   ],
   "execution_count": 9
  },
  {
   "metadata": {
    "ExecuteTime": {
     "end_time": "2024-11-29T09:35:15.132473Z",
     "start_time": "2024-11-29T09:35:15.128170Z"
    }
   },
   "cell_type": "code",
   "source": [
    "MSE = np.mean((actual_values - predicted_values)**2)\n",
    "MSE"
   ],
   "id": "b0a4d7e485af4d9a",
   "outputs": [
    {
     "data": {
      "text/plain": [
       "np.float64(250.0)"
      ]
     },
     "execution_count": 10,
     "metadata": {},
     "output_type": "execute_result"
    }
   ],
   "execution_count": 10
  },
  {
   "metadata": {},
   "cell_type": "markdown",
   "source": "Чем больше значение MAE, MSE - тем качество предсказанных данных хуже. MAE показывает величину ошибки, по MSE же сложно оценить величину ошибки, так как разница возводится в квадрат, кроме того, MSE будет сильнее реагировать на выбросы в данных.",
   "id": "40be30c794431572"
  },
  {
   "metadata": {},
   "cell_type": "code",
   "outputs": [],
   "execution_count": null,
   "source": "",
   "id": "797d0e6d509f6b6b"
  }
 ],
 "metadata": {
  "kernelspec": {
   "display_name": "Python 3",
   "language": "python",
   "name": "python3"
  },
  "language_info": {
   "codemirror_mode": {
    "name": "ipython",
    "version": 2
   },
   "file_extension": ".py",
   "mimetype": "text/x-python",
   "name": "python",
   "nbconvert_exporter": "python",
   "pygments_lexer": "ipython2",
   "version": "2.7.6"
  }
 },
 "nbformat": 4,
 "nbformat_minor": 5
}
